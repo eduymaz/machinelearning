{
 "cells": [
  {
   "cell_type": "markdown",
   "id": "bf823939-bd49-42b2-b2d9-fbe464f9e06e",
   "metadata": {},
   "source": [
    "# 🎯 İşe Alımda Aday Seçimi: SVM ile Başvuru Değerlendirme"
   ]
  },
  {
   "cell_type": "code",
   "execution_count": 1,
   "id": "cc2db007-d4d3-42b7-80cd-9d05a3f719ce",
   "metadata": {},
   "outputs": [],
   "source": [
    "import pandas as pd\n",
    "import numpy as np\n",
    "import random\n",
    "from sklearn.model_selection import train_test_split\n",
    "from sklearn.preprocessing import StandardScaler\n",
    "from sklearn.svm import SVC\n",
    "from sklearn.metrics import accuracy_score, confusion_matrix, classification_report\n",
    "import matplotlib.pyplot as plt\n",
    "import seaborn as sns\n",
    "import joblib\n",
    "from datetime import datetime, timedelta"
   ]
  },
  {
   "cell_type": "code",
   "execution_count": 2,
   "id": "28b9c367-83b3-41f5-a53f-d0e1d3dcbaa2",
   "metadata": {},
   "outputs": [],
   "source": [
    "def generate_candidate_data(num_candidates=200):\n",
    "    candidates = []\n",
    "    \n",
    "    for i in range(num_candidates):\n",
    "        # Tecrübe yılı (0-10 arası)\n",
    "        experience = round(random.uniform(0, 10), 1)\n",
    "        \n",
    "        # Teknik puan (0-100 arası)\n",
    "        technical_score = round(random.uniform(0, 100), 1)\n",
    "        \n",
    "        # Etiketleme kriteri\n",
    "        if experience < 2 and technical_score < 60:\n",
    "            label = 1  # İşe alınmadı\n",
    "        else:\n",
    "            label = 0  # İşe alındı\n",
    "            \n",
    "        candidate = {\n",
    "            'aday_id': i + 1,\n",
    "            'tecrube_yili': experience,\n",
    "            'teknik_puan': technical_score,\n",
    "            'etiket': label,\n",
    "            'basvuru_tarihi': datetime.now() - timedelta(days=random.randint(1, 365))\n",
    "        }\n",
    "        \n",
    "        candidates.append(candidate)\n",
    "    \n",
    "    return pd.DataFrame(candidates)"
   ]
  },
  {
   "cell_type": "code",
   "execution_count": 4,
   "id": "f2728b70-c02e-4678-beb8-5281bde66302",
   "metadata": {},
   "outputs": [
    {
     "data": {
      "text/html": [
       "<div>\n",
       "<style scoped>\n",
       "    .dataframe tbody tr th:only-of-type {\n",
       "        vertical-align: middle;\n",
       "    }\n",
       "\n",
       "    .dataframe tbody tr th {\n",
       "        vertical-align: top;\n",
       "    }\n",
       "\n",
       "    .dataframe thead th {\n",
       "        text-align: right;\n",
       "    }\n",
       "</style>\n",
       "<table border=\"1\" class=\"dataframe\">\n",
       "  <thead>\n",
       "    <tr style=\"text-align: right;\">\n",
       "      <th></th>\n",
       "      <th>aday_id</th>\n",
       "      <th>tecrube_yili</th>\n",
       "      <th>teknik_puan</th>\n",
       "      <th>etiket</th>\n",
       "      <th>basvuru_tarihi</th>\n",
       "    </tr>\n",
       "  </thead>\n",
       "  <tbody>\n",
       "    <tr>\n",
       "      <th>0</th>\n",
       "      <td>1</td>\n",
       "      <td>5.3</td>\n",
       "      <td>31.7</td>\n",
       "      <td>0</td>\n",
       "      <td>2024-09-13 16:10:48.681845</td>\n",
       "    </tr>\n",
       "    <tr>\n",
       "      <th>1</th>\n",
       "      <td>2</td>\n",
       "      <td>1.8</td>\n",
       "      <td>91.1</td>\n",
       "      <td>0</td>\n",
       "      <td>2024-08-08 16:10:48.681891</td>\n",
       "    </tr>\n",
       "    <tr>\n",
       "      <th>2</th>\n",
       "      <td>3</td>\n",
       "      <td>9.8</td>\n",
       "      <td>63.6</td>\n",
       "      <td>0</td>\n",
       "      <td>2025-01-23 16:10:48.681898</td>\n",
       "    </tr>\n",
       "    <tr>\n",
       "      <th>3</th>\n",
       "      <td>4</td>\n",
       "      <td>0.8</td>\n",
       "      <td>13.1</td>\n",
       "      <td>1</td>\n",
       "      <td>2025-01-28 16:10:48.681903</td>\n",
       "    </tr>\n",
       "    <tr>\n",
       "      <th>4</th>\n",
       "      <td>5</td>\n",
       "      <td>2.0</td>\n",
       "      <td>86.2</td>\n",
       "      <td>0</td>\n",
       "      <td>2025-01-25 16:10:48.681914</td>\n",
       "    </tr>\n",
       "  </tbody>\n",
       "</table>\n",
       "</div>"
      ],
      "text/plain": [
       "   aday_id  tecrube_yili  teknik_puan  etiket             basvuru_tarihi\n",
       "0        1           5.3         31.7       0 2024-09-13 16:10:48.681845\n",
       "1        2           1.8         91.1       0 2024-08-08 16:10:48.681891\n",
       "2        3           9.8         63.6       0 2025-01-23 16:10:48.681898\n",
       "3        4           0.8         13.1       1 2025-01-28 16:10:48.681903\n",
       "4        5           2.0         86.2       0 2025-01-25 16:10:48.681914"
      ]
     },
     "execution_count": 4,
     "metadata": {},
     "output_type": "execute_result"
    }
   ],
   "source": [
    "# fonksiyon ile verinin oluşturulması : \n",
    "candidates_df = generate_candidate_data()\n",
    "\n",
    "# İlk 5 adayı göster\n",
    "candidates_df.head()"
   ]
  },
  {
   "cell_type": "code",
   "execution_count": 6,
   "id": "97cdffbd-41e9-4a3b-a18b-4a19536b6440",
   "metadata": {
    "scrolled": true
   },
   "outputs": [],
   "source": [
    "candidates_df.to_csv('candidates.csv', index=False)"
   ]
  },
  {
   "cell_type": "markdown",
   "id": "4e2aa385-b371-4b3e-8883-b103cf3bd1ec",
   "metadata": {},
   "source": [
    "### 2. Veri İstatistikleri :"
   ]
  },
  {
   "cell_type": "code",
   "execution_count": 7,
   "id": "e2097d52-755a-40ec-8e43-7d1083e60630",
   "metadata": {},
   "outputs": [
    {
     "name": "stdout",
     "output_type": "stream",
     "text": [
      "Veri İstatistikleri:\n",
      "Toplam Aday Sayısı: 200\n",
      "İşe Alınan Aday Sayısı: 171\n",
      "İşe Alınmayan Aday Sayısı: 29\n",
      "\n",
      "Tecrübe Yılı İstatistikleri:\n",
      "count    200.000000\n",
      "mean       5.046000\n",
      "std        3.014335\n",
      "min        0.100000\n",
      "25%        2.300000\n",
      "50%        5.250000\n",
      "75%        7.700000\n",
      "max       10.000000\n",
      "Name: tecrube_yili, dtype: float64\n",
      "\n",
      "Teknik Puan İstatistikleri:\n",
      "count    200.000000\n",
      "mean      48.219500\n",
      "std       28.057974\n",
      "min        0.100000\n",
      "25%       25.750000\n",
      "50%       46.350000\n",
      "75%       71.400000\n",
      "max       99.900000\n",
      "Name: teknik_puan, dtype: float64\n"
     ]
    }
   ],
   "source": [
    "print(\"Veri İstatistikleri:\")\n",
    "print(f\"Toplam Aday Sayısı: {len(candidates_df)}\")\n",
    "print(f\"İşe Alınan Aday Sayısı: {len(candidates_df[candidates_df['etiket'] == 0])}\")\n",
    "print(f\"İşe Alınmayan Aday Sayısı: {len(candidates_df[candidates_df['etiket'] == 1])}\")\n",
    "\n",
    "print(\"\\nTecrübe Yılı İstatistikleri:\")\n",
    "print(candidates_df['tecrube_yili'].describe())\n",
    "\n",
    "print(\"\\nTeknik Puan İstatistikleri:\")\n",
    "print(candidates_df['teknik_puan'].describe())"
   ]
  },
  {
   "cell_type": "markdown",
   "id": "23ea3ee4-e1d9-4980-ad1c-aae594d62c8a",
   "metadata": {},
   "source": [
    "### 3. Veri Ön İşleme : "
   ]
  },
  {
   "cell_type": "code",
   "execution_count": 9,
   "id": "96387cb8-9b91-473e-804b-6bdde9f04ec8",
   "metadata": {},
   "outputs": [],
   "source": [
    "# Özellikler ve hedef değişkenlerin ayrılması : \n",
    "X = candidates_df[['tecrube_yili', 'teknik_puan']]\n",
    "y = candidates_df['etiket']"
   ]
  },
  {
   "cell_type": "code",
   "execution_count": 10,
   "id": "38ca2518-1a1d-4126-9a06-2de1af600194",
   "metadata": {},
   "outputs": [],
   "source": [
    "# Veriyi eğitim ve test olarak ayırılması : \n",
    "X_train, X_test, y_train, y_test = train_test_split(\n",
    "    X, y, test_size=0.2, random_state=42\n",
    ")"
   ]
  },
  {
   "cell_type": "code",
   "execution_count": 11,
   "id": "99352f99-5cd5-4d88-b1d3-7f9122684cce",
   "metadata": {},
   "outputs": [],
   "source": [
    "# Veriyi ölçeklendirme : \n",
    "scaler = StandardScaler()\n",
    "X_train_scaled = scaler.fit_transform(X_train)\n",
    "X_test_scaled = scaler.transform(X_test)"
   ]
  },
  {
   "cell_type": "code",
   "execution_count": 12,
   "id": "96095a16-5cd0-400f-85b2-8051dcc9de38",
   "metadata": {},
   "outputs": [
    {
     "name": "stdout",
     "output_type": "stream",
     "text": [
      "Eğitim seti boyutu: (160, 2)\n",
      "Test seti boyutu: (40, 2)\n"
     ]
    }
   ],
   "source": [
    "print(\"Eğitim seti boyutu:\", X_train_scaled.shape)\n",
    "print(\"Test seti boyutu:\", X_test_scaled.shape)"
   ]
  },
  {
   "cell_type": "markdown",
   "id": "0768f4e0-061d-44e2-ba75-f49e6d7a6d5d",
   "metadata": {},
   "source": [
    "### 4. Model Eğitimi : "
   ]
  },
  {
   "cell_type": "code",
   "execution_count": 13,
   "id": "6899c569-0e18-4080-9d47-c32f5545865b",
   "metadata": {},
   "outputs": [
    {
     "name": "stdout",
     "output_type": "stream",
     "text": [
      "Model eğitimi tamamlandı.\n"
     ]
    }
   ],
   "source": [
    "model = SVC(kernel='linear', random_state=42)\n",
    "model.fit(X_train_scaled, y_train)\n",
    "\n",
    "print(\"Model eğitimi tamamlandı.\")"
   ]
  },
  {
   "cell_type": "markdown",
   "id": "cbf9a4bd-107f-4045-a728-726267527706",
   "metadata": {},
   "source": [
    "### 5. Model Değerlendirilmesi :"
   ]
  },
  {
   "cell_type": "code",
   "execution_count": 14,
   "id": "fb4eb2bd-57f1-4b4a-9b03-67a54af64fe0",
   "metadata": {},
   "outputs": [
    {
     "name": "stdout",
     "output_type": "stream",
     "text": [
      "Accuracy: 0.9250\n"
     ]
    }
   ],
   "source": [
    "# Tahmin\n",
    "y_pred = model.predict(X_test_scaled)\n",
    "\n",
    "# Accuracy\n",
    "accuracy = accuracy_score(y_test, y_pred)\n",
    "print(f\"Accuracy: {accuracy:.4f}\")"
   ]
  },
  {
   "cell_type": "code",
   "execution_count": 15,
   "id": "f2f49deb-bc77-49ad-80bf-4903750fb562",
   "metadata": {},
   "outputs": [
    {
     "data": {
      "image/png": "[encoded data removed]",
      "text/plain": [
       "<Figure size 800x600 with 2 Axes>"
      ]
     },
     "metadata": {},
     "output_type": "display_data"
    }
   ],
   "source": [
    "# Confusion Matrix\n",
    "cm = confusion_matrix(y_test, y_pred)\n",
    "plt.figure(figsize=(8, 6))\n",
    "sns.heatmap(cm, annot=True, fmt='d', cmap='Blues')\n",
    "plt.title('Confusion Matrix')\n",
    "plt.xlabel('Tahmin Edilen')\n",
    "plt.ylabel('Gerçek')\n",
    "plt.show()"
   ]
  },
  {
   "cell_type": "code",
   "execution_count": 16,
   "id": "1aba3a44-20d3-4d50-a92b-056a9d8662a1",
   "metadata": {},
   "outputs": [
    {
     "name": "stdout",
     "output_type": "stream",
     "text": [
      "\n",
      "Classification Report:\n",
      "              precision    recall  f1-score   support\n",
      "\n",
      "           0       0.97      0.95      0.96        38\n",
      "           1       0.33      0.50      0.40         2\n",
      "\n",
      "    accuracy                           0.93        40\n",
      "   macro avg       0.65      0.72      0.68        40\n",
      "weighted avg       0.94      0.93      0.93        40\n",
      "\n"
     ]
    }
   ],
   "source": [
    "# Classification Report\n",
    "print(\"\\nClassification Report:\")\n",
    "print(classification_report(y_test, y_pred))"
   ]
  },
  {
   "cell_type": "markdown",
   "id": "4664fc2f-a58c-4c65-b531-e9b3971a537c",
   "metadata": {},
   "source": [
    "### 6. Karar Sınırı Görselleştirilmesi : "
   ]
  },
  {
   "cell_type": "code",
   "execution_count": 17,
   "id": "124f79ae-ac42-4ce1-920e-2a875d193a28",
   "metadata": {},
   "outputs": [
    {
     "data": {
      "image/png": "[encoded data removed]",
      "text/plain": [
       "<Figure size 1000x800 with 1 Axes>"
      ]
     },
     "metadata": {},
     "output_type": "display_data"
    }
   ],
   "source": [
    "# Veriyi ölçeklendirme :\n",
    "X_scaled = scaler.transform(X)\n",
    "\n",
    "# Karar sınırının çizilmesi :\n",
    "plt.figure(figsize=(10, 8))\n",
    "\n",
    "# Veri noktalarının çizilmesi :\n",
    "plt.scatter(X_scaled[y == 0][:, 0], X_scaled[y == 0][:, 1], \n",
    "            color='blue', label='İşe Alındı')\n",
    "plt.scatter(X_scaled[y == 1][:, 0], X_scaled[y == 1][:, 1], \n",
    "            color='red', label='İşe Alınmadı')\n",
    "\n",
    "# Karar sınırının çizilmesi : \n",
    "ax = plt.gca()\n",
    "xlim = ax.get_xlim()\n",
    "ylim = ax.get_ylim()\n",
    "\n",
    "xx = np.linspace(xlim[0], xlim[1], 30)\n",
    "yy = np.linspace(ylim[0], ylim[1], 30)\n",
    "YY, XX = np.meshgrid(yy, xx)\n",
    "xy = np.vstack([XX.ravel(), YY.ravel()]).T\n",
    "Z = model.decision_function(xy).reshape(XX.shape)\n",
    "\n",
    "ax.contour(XX, YY, Z, colors='k', levels=[-1, 0, 1], \n",
    "           alpha=0.5, linestyles=['--', '-', '--'])\n",
    "\n",
    "plt.xlabel('Tecrübe Yılı (Ölçeklendirilmiş)')\n",
    "plt.ylabel('Teknik Puan (Ölçeklendirilmiş)')\n",
    "plt.title('SVM Karar Sınırı')\n",
    "plt.legend()\n",
    "plt.show()"
   ]
  },
  {
   "cell_type": "markdown",
   "id": "ca951cc0-3e27-426a-986d-e921e255a8e2",
   "metadata": {},
   "source": [
    "### 7. Tahmin Aşaması :"
   ]
  },
  {
   "cell_type": "code",
   "execution_count": 18,
   "id": "86fc9a35-fd11-4b08-b8cd-838403669417",
   "metadata": {},
   "outputs": [],
   "source": [
    "def make_prediction(model, scaler, experience, technical_score):\n",
    "    \n",
    "    # Veriyi hazırla\n",
    "    data = np.array([[experience, technical_score]])\n",
    "    \n",
    "    # Veriyi ölçeklendirme\n",
    "    scaled_data = scaler.transform(data)\n",
    "    \n",
    "    # Tahmin\n",
    "    prediction = model.predict(scaled_data)[0]\n",
    "    \n",
    "    return prediction\n",
    "\n",
    "def get_prediction_message(prediction):\n",
    "    if prediction == 0:\n",
    "        return \"Tebrikler! Başvurunuz başarılı olmuştur.\"\n",
    "    else:\n",
    "        return \"Üzgünüz, başvurunuz başarısız olmuştur.\""
   ]
  },
  {
   "cell_type": "code",
   "execution_count": 19,
   "id": "9d0d20be-54bc-44e7-9264-ca261c569663",
   "metadata": {},
   "outputs": [
    {
     "name": "stdout",
     "output_type": "stream",
     "text": [
      "Değerlendirme Sonucu:\n",
      "Tecrübe Yılı: 3.5\n",
      "Teknik Puan: 75\n",
      "Sonuç: Tebrikler! Başvurunuz başarılı olmuştur.\n"
     ]
    },
    {
     "name": "stderr",
     "output_type": "stream",
     "text": [
      "/Users/elifdy/VScode/myPython.v1/lib/python3.12/site-packages/sklearn/utils/validation.py:2739: UserWarning: X does not have valid feature names, but StandardScaler was fitted with feature names\n",
      "  warnings.warn(\n"
     ]
    }
   ],
   "source": [
    "# Örnek tahmin 1 \n",
    "\n",
    "experience = 3.5  # Tecrübe yılı\n",
    "technical_score = 75  # Teknik puan\n",
    "\n",
    "prediction = make_prediction(model, scaler, experience, technical_score)\n",
    "message = get_prediction_message(prediction)\n",
    "\n",
    "print(\"Değerlendirme Sonucu:\")\n",
    "print(f\"Tecrübe Yılı: {experience}\")\n",
    "print(f\"Teknik Puan: {technical_score}\")\n",
    "print(f\"Sonuç: {message}\")"
   ]
  },
  {
   "cell_type": "code",
   "execution_count": 20,
   "id": "c07c463a-bb2a-4831-9655-d13fa658ed5a",
   "metadata": {},
   "outputs": [
    {
     "name": "stdout",
     "output_type": "stream",
     "text": [
      "Değerlendirme Sonucu:\n",
      "Tecrübe Yılı: 2.8\n",
      "Teknik Puan: 68\n",
      "Sonuç: Tebrikler! Başvurunuz başarılı olmuştur.\n"
     ]
    },
    {
     "name": "stderr",
     "output_type": "stream",
     "text": [
      "/Users/elifdy/VScode/myPython.v1/lib/python3.12/site-packages/sklearn/utils/validation.py:2739: UserWarning: X does not have valid feature names, but StandardScaler was fitted with feature names\n",
      "  warnings.warn(\n"
     ]
    }
   ],
   "source": [
    "# Örnek tahmin 2\n",
    "experience = 2.8  # Tecrübe yılı\n",
    "technical_score = 68  # Teknik puan\n",
    "\n",
    "prediction = make_prediction(model, scaler, experience, technical_score)\n",
    "message = get_prediction_message(prediction)\n",
    "\n",
    "print(\"Değerlendirme Sonucu:\")\n",
    "print(f\"Tecrübe Yılı: {experience}\")\n",
    "print(f\"Teknik Puan: {technical_score}\")\n",
    "print(f\"Sonuç: {message}\")"
   ]
  },
  {
   "cell_type": "code",
   "execution_count": 21,
   "id": "a7d4134a-79c4-4f40-8806-440a26e51a40",
   "metadata": {},
   "outputs": [
    {
     "name": "stdout",
     "output_type": "stream",
     "text": [
      "Değerlendirme Sonucu:\n",
      "Tecrübe Yılı: 1.7\n",
      "Teknik Puan: 70\n",
      "Sonuç: Tebrikler! Başvurunuz başarılı olmuştur.\n"
     ]
    },
    {
     "name": "stderr",
     "output_type": "stream",
     "text": [
      "/Users/elifdy/VScode/myPython.v1/lib/python3.12/site-packages/sklearn/utils/validation.py:2739: UserWarning: X does not have valid feature names, but StandardScaler was fitted with feature names\n",
      "  warnings.warn(\n"
     ]
    }
   ],
   "source": [
    "# Örnek tahmin 3\n",
    "experience = 1.7  # Tecrübe yılı\n",
    "technical_score = 70  # Teknik puan\n",
    "\n",
    "prediction = make_prediction(model, scaler, experience, technical_score)\n",
    "message = get_prediction_message(prediction)\n",
    "\n",
    "print(\"Değerlendirme Sonucu:\")\n",
    "print(f\"Tecrübe Yılı: {experience}\")\n",
    "print(f\"Teknik Puan: {technical_score}\")\n",
    "print(f\"Sonuç: {message}\")"
   ]
  },
  {
   "cell_type": "code",
   "execution_count": 22,
   "id": "476e5bd0-9d5d-4ddf-9d99-5cf747ce77fa",
   "metadata": {},
   "outputs": [
    {
     "name": "stdout",
     "output_type": "stream",
     "text": [
      "Değerlendirme Sonucu:\n",
      "Tecrübe Yılı: 1.5\n",
      "Teknik Puan: 20\n",
      "Sonuç: Üzgünüz, başvurunuz başarısız olmuştur.\n"
     ]
    },
    {
     "name": "stderr",
     "output_type": "stream",
     "text": [
      "/Users/elifdy/VScode/myPython.v1/lib/python3.12/site-packages/sklearn/utils/validation.py:2739: UserWarning: X does not have valid feature names, but StandardScaler was fitted with feature names\n",
      "  warnings.warn(\n"
     ]
    }
   ],
   "source": [
    "# Örnek tahmin 4\n",
    "experience = 1.5  # Tecrübe yılı\n",
    "technical_score = 20  # Teknik puan\n",
    "\n",
    "prediction = make_prediction(model, scaler, experience, technical_score)\n",
    "message = get_prediction_message(prediction)\n",
    "\n",
    "print(\"Değerlendirme Sonucu:\")\n",
    "print(f\"Tecrübe Yılı: {experience}\")\n",
    "print(f\"Teknik Puan: {technical_score}\")\n",
    "print(f\"Sonuç: {message}\")"
   ]
  },
  {
   "cell_type": "markdown",
   "id": "34a4ad4d-d104-4be4-bcc8-5e6e1b52177f",
   "metadata": {},
   "source": [
    "<div align=\"center\">\n",
    "  <sub>Built with ❤️ by <a href=\"https://github.com/eduymaz\">eduymaz</a></sub>\n",
    "</div> "
   ]
  },
  {
   "cell_type": "code",
   "execution_count": null,
   "id": "21826ad2-f05c-49b2-81ad-b5ac2b249145",
   "metadata": {},
   "outputs": [],
   "source": []
  }
 ],
 "metadata": {
  "kernelspec": {
   "display_name": "myPythonKernel.v1",
   "language": "python",
   "name": "mypythonkernel.v1"
  },
  "language_info": {
   "codemirror_mode": {
    "name": "ipython",
    "version": 3
   },
   "file_extension": ".py",
   "mimetype": "text/x-python",
   "name": "python",
   "nbconvert_exporter": "python",
   "pygments_lexer": "ipython3",
   "version": "3.12.8"
  }
 },
 "nbformat": 4,
 "nbformat_minor": 5
}
