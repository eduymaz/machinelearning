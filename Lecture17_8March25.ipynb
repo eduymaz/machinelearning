{
 "cells": [
  {
   "cell_type": "markdown",
   "id": "ee9d7fc7-c3b2-4c5f-bd5c-1c14bacce8ed",
   "metadata": {},
   "source": [
    "### Pandas in reaL Life"
   ]
  },
  {
   "cell_type": "markdown",
   "id": "e32f576a-f273-44dc-b496-7d200439d0f2",
   "metadata": {},
   "source": [
    "--> demo.py adında bir python sayfasına yazdı hoca kodlarını."
   ]
  },
  {
   "cell_type": "code",
   "execution_count": 1,
   "id": "443cc38f-94e3-4adb-aea3-961ca0d4a1d9",
   "metadata": {},
   "outputs": [],
   "source": [
    "import pandas as pd"
   ]
  },
  {
   "cell_type": "code",
   "execution_count": 2,
   "id": "99487999-b477-46ff-85b3-f2027b2ce7d6",
   "metadata": {},
   "outputs": [],
   "source": [
    "# Önemli iki tane kavram vardır : \n",
    "#   Series (Tek boyutlu diziler)\n",
    "#   DataFrame (Tablolar)"
   ]
  },
  {
   "cell_type": "code",
   "execution_count": 3,
   "id": "1e6e2be7-7d7a-4766-843d-219d608449c4",
   "metadata": {},
   "outputs": [
    {
     "name": "stdout",
     "output_type": "stream",
     "text": [
      "0    1500\n",
      "1    2500\n",
      "2    3500\n",
      "3     200\n",
      "4    1500\n",
      "5    1000\n",
      "6    6000\n",
      "dtype: int64\n"
     ]
    }
   ],
   "source": [
    "dailySales = pd.Series([1500, 2500, 3500, 200, 1500, 1000, 6000])\n",
    "print(dailySales)"
   ]
  },
  {
   "cell_type": "code",
   "execution_count": 5,
   "id": "ec8f9417-c6ed-452f-bef2-0542abb416d0",
   "metadata": {},
   "outputs": [
    {
     "name": "stdout",
     "output_type": "stream",
     "text": [
      "Index:  RangeIndex(start=0, stop=7, step=1)\n"
     ]
    }
   ],
   "source": [
    "print('Index: ', dailySales.index)"
   ]
  },
  {
   "cell_type": "code",
   "execution_count": 6,
   "id": "8fcb887d-333e-49ea-a01c-375d7cc7f49a",
   "metadata": {},
   "outputs": [
    {
     "name": "stdout",
     "output_type": "stream",
     "text": [
      "Values:  [1500 2500 3500  200 1500 1000 6000]\n"
     ]
    }
   ],
   "source": [
    "print('Values: ', dailySales.values)"
   ]
  },
  {
   "cell_type": "code",
   "execution_count": 10,
   "id": "98394397-fc19-4a76-8eb6-7d02b75846c8",
   "metadata": {},
   "outputs": [
    {
     "name": "stdout",
     "output_type": "stream",
     "text": [
      "Mean:  2314.285714285714\n"
     ]
    }
   ],
   "source": [
    "print('Mean: ', dailySales.mean())"
   ]
  },
  {
   "cell_type": "code",
   "execution_count": 11,
   "id": "263ea14e-1bc2-4f72-8154-c7e8a04ba7a5",
   "metadata": {},
   "outputs": [
    {
     "name": "stdout",
     "output_type": "stream",
     "text": [
      "Max:  6000\n"
     ]
    }
   ],
   "source": [
    "print('Max: ', dailySales.max())"
   ]
  },
  {
   "cell_type": "code",
   "execution_count": 12,
   "id": "ee437520-9d23-44ed-a65d-916118d87581",
   "metadata": {},
   "outputs": [
    {
     "name": "stdout",
     "output_type": "stream",
     "text": [
      "Min:  200\n"
     ]
    }
   ],
   "source": [
    "print('Min: ', dailySales.min())"
   ]
  },
  {
   "cell_type": "code",
   "execution_count": 14,
   "id": "275a662c-40a2-4135-9b19-994f20fda9e0",
   "metadata": {},
   "outputs": [],
   "source": [
    "days = ['Monday', 'Tuesday', 'Wednesday', 'Thursday', 'Friday', 'Saturday', 'Sunday']\n",
    "dailySales2 = pd.Series([1500, 2500, 3500, 200, 1500, 1000, 6000], index=days)"
   ]
  },
  {
   "cell_type": "code",
   "execution_count": 15,
   "id": "37562ddc-0818-40a3-a35f-33a8fb6dbced",
   "metadata": {},
   "outputs": [
    {
     "name": "stdout",
     "output_type": "stream",
     "text": [
      "200\n"
     ]
    }
   ],
   "source": [
    "print(dailySales2['Thursday'])"
   ]
  },
  {
   "cell_type": "code",
   "execution_count": 16,
   "id": "fc9728ea-abce-4a73-9b2a-1fe6f1178655",
   "metadata": {},
   "outputs": [],
   "source": [
    "'''\n",
    "Sql\n",
    "Api\n",
    "SalesData = getSales('http://turkcell.com.tr/pasaj/sales', 'get')\n",
    "'''\n",
    "salesData = {\n",
    "    'ProductName': ['Elma', 'Üzüm', 'İncir', 'Armut', 'Portakal', 'Elma', 'Elma'],\n",
    "    'Price': [200, 300, 540, 780, 360, 420, 730],\n",
    "    'QuantitySold': [20, 3, 25, 28, 46, 12, 14]\n",
    "}"
   ]
  },
  {
   "cell_type": "code",
   "execution_count": 17,
   "id": "4b124b4f-b9fd-401a-ab78-66b6c850a771",
   "metadata": {},
   "outputs": [
    {
     "name": "stdout",
     "output_type": "stream",
     "text": [
      "  ProductName  Price  QuantitySold\n",
      "0        Elma    200            20\n",
      "1        Üzüm    300             3\n",
      "2       İncir    540            25\n",
      "3       Armut    780            28\n",
      "4    Portakal    360            46\n",
      "5        Elma    420            12\n",
      "6        Elma    730            14\n"
     ]
    }
   ],
   "source": [
    "df = pd.DataFrame(salesData)\n",
    "print(df)"
   ]
  },
  {
   "cell_type": "code",
   "execution_count": 18,
   "id": "f131da72-59d6-4cac-857a-9e617b817ef8",
   "metadata": {},
   "outputs": [
    {
     "name": "stdout",
     "output_type": "stream",
     "text": [
      "ProductName     İncir\n",
      "Price             540\n",
      "QuantitySold       25\n",
      "Name: 2, dtype: object\n"
     ]
    }
   ],
   "source": [
    "print(df.iloc[2])"
   ]
  },
  {
   "cell_type": "code",
   "execution_count": 20,
   "id": "92f2a431-bf44-45e3-af55-23a43e1da2a7",
   "metadata": {},
   "outputs": [
    {
     "name": "stdout",
     "output_type": "stream",
     "text": [
      "  ProductName  Price  QuantitySold\n",
      "0        Elma    200            20\n",
      "5        Elma    420            12\n",
      "6        Elma    730            14\n"
     ]
    }
   ],
   "source": [
    "print(df.loc[df['ProductName']=='Elma'])"
   ]
  },
  {
   "cell_type": "code",
   "execution_count": 21,
   "id": "86b886c3-8f7e-43d0-a2be-573cfce7bb41",
   "metadata": {},
   "outputs": [],
   "source": [
    "bestSales = df[df['QuantitySold']>15]"
   ]
  },
  {
   "cell_type": "code",
   "execution_count": 22,
   "id": "284a1d2e-e25a-448d-a570-3ddc84486514",
   "metadata": {},
   "outputs": [
    {
     "name": "stdout",
     "output_type": "stream",
     "text": [
      "  ProductName  Price  QuantitySold\n",
      "0        Elma    200            20\n",
      "2       İncir    540            25\n",
      "3       Armut    780            28\n",
      "4    Portakal    360            46\n"
     ]
    }
   ],
   "source": [
    "print(bestSales)"
   ]
  },
  {
   "cell_type": "code",
   "execution_count": 23,
   "id": "127fb02f-be46-4485-9c4b-d8f319b30856",
   "metadata": {},
   "outputs": [
    {
     "name": "stdout",
     "output_type": "stream",
     "text": [
      "  ProductName  Price  QuantitySold  TotalIncome\n",
      "0        Elma    200            20         4000\n",
      "1        Üzüm    300             3          900\n",
      "2       İncir    540            25        13500\n",
      "3       Armut    780            28        21840\n",
      "4    Portakal    360            46        16560\n",
      "5        Elma    420            12         5040\n",
      "6        Elma    730            14        10220\n"
     ]
    }
   ],
   "source": [
    "df['TotalIncome'] = df['Price']*df['QuantitySold']\n",
    "print(df)"
   ]
  },
  {
   "cell_type": "code",
   "execution_count": 25,
   "id": "65a07617-2465-40a4-9452-8b1248151b63",
   "metadata": {},
   "outputs": [
    {
     "name": "stdout",
     "output_type": "stream",
     "text": [
      "ProductName\n",
      "Armut       28\n",
      "Elma        46\n",
      "Portakal    46\n",
      "Üzüm         3\n",
      "İncir       25\n",
      "Name: QuantitySold, dtype: int64\n"
     ]
    }
   ],
   "source": [
    "print(df.groupby('ProductName')['QuantitySold'].sum())"
   ]
  },
  {
   "cell_type": "markdown",
   "id": "bb21df34-654a-40d3-bfa1-772dc8a9a909",
   "metadata": {},
   "source": [
    "### Eksik verilerle çalışmak"
   ]
  },
  {
   "cell_type": "code",
   "execution_count": 27,
   "id": "540fd203-6e77-41b7-bff3-34dd2e0f4322",
   "metadata": {},
   "outputs": [],
   "source": [
    "salesData2 = {\n",
    "    'ProductName': ['Elma', 'Üzüm', 'İncir', 'Armut', 'Portakal', 'Elma', 'Elma'],\n",
    "    'Price': [200, 300, 540, None, 360, None, 730],\n",
    "    'QuantitySold': [20, 3, None, 28, 46, 12, 14]\n",
    "}"
   ]
  },
  {
   "cell_type": "code",
   "execution_count": 28,
   "id": "03cf6ae8-8400-4862-83b4-d3731ec5a033",
   "metadata": {},
   "outputs": [
    {
     "name": "stdout",
     "output_type": "stream",
     "text": [
      "ProductName     0\n",
      "Price           2\n",
      "QuantitySold    1\n",
      "dtype: int64\n"
     ]
    }
   ],
   "source": [
    "df = pd.DataFrame(salesData2)\n",
    "print(df.isnull().sum())"
   ]
  },
  {
   "cell_type": "code",
   "execution_count": 34,
   "id": "0da6b2d5-4fe9-4cfc-9dee-ab360013ec84",
   "metadata": {},
   "outputs": [
    {
     "name": "stdout",
     "output_type": "stream",
     "text": [
      "None\n"
     ]
    },
    {
     "name": "stderr",
     "output_type": "stream",
     "text": [
      "/var/folders/js/cdwgx9vj0pxfwkx_3pdxqgc80000gn/T/ipykernel_3991/1044603559.py:1: FutureWarning: A value is trying to be set on a copy of a DataFrame or Series through chained assignment using an inplace method.\n",
      "The behavior will change in pandas 3.0. This inplace method will never work because the intermediate object on which we are setting values always behaves as a copy.\n",
      "\n",
      "For example, when doing 'df[col].method(value, inplace=True)', try using 'df.method({col: value}, inplace=True)' or df[col] = df[col].method(value) instead, to perform the operation inplace on the original object.\n",
      "\n",
      "\n",
      "  print(df[\"Price\"].fillna(df[\"Price\"].mean(), inplace=True))\n"
     ]
    }
   ],
   "source": [
    "print(df[\"Price\"].fillna(df[\"Price\"].mean(), inplace=True))"
   ]
  },
  {
   "cell_type": "code",
   "execution_count": 33,
   "id": "f0ed10fe-7567-4aec-9b08-65d5e3a5b615",
   "metadata": {},
   "outputs": [
    {
     "name": "stdout",
     "output_type": "stream",
     "text": [
      "  ProductName  Price  QuantitySold\n",
      "0        Elma  200.0          20.0\n",
      "1        Üzüm  300.0           3.0\n",
      "3       Armut  426.0          28.0\n",
      "4    Portakal  360.0          46.0\n",
      "5        Elma  426.0          12.0\n",
      "6        Elma  730.0          14.0\n"
     ]
    }
   ],
   "source": [
    "df.dropna(inplace=True)\n",
    "print(df)"
   ]
  },
  {
   "cell_type": "code",
   "execution_count": 35,
   "id": "b6c619f7-89dd-4c8b-b73f-84ef066ae00e",
   "metadata": {},
   "outputs": [
    {
     "name": "stdout",
     "output_type": "stream",
     "text": [
      "  ProductName  Price  QuantitySold\n",
      "0        Elma  200.0          20.0\n",
      "1        Üzüm  300.0           3.0\n",
      "4    Portakal  360.0          46.0\n",
      "3       Armut  426.0          28.0\n",
      "5        Elma  426.0          12.0\n",
      "6        Elma  730.0          14.0\n"
     ]
    }
   ],
   "source": [
    "print(df.sort_values(\"Price\", ascending=True))"
   ]
  },
  {
   "cell_type": "code",
   "execution_count": null,
   "id": "a0b2694c-5dda-4ecb-bfc9-13cb65baad8f",
   "metadata": {},
   "outputs": [],
   "source": [
    "#df.to_csv(\"salesDataAnalysis.csv\", index=False)"
   ]
  }
 ],
 "metadata": {
  "kernelspec": {
   "display_name": "myPythonKernel.v1",
   "language": "python",
   "name": "mypythonkernel.v1"
  },
  "language_info": {
   "codemirror_mode": {
    "name": "ipython",
    "version": 3
   },
   "file_extension": ".py",
   "mimetype": "text/x-python",
   "name": "python",
   "nbconvert_exporter": "python",
   "pygments_lexer": "ipython3",
   "version": "3.12.8"
  }
 },
 "nbformat": 4,
 "nbformat_minor": 5
}
