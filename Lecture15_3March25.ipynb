{
 "cells": [
  {
   "cell_type": "markdown",
   "id": "0ce62c35-7f8e-4abe-9ac6-636003148f53",
   "metadata": {},
   "source": [
    "## numpy & pandas "
   ]
  },
  {
   "cell_type": "code",
   "execution_count": 1,
   "id": "5021ff21-4fb5-4be5-837a-3257a0ab77dc",
   "metadata": {},
   "outputs": [],
   "source": [
    "import numpy as np"
   ]
  },
  {
   "cell_type": "code",
   "execution_count": 2,
   "id": "e377572c-150a-47d8-bd30-544265d618f4",
   "metadata": {},
   "outputs": [
    {
     "name": "stdout",
     "output_type": "stream",
     "text": [
      "[1 2 3 4 5 6 7 8 9]\n"
     ]
    }
   ],
   "source": [
    "list1 = [1,2,3,4,5,6,7,8,9]\n",
    "array1 = np.array(list1)\n",
    "print(array1)"
   ]
  },
  {
   "cell_type": "code",
   "execution_count": 3,
   "id": "75a0fed9-48c2-4497-a3c3-27bda5d65fce",
   "metadata": {},
   "outputs": [
    {
     "name": "stdout",
     "output_type": "stream",
     "text": [
      "[[1 2 3]\n",
      " [4 5 6]]\n"
     ]
    }
   ],
   "source": [
    "array2D = np.array([[1,2,3],[4,5,6]])\n",
    "print(array2D)"
   ]
  },
  {
   "cell_type": "code",
   "execution_count": 4,
   "id": "170eafad-c622-4408-bfb4-f4dea951e948",
   "metadata": {},
   "outputs": [
    {
     "name": "stdout",
     "output_type": "stream",
     "text": [
      "[[[ 1  2  3]\n",
      "  [ 4  5  6]]\n",
      "\n",
      " [[ 7  8  9]\n",
      "  [10 11 12]]]\n"
     ]
    }
   ],
   "source": [
    "array3D = np.array([[[1,2,3],[4,5,6]], [[7,8,9],[10,11,12]]])\n",
    "print(array3D)"
   ]
  },
  {
   "cell_type": "code",
   "execution_count": 5,
   "id": "221bc7b3-65d2-4c11-a0e3-4f6fb9334667",
   "metadata": {},
   "outputs": [],
   "source": [
    "annualSalesAndImprovements = np.array([[10000,20000, 30000], [0,100,100]])"
   ]
  },
  {
   "cell_type": "code",
   "execution_count": 6,
   "id": "669f9087-2196-4eb1-8dc3-dd9c27ded3b1",
   "metadata": {},
   "outputs": [
    {
     "name": "stdout",
     "output_type": "stream",
     "text": [
      "[[10000 20000 30000]\n",
      " [    0   100   100]]\n"
     ]
    }
   ],
   "source": [
    "print(annualSalesAndImprovements)"
   ]
  },
  {
   "cell_type": "code",
   "execution_count": 7,
   "id": "76671adf-0116-45f0-ba69-58f7177df5b5",
   "metadata": {},
   "outputs": [
    {
     "data": {
      "text/plain": [
       "2"
      ]
     },
     "execution_count": 7,
     "metadata": {},
     "output_type": "execute_result"
    }
   ],
   "source": [
    "annualSalesAndImprovements.ndim"
   ]
  },
  {
   "cell_type": "code",
   "execution_count": 8,
   "id": "67e38516-55e6-4fb3-b6fc-2426ba1ee1e5",
   "metadata": {},
   "outputs": [
    {
     "data": {
      "text/plain": [
       "6"
      ]
     },
     "execution_count": 8,
     "metadata": {},
     "output_type": "execute_result"
    }
   ],
   "source": [
    "annualSalesAndImprovements.size"
   ]
  },
  {
   "cell_type": "code",
   "execution_count": 9,
   "id": "936d32d2-7c24-4cd8-82ae-09d939a5599f",
   "metadata": {},
   "outputs": [
    {
     "data": {
      "text/plain": [
       "(2, 3)"
      ]
     },
     "execution_count": 9,
     "metadata": {},
     "output_type": "execute_result"
    }
   ],
   "source": [
    "annualSalesAndImprovements.shape"
   ]
  },
  {
   "cell_type": "code",
   "execution_count": 11,
   "id": "0ae4c801-76ca-4656-8488-0a96b05b8157",
   "metadata": {},
   "outputs": [
    {
     "name": "stdout",
     "output_type": "stream",
     "text": [
      "[[0. 0. 0.]\n",
      " [0. 0. 0.]\n",
      " [0. 0. 0.]\n",
      " [0. 0. 0.]\n",
      " [0. 0. 0.]]\n"
     ]
    }
   ],
   "source": [
    "sales = np.zeros((5,3))\n",
    "print(sales)"
   ]
  },
  {
   "cell_type": "code",
   "execution_count": 12,
   "id": "73815bae-68c0-4600-9417-781b1d8c6db3",
   "metadata": {},
   "outputs": [
    {
     "name": "stdout",
     "output_type": "stream",
     "text": [
      "[[ 0.  0.  0.]\n",
      " [ 0.  0.  0.]\n",
      " [10. 10. 10.]\n",
      " [ 0.  0.  0.]\n",
      " [ 0.  0.  0.]]\n"
     ]
    }
   ],
   "source": [
    "sales[2] = 10\n",
    "print(sales)"
   ]
  },
  {
   "cell_type": "code",
   "execution_count": 13,
   "id": "9452052f-93cc-40e4-af08-6412b7f6b39e",
   "metadata": {},
   "outputs": [
    {
     "name": "stdout",
     "output_type": "stream",
     "text": [
      "[0. 0. 0.]\n"
     ]
    }
   ],
   "source": [
    "print(sales[-1])"
   ]
  },
  {
   "cell_type": "code",
   "execution_count": 14,
   "id": "395f5dc0-66bd-4504-96b2-b844e2c8ef9b",
   "metadata": {},
   "outputs": [
    {
     "name": "stdout",
     "output_type": "stream",
     "text": [
      "[1. 1. 1. 1. 1.]\n"
     ]
    }
   ],
   "source": [
    "sales2 = np.ones((5,))\n",
    "print(sales2)"
   ]
  },
  {
   "cell_type": "code",
   "execution_count": 15,
   "id": "a93ed2bc-a562-4b5e-908a-5c5695989f44",
   "metadata": {},
   "outputs": [
    {
     "data": {
      "text/plain": [
       "array([1, 4, 7])"
      ]
     },
     "execution_count": 15,
     "metadata": {},
     "output_type": "execute_result"
    }
   ],
   "source": [
    "np.arange(1,10,3)"
   ]
  },
  {
   "cell_type": "code",
   "execution_count": 16,
   "id": "5732729c-aa85-4e53-af29-8b6e149f79cf",
   "metadata": {},
   "outputs": [
    {
     "data": {
      "text/plain": [
       "array([0.  , 0.25, 0.5 , 0.75, 1.  ])"
      ]
     },
     "execution_count": 16,
     "metadata": {},
     "output_type": "execute_result"
    }
   ],
   "source": [
    "np.linspace(0,1,5)"
   ]
  },
  {
   "cell_type": "code",
   "execution_count": 17,
   "id": "f6946d39-5ae0-48ef-a6b3-2b5a2f1cdb29",
   "metadata": {},
   "outputs": [
    {
     "data": {
      "text/plain": [
       "array([[0.37260983, 0.46898024, 0.5182869 , 0.7306253 ],\n",
       "       [0.2995038 , 0.11514002, 0.53964149, 0.1703768 ],\n",
       "       [0.70161664, 0.14928045, 0.25826156, 0.25201231],\n",
       "       [0.74210427, 0.43363529, 0.43855392, 0.49264356]])"
      ]
     },
     "execution_count": 17,
     "metadata": {},
     "output_type": "execute_result"
    }
   ],
   "source": [
    "np.random.rand(4,4)"
   ]
  },
  {
   "cell_type": "code",
   "execution_count": 18,
   "id": "0f5bc586-a0f9-4025-ab81-1d2a29be0218",
   "metadata": {},
   "outputs": [
    {
     "data": {
      "text/plain": [
       "array([[50, 58, 13, 17],\n",
       "       [56, 17, 93, 52],\n",
       "       [31, 25, 97, 91],\n",
       "       [51, 87, 35, 68]])"
      ]
     },
     "execution_count": 18,
     "metadata": {},
     "output_type": "execute_result"
    }
   ],
   "source": [
    "np.random.randint(1,100,(4,4))"
   ]
  },
  {
   "cell_type": "code",
   "execution_count": 19,
   "id": "7a62f3a5-3e56-439f-b253-0b0436f59ca4",
   "metadata": {},
   "outputs": [
    {
     "name": "stdout",
     "output_type": "stream",
     "text": [
      "[30 40 50]\n"
     ]
    }
   ],
   "source": [
    "array10 = np.array([10,20,30,40,50,60,70,80,90,100])\n",
    "print(array10[2:5])"
   ]
  },
  {
   "cell_type": "code",
   "execution_count": 20,
   "id": "55772c3b-c2ad-4465-b407-7aed68df9695",
   "metadata": {},
   "outputs": [
    {
     "name": "stdout",
     "output_type": "stream",
     "text": [
      "[10 20 30 40 50]\n"
     ]
    }
   ],
   "source": [
    "print(array10[:5])"
   ]
  },
  {
   "cell_type": "code",
   "execution_count": 21,
   "id": "2e5d3320-da6d-40f4-b445-2d5f9e7dbfe9",
   "metadata": {},
   "outputs": [
    {
     "name": "stdout",
     "output_type": "stream",
     "text": [
      "[ 30  40  50  60  70  80  90 100]\n"
     ]
    }
   ],
   "source": [
    "print(array10[2:])"
   ]
  },
  {
   "cell_type": "code",
   "execution_count": 23,
   "id": "ed30d875-6733-40b8-8b82-f1328be66b8a",
   "metadata": {},
   "outputs": [
    {
     "name": "stdout",
     "output_type": "stream",
     "text": [
      "[10 30 50 70 90]\n"
     ]
    }
   ],
   "source": [
    "print(array10[::2])"
   ]
  },
  {
   "cell_type": "code",
   "execution_count": 24,
   "id": "f09918fb-8711-48e0-b422-edba126fb60a",
   "metadata": {},
   "outputs": [],
   "source": [
    "array11 = np.array([10,20,30,40,50,60,70,80,90,100])\n",
    "array12 = np.array([100,200,300,400,500,600,700,800,900,1000])\n"
   ]
  },
  {
   "cell_type": "code",
   "execution_count": 25,
   "id": "5b8cf07e-6799-40e4-bfd4-a02c317bbf86",
   "metadata": {},
   "outputs": [
    {
     "name": "stdout",
     "output_type": "stream",
     "text": [
      "[ 110  220  330  440  550  660  770  880  990 1100]\n"
     ]
    }
   ],
   "source": [
    "print(array11 + array12)"
   ]
  },
  {
   "cell_type": "code",
   "execution_count": 26,
   "id": "070db99d-3646-46e4-a6e8-b798dc9e75ba",
   "metadata": {},
   "outputs": [
    {
     "name": "stdout",
     "output_type": "stream",
     "text": [
      "[ -90 -180 -270 -360 -450 -540 -630 -720 -810 -900]\n"
     ]
    }
   ],
   "source": [
    "print(array11 - array12)"
   ]
  },
  {
   "cell_type": "code",
   "execution_count": 27,
   "id": "5eaeda3e-95f6-41ee-b993-bfb97b600584",
   "metadata": {},
   "outputs": [
    {
     "name": "stdout",
     "output_type": "stream",
     "text": [
      "[  1000   4000   9000  16000  25000  36000  49000  64000  81000 100000]\n"
     ]
    }
   ],
   "source": [
    "print(array11 * array12)"
   ]
  },
  {
   "cell_type": "code",
   "execution_count": 28,
   "id": "9353f4f4-4edc-421f-84dd-e620583bcfdd",
   "metadata": {},
   "outputs": [
    {
     "name": "stdout",
     "output_type": "stream",
     "text": [
      "[0.1 0.1 0.1 0.1 0.1 0.1 0.1 0.1 0.1 0.1]\n"
     ]
    }
   ],
   "source": [
    "print(array11 / array12)"
   ]
  },
  {
   "cell_type": "code",
   "execution_count": 30,
   "id": "e863d823-baad-4162-8d5a-2bbf4f8470b2",
   "metadata": {},
   "outputs": [
    {
     "name": "stdout",
     "output_type": "stream",
     "text": [
      "[ 3.16227766  4.47213595  5.47722558  6.32455532  7.07106781  7.74596669\n",
      "  8.36660027  8.94427191  9.48683298 10.        ]\n"
     ]
    }
   ],
   "source": [
    "sqrtofArray11 = np.sqrt(array11)\n",
    "print(sqrtofArray11)"
   ]
  },
  {
   "cell_type": "markdown",
   "id": "18a3daa8-be8d-481c-b109-e9236efd32d9",
   "metadata": {},
   "source": [
    "### Homework\n",
    "| Numpy'da aşağıdaki işlemleri nasıl yaparım. Ar-Ge\n",
    "\n",
    "| Kural: Gerçek hayat verisi ve isimlendirme\n",
    "\n",
    "- Matris Çarpımı\n",
    "- Transpoz Nedir ? Nasıl yapılır ?\n",
    "- Reshaping and flattening\n",
    "- Concatination, hstach, vstack"
   ]
  },
  {
   "cell_type": "code",
   "execution_count": null,
   "id": "3f5a4a68-0bb8-4376-83ad-841c17f7fde5",
   "metadata": {},
   "outputs": [],
   "source": []
  }
 ],
 "metadata": {
  "kernelspec": {
   "display_name": "myPythonKernel.v1",
   "language": "python",
   "name": "mypythonkernel.v1"
  },
  "language_info": {
   "codemirror_mode": {
    "name": "ipython",
    "version": 3
   },
   "file_extension": ".py",
   "mimetype": "text/x-python",
   "name": "python",
   "nbconvert_exporter": "python",
   "pygments_lexer": "ipython3",
   "version": "3.12.8"
  }
 },
 "nbformat": 4,
 "nbformat_minor": 5
}
