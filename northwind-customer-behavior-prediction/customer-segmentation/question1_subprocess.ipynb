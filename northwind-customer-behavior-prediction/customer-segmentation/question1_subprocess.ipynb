{
 "cells": [
  {
   "cell_type": "code",
   "execution_count": 2,
   "metadata": {},
   "outputs": [],
   "source": [
    "import json\n",
    "import sqlalchemy"
   ]
  },
  {
   "cell_type": "code",
   "execution_count": 3,
   "metadata": {},
   "outputs": [],
   "source": [
    "try:\n",
    "    with open(\"db_config.json\", \"r\") as f:\n",
    "        db_config = json.load(f)\n",
    "except FileNotFoundError:\n",
    "    print(\"db_config.json dosyası bulunamadı\")\n",
    "    exit()"
   ]
  },
  {
   "cell_type": "code",
   "execution_count": 4,
   "metadata": {},
   "outputs": [],
   "source": [
    "try:\n",
    "    user = db_config['user']\n",
    "    password = db_config['password']\n",
    "    host = db_config['host']\n",
    "    port = db_config['port']\n",
    "    database = db_config['database']\n",
    "except KeyError:\n",
    "    print(\"db_config.json dosyasında eksik bilgi var\")\n",
    "    exit()\n"
   ]
  },
  {
   "cell_type": "code",
   "execution_count": 5,
   "metadata": {},
   "outputs": [
    {
     "name": "stdout",
     "output_type": "stream",
     "text": [
      "Veritabanı bağlantı hatası: name 'localhost' is not defined\n"
     ]
    },
    {
     "ename": "",
     "evalue": "",
     "output_type": "error",
     "traceback": [
      "\u001b[1;31mThe Kernel crashed while executing code in the current cell or a previous cell. \n",
      "\u001b[1;31mPlease review the code in the cell(s) to identify a possible cause of the failure. \n",
      "\u001b[1;31mClick <a href='https://aka.ms/vscodeJupyterKernelCrash'>here</a> for more info. \n",
      "\u001b[1;31mView Jupyter <a href='command:jupyter.viewOutput'>log</a> for further details."
     ]
    }
   ],
   "source": [
    "try:\n",
    "    engine = sqlalchemy.create_engine(f\"postgresql://{localhost}:{password}@{host}:{port}/{database}\")\n",
    "except Exception as e:\n",
    "    print(f\"Veritabanı bağlantı hatası: {e}\")\n",
    "    exit()"
   ]
  },
  {
   "cell_type": "markdown",
   "metadata": {},
   "source": [
    "#### Soru 1\n",
    "\n",
    "Northwind veritabanında müşterilerin toplam harcaması,\n",
    "sipariş sayısı ve ortalama sipariş büyüklüğüne göre\n",
    "bir müşterinin önümüzdeki 6 ay içinde\n",
    "tekrar sipariş verip vermeyeceğini tahmin eden\n",
    "bir derin öğrenme modeli kur."
   ]
  },
  {
   "cell_type": "code",
   "execution_count": 1,
   "metadata": {},
   "outputs": [],
   "source": [
    "import pandas as pd\n",
    "import numpy as np"
   ]
  },
  {
   "cell_type": "code",
   "execution_count": 6,
   "metadata": {},
   "outputs": [
    {
     "data": {
      "text/plain": [
       "['us_states',\n",
       " 'customers',\n",
       " 'orders',\n",
       " 'employees',\n",
       " 'shippers',\n",
       " 'products',\n",
       " 'order_details',\n",
       " 'categories',\n",
       " 'suppliers',\n",
       " 'region',\n",
       " 'territories',\n",
       " 'employee_territories',\n",
       " 'customer_demographics',\n",
       " 'customer_customer_demo']"
      ]
     },
     "execution_count": 6,
     "metadata": {},
     "output_type": "execute_result"
    }
   ],
   "source": [
    "inspector = sqlalchemy.inspect(engine)\n",
    "inspector.get_table_names()"
   ]
  },
  {
   "cell_type": "code",
   "execution_count": 7,
   "metadata": {},
   "outputs": [
    {
     "name": "stderr",
     "output_type": "stream",
     "text": [
      "c:\\Users\\kaptan\\anaconda3\\Lib\\site-packages\\pandas\\io\\sql.py:1665: SAWarning: Did not recognize type 'bpchar' of column 'customer_id'\n",
      "  self.meta.reflect(bind=self.con, only=[table_name], views=True)\n",
      "c:\\Users\\kaptan\\anaconda3\\Lib\\site-packages\\pandas\\io\\sql.py:1665: SAWarning: Did not recognize type 'bpchar' of column 'customer_id'\n",
      "  self.meta.reflect(bind=self.con, only=[table_name], views=True)\n",
      "c:\\Users\\kaptan\\anaconda3\\Lib\\site-packages\\pandas\\io\\sql.py:1665: SAWarning: Did not recognize type 'bpchar' of column 'region_description'\n",
      "  self.meta.reflect(bind=self.con, only=[table_name], views=True)\n"
     ]
    }
   ],
   "source": [
    "orders = pd.read_sql_table(\"orders\", engine)\n",
    "order_details = pd.read_sql_table(\"order_details\", engine)\n",
    "products = pd.read_sql_table(\"products\", engine)\n",
    "categories = pd.read_sql_table(\"categories\", engine)\n",
    "region = pd.read_sql_table(\"region\", engine)"
   ]
  },
  {
   "cell_type": "code",
   "execution_count": 8,
   "metadata": {},
   "outputs": [
    {
     "name": "stdout",
     "output_type": "stream",
     "text": [
      "<class 'pandas.core.frame.DataFrame'>\n",
      "RangeIndex: 830 entries, 0 to 829\n",
      "Data columns (total 14 columns):\n",
      " #   Column            Non-Null Count  Dtype         \n",
      "---  ------            --------------  -----         \n",
      " 0   order_id          830 non-null    int64         \n",
      " 1   customer_id       830 non-null    object        \n",
      " 2   employee_id       830 non-null    int64         \n",
      " 3   order_date        830 non-null    datetime64[ns]\n",
      " 4   required_date     830 non-null    datetime64[ns]\n",
      " 5   shipped_date      809 non-null    datetime64[ns]\n",
      " 6   ship_via          830 non-null    int64         \n",
      " 7   freight           830 non-null    float64       \n",
      " 8   ship_name         830 non-null    object        \n",
      " 9   ship_address      830 non-null    object        \n",
      " 10  ship_city         830 non-null    object        \n",
      " 11  ship_region       323 non-null    object        \n",
      " 12  ship_postal_code  811 non-null    object        \n",
      " 13  ship_country      830 non-null    object        \n",
      "dtypes: datetime64[ns](3), float64(1), int64(3), object(7)\n",
      "memory usage: 90.9+ KB\n"
     ]
    }
   ],
   "source": [
    "orders.info()"
   ]
  },
  {
   "cell_type": "code",
   "execution_count": 9,
   "metadata": {},
   "outputs": [
    {
     "name": "stdout",
     "output_type": "stream",
     "text": [
      "<class 'pandas.core.frame.DataFrame'>\n",
      "RangeIndex: 2155 entries, 0 to 2154\n",
      "Data columns (total 5 columns):\n",
      " #   Column      Non-Null Count  Dtype  \n",
      "---  ------      --------------  -----  \n",
      " 0   order_id    2155 non-null   int64  \n",
      " 1   product_id  2155 non-null   int64  \n",
      " 2   unit_price  2155 non-null   float64\n",
      " 3   quantity    2155 non-null   int64  \n",
      " 4   discount    2155 non-null   float64\n",
      "dtypes: float64(2), int64(3)\n",
      "memory usage: 84.3 KB\n"
     ]
    }
   ],
   "source": [
    "order_details.info()"
   ]
  },
  {
   "cell_type": "code",
   "execution_count": 10,
   "metadata": {},
   "outputs": [
    {
     "name": "stdout",
     "output_type": "stream",
     "text": [
      "<class 'pandas.core.frame.DataFrame'>\n",
      "RangeIndex: 77 entries, 0 to 76\n",
      "Data columns (total 10 columns):\n",
      " #   Column             Non-Null Count  Dtype  \n",
      "---  ------             --------------  -----  \n",
      " 0   product_id         77 non-null     int64  \n",
      " 1   product_name       77 non-null     object \n",
      " 2   supplier_id        77 non-null     int64  \n",
      " 3   category_id        77 non-null     int64  \n",
      " 4   quantity_per_unit  77 non-null     object \n",
      " 5   unit_price         77 non-null     float64\n",
      " 6   units_in_stock     77 non-null     int64  \n",
      " 7   units_on_order     77 non-null     int64  \n",
      " 8   reorder_level      77 non-null     int64  \n",
      " 9   discontinued       77 non-null     int64  \n",
      "dtypes: float64(1), int64(7), object(2)\n",
      "memory usage: 6.1+ KB\n"
     ]
    }
   ],
   "source": [
    "products.info()"
   ]
  },
  {
   "cell_type": "code",
   "execution_count": 12,
   "metadata": {},
   "outputs": [],
   "source": [
    "sql_query = \"\"\"\n",
    "select\n",
    "o.order_id, o.customer_id, o.order_date, o.ship_country,\n",
    "od.unit_price, od.quantity, od.discount,\n",
    "p.category_id, p.product_id\n",
    "from orders o\n",
    "join order_details od on o.order_id = od.order_id\n",
    "join products p on od.product_id = p.product_id\n",
    "\"\"\"\n",
    "\n",
    "data = pd.read_sql(sql_query, engine)"
   ]
  },
  {
   "cell_type": "code",
   "execution_count": 13,
   "metadata": {},
   "outputs": [
    {
     "data": {
      "application/vnd.microsoft.datawrangler.viewer.v0+json": {
       "columns": [
        {
         "name": "index",
         "rawType": "int64",
         "type": "integer"
        },
        {
         "name": "order_id",
         "rawType": "int64",
         "type": "integer"
        },
        {
         "name": "customer_id",
         "rawType": "object",
         "type": "string"
        },
        {
         "name": "order_date",
         "rawType": "object",
         "type": "unknown"
        },
        {
         "name": "ship_country",
         "rawType": "object",
         "type": "string"
        },
        {
         "name": "unit_price",
         "rawType": "float64",
         "type": "float"
        },
        {
         "name": "quantity",
         "rawType": "int64",
         "type": "integer"
        },
        {
         "name": "discount",
         "rawType": "float64",
         "type": "float"
        },
        {
         "name": "category_id",
         "rawType": "int64",
         "type": "integer"
        },
        {
         "name": "product_id",
         "rawType": "int64",
         "type": "integer"
        }
       ],
       "conversionMethod": "pd.DataFrame",
       "ref": "824101f4-51c1-4cc6-9fec-143e54aa1b61",
       "rows": [
        [
         "0",
         "10248",
         "VINET",
         "1996-07-04",
         "France",
         "14.0",
         "12",
         "0.0",
         "4",
         "11"
        ],
        [
         "1",
         "10248",
         "VINET",
         "1996-07-04",
         "France",
         "9.8",
         "10",
         "0.0",
         "5",
         "42"
        ],
        [
         "2",
         "10248",
         "VINET",
         "1996-07-04",
         "France",
         "34.8",
         "5",
         "0.0",
         "4",
         "72"
        ],
        [
         "3",
         "10249",
         "TOMSP",
         "1996-07-05",
         "Germany",
         "18.6",
         "9",
         "0.0",
         "7",
         "14"
        ],
        [
         "4",
         "10249",
         "TOMSP",
         "1996-07-05",
         "Germany",
         "42.4",
         "40",
         "0.0",
         "7",
         "51"
        ]
       ],
       "shape": {
        "columns": 9,
        "rows": 5
       }
      },
      "text/html": [
       "<div>\n",
       "<style scoped>\n",
       "    .dataframe tbody tr th:only-of-type {\n",
       "        vertical-align: middle;\n",
       "    }\n",
       "\n",
       "    .dataframe tbody tr th {\n",
       "        vertical-align: top;\n",
       "    }\n",
       "\n",
       "    .dataframe thead th {\n",
       "        text-align: right;\n",
       "    }\n",
       "</style>\n",
       "<table border=\"1\" class=\"dataframe\">\n",
       "  <thead>\n",
       "    <tr style=\"text-align: right;\">\n",
       "      <th></th>\n",
       "      <th>order_id</th>\n",
       "      <th>customer_id</th>\n",
       "      <th>order_date</th>\n",
       "      <th>ship_country</th>\n",
       "      <th>unit_price</th>\n",
       "      <th>quantity</th>\n",
       "      <th>discount</th>\n",
       "      <th>category_id</th>\n",
       "      <th>product_id</th>\n",
       "    </tr>\n",
       "  </thead>\n",
       "  <tbody>\n",
       "    <tr>\n",
       "      <th>0</th>\n",
       "      <td>10248</td>\n",
       "      <td>VINET</td>\n",
       "      <td>1996-07-04</td>\n",
       "      <td>France</td>\n",
       "      <td>14.0</td>\n",
       "      <td>12</td>\n",
       "      <td>0.0</td>\n",
       "      <td>4</td>\n",
       "      <td>11</td>\n",
       "    </tr>\n",
       "    <tr>\n",
       "      <th>1</th>\n",
       "      <td>10248</td>\n",
       "      <td>VINET</td>\n",
       "      <td>1996-07-04</td>\n",
       "      <td>France</td>\n",
       "      <td>9.8</td>\n",
       "      <td>10</td>\n",
       "      <td>0.0</td>\n",
       "      <td>5</td>\n",
       "      <td>42</td>\n",
       "    </tr>\n",
       "    <tr>\n",
       "      <th>2</th>\n",
       "      <td>10248</td>\n",
       "      <td>VINET</td>\n",
       "      <td>1996-07-04</td>\n",
       "      <td>France</td>\n",
       "      <td>34.8</td>\n",
       "      <td>5</td>\n",
       "      <td>0.0</td>\n",
       "      <td>4</td>\n",
       "      <td>72</td>\n",
       "    </tr>\n",
       "    <tr>\n",
       "      <th>3</th>\n",
       "      <td>10249</td>\n",
       "      <td>TOMSP</td>\n",
       "      <td>1996-07-05</td>\n",
       "      <td>Germany</td>\n",
       "      <td>18.6</td>\n",
       "      <td>9</td>\n",
       "      <td>0.0</td>\n",
       "      <td>7</td>\n",
       "      <td>14</td>\n",
       "    </tr>\n",
       "    <tr>\n",
       "      <th>4</th>\n",
       "      <td>10249</td>\n",
       "      <td>TOMSP</td>\n",
       "      <td>1996-07-05</td>\n",
       "      <td>Germany</td>\n",
       "      <td>42.4</td>\n",
       "      <td>40</td>\n",
       "      <td>0.0</td>\n",
       "      <td>7</td>\n",
       "      <td>51</td>\n",
       "    </tr>\n",
       "  </tbody>\n",
       "</table>\n",
       "</div>"
      ],
      "text/plain": [
       "   order_id customer_id  order_date ship_country  unit_price  quantity  \\\n",
       "0     10248       VINET  1996-07-04       France        14.0        12   \n",
       "1     10248       VINET  1996-07-04       France         9.8        10   \n",
       "2     10248       VINET  1996-07-04       France        34.8         5   \n",
       "3     10249       TOMSP  1996-07-05      Germany        18.6         9   \n",
       "4     10249       TOMSP  1996-07-05      Germany        42.4        40   \n",
       "\n",
       "   discount  category_id  product_id  \n",
       "0       0.0            4          11  \n",
       "1       0.0            5          42  \n",
       "2       0.0            4          72  \n",
       "3       0.0            7          14  \n",
       "4       0.0            7          51  "
      ]
     },
     "execution_count": 13,
     "metadata": {},
     "output_type": "execute_result"
    }
   ],
   "source": [
    "data.head()"
   ]
  },
  {
   "cell_type": "code",
   "execution_count": 14,
   "metadata": {},
   "outputs": [
    {
     "name": "stdout",
     "output_type": "stream",
     "text": [
      "<class 'pandas.core.frame.DataFrame'>\n",
      "RangeIndex: 2155 entries, 0 to 2154\n",
      "Data columns (total 9 columns):\n",
      " #   Column        Non-Null Count  Dtype  \n",
      "---  ------        --------------  -----  \n",
      " 0   order_id      2155 non-null   int64  \n",
      " 1   customer_id   2155 non-null   object \n",
      " 2   order_date    2155 non-null   object \n",
      " 3   ship_country  2155 non-null   object \n",
      " 4   unit_price    2155 non-null   float64\n",
      " 5   quantity      2155 non-null   int64  \n",
      " 6   discount      2155 non-null   float64\n",
      " 7   category_id   2155 non-null   int64  \n",
      " 8   product_id    2155 non-null   int64  \n",
      "dtypes: float64(2), int64(4), object(3)\n",
      "memory usage: 151.7+ KB\n"
     ]
    }
   ],
   "source": [
    "data.info()"
   ]
  },
  {
   "cell_type": "code",
   "execution_count": 15,
   "metadata": {},
   "outputs": [],
   "source": [
    "categoricalFeature = [\"order_id\",\n",
    "                      \"customer_id\",\n",
    "                      \"ship_country\",\n",
    "                      \"category_id\",\n",
    "                      \"product_id\"]\n",
    "for feature in categoricalFeature:\n",
    "    data[feature] = data[feature].astype(\"category\")"
   ]
  },
  {
   "cell_type": "code",
   "execution_count": 16,
   "metadata": {},
   "outputs": [],
   "source": [
    "data[\"order_date\"] = pd.to_datetime(data[\"order_date\"])"
   ]
  },
  {
   "cell_type": "code",
   "execution_count": 17,
   "metadata": {},
   "outputs": [
    {
     "data": {
      "application/vnd.microsoft.datawrangler.viewer.v0+json": {
       "columns": [
        {
         "name": "index",
         "rawType": "object",
         "type": "string"
        },
        {
         "name": "count",
         "rawType": "float64",
         "type": "float"
        },
        {
         "name": "mean",
         "rawType": "float64",
         "type": "float"
        },
        {
         "name": "std",
         "rawType": "float64",
         "type": "float"
        },
        {
         "name": "min",
         "rawType": "float64",
         "type": "float"
        },
        {
         "name": "25%",
         "rawType": "float64",
         "type": "float"
        },
        {
         "name": "50%",
         "rawType": "float64",
         "type": "float"
        },
        {
         "name": "75%",
         "rawType": "float64",
         "type": "float"
        },
        {
         "name": "max",
         "rawType": "float64",
         "type": "float"
        }
       ],
       "conversionMethod": "pd.DataFrame",
       "ref": "d6150e50-d7fe-463d-a41d-2650dd286b0c",
       "rows": [
        [
         "unit_price",
         "2155.0",
         "26.218519721577728",
         "29.827417887501035",
         "2.0",
         "12.0",
         "18.4",
         "32.0",
         "263.5"
        ],
        [
         "quantity",
         "2155.0",
         "23.812993039443157",
         "19.022046977493545",
         "1.0",
         "10.0",
         "20.0",
         "30.0",
         "130.0"
        ],
        [
         "discount",
         "2155.0",
         "0.05616705336426914",
         "0.08345026112646185",
         "0.0",
         "0.0",
         "0.0",
         "0.1",
         "0.25"
        ]
       ],
       "shape": {
        "columns": 8,
        "rows": 3
       }
      },
      "text/html": [
       "<div>\n",
       "<style scoped>\n",
       "    .dataframe tbody tr th:only-of-type {\n",
       "        vertical-align: middle;\n",
       "    }\n",
       "\n",
       "    .dataframe tbody tr th {\n",
       "        vertical-align: top;\n",
       "    }\n",
       "\n",
       "    .dataframe thead th {\n",
       "        text-align: right;\n",
       "    }\n",
       "</style>\n",
       "<table border=\"1\" class=\"dataframe\">\n",
       "  <thead>\n",
       "    <tr style=\"text-align: right;\">\n",
       "      <th></th>\n",
       "      <th>count</th>\n",
       "      <th>mean</th>\n",
       "      <th>std</th>\n",
       "      <th>min</th>\n",
       "      <th>25%</th>\n",
       "      <th>50%</th>\n",
       "      <th>75%</th>\n",
       "      <th>max</th>\n",
       "    </tr>\n",
       "  </thead>\n",
       "  <tbody>\n",
       "    <tr>\n",
       "      <th>unit_price</th>\n",
       "      <td>2155.0</td>\n",
       "      <td>26.218520</td>\n",
       "      <td>29.827418</td>\n",
       "      <td>2.0</td>\n",
       "      <td>12.0</td>\n",
       "      <td>18.4</td>\n",
       "      <td>32.0</td>\n",
       "      <td>263.50</td>\n",
       "    </tr>\n",
       "    <tr>\n",
       "      <th>quantity</th>\n",
       "      <td>2155.0</td>\n",
       "      <td>23.812993</td>\n",
       "      <td>19.022047</td>\n",
       "      <td>1.0</td>\n",
       "      <td>10.0</td>\n",
       "      <td>20.0</td>\n",
       "      <td>30.0</td>\n",
       "      <td>130.00</td>\n",
       "    </tr>\n",
       "    <tr>\n",
       "      <th>discount</th>\n",
       "      <td>2155.0</td>\n",
       "      <td>0.056167</td>\n",
       "      <td>0.083450</td>\n",
       "      <td>0.0</td>\n",
       "      <td>0.0</td>\n",
       "      <td>0.0</td>\n",
       "      <td>0.1</td>\n",
       "      <td>0.25</td>\n",
       "    </tr>\n",
       "  </tbody>\n",
       "</table>\n",
       "</div>"
      ],
      "text/plain": [
       "             count       mean        std  min   25%   50%   75%     max\n",
       "unit_price  2155.0  26.218520  29.827418  2.0  12.0  18.4  32.0  263.50\n",
       "quantity    2155.0  23.812993  19.022047  1.0  10.0  20.0  30.0  130.00\n",
       "discount    2155.0   0.056167   0.083450  0.0   0.0   0.0   0.1    0.25"
      ]
     },
     "execution_count": 17,
     "metadata": {},
     "output_type": "execute_result"
    }
   ],
   "source": [
    "data.describe(include=\"number\").T"
   ]
  },
  {
   "cell_type": "code",
   "execution_count": 18,
   "metadata": {},
   "outputs": [
    {
     "data": {
      "application/vnd.microsoft.datawrangler.viewer.v0+json": {
       "columns": [
        {
         "name": "index",
         "rawType": "object",
         "type": "string"
        },
        {
         "name": "count",
         "rawType": "object",
         "type": "unknown"
        },
        {
         "name": "unique",
         "rawType": "object",
         "type": "unknown"
        },
        {
         "name": "top",
         "rawType": "object",
         "type": "unknown"
        },
        {
         "name": "freq",
         "rawType": "object",
         "type": "unknown"
        }
       ],
       "conversionMethod": "pd.DataFrame",
       "ref": "dac33b14-85f8-4d78-805e-2c0124c17d41",
       "rows": [
        [
         "order_id",
         "2155",
         "830",
         "11077",
         "25"
        ],
        [
         "customer_id",
         "2155",
         "89",
         "SAVEA",
         "116"
        ],
        [
         "ship_country",
         "2155",
         "21",
         "USA",
         "352"
        ],
        [
         "category_id",
         "2155",
         "8",
         "1",
         "404"
        ],
        [
         "product_id",
         "2155",
         "77",
         "59",
         "54"
        ]
       ],
       "shape": {
        "columns": 4,
        "rows": 5
       }
      },
      "text/html": [
       "<div>\n",
       "<style scoped>\n",
       "    .dataframe tbody tr th:only-of-type {\n",
       "        vertical-align: middle;\n",
       "    }\n",
       "\n",
       "    .dataframe tbody tr th {\n",
       "        vertical-align: top;\n",
       "    }\n",
       "\n",
       "    .dataframe thead th {\n",
       "        text-align: right;\n",
       "    }\n",
       "</style>\n",
       "<table border=\"1\" class=\"dataframe\">\n",
       "  <thead>\n",
       "    <tr style=\"text-align: right;\">\n",
       "      <th></th>\n",
       "      <th>count</th>\n",
       "      <th>unique</th>\n",
       "      <th>top</th>\n",
       "      <th>freq</th>\n",
       "    </tr>\n",
       "  </thead>\n",
       "  <tbody>\n",
       "    <tr>\n",
       "      <th>order_id</th>\n",
       "      <td>2155</td>\n",
       "      <td>830</td>\n",
       "      <td>11077</td>\n",
       "      <td>25</td>\n",
       "    </tr>\n",
       "    <tr>\n",
       "      <th>customer_id</th>\n",
       "      <td>2155</td>\n",
       "      <td>89</td>\n",
       "      <td>SAVEA</td>\n",
       "      <td>116</td>\n",
       "    </tr>\n",
       "    <tr>\n",
       "      <th>ship_country</th>\n",
       "      <td>2155</td>\n",
       "      <td>21</td>\n",
       "      <td>USA</td>\n",
       "      <td>352</td>\n",
       "    </tr>\n",
       "    <tr>\n",
       "      <th>category_id</th>\n",
       "      <td>2155</td>\n",
       "      <td>8</td>\n",
       "      <td>1</td>\n",
       "      <td>404</td>\n",
       "    </tr>\n",
       "    <tr>\n",
       "      <th>product_id</th>\n",
       "      <td>2155</td>\n",
       "      <td>77</td>\n",
       "      <td>59</td>\n",
       "      <td>54</td>\n",
       "    </tr>\n",
       "  </tbody>\n",
       "</table>\n",
       "</div>"
      ],
      "text/plain": [
       "             count unique    top freq\n",
       "order_id      2155    830  11077   25\n",
       "customer_id   2155     89  SAVEA  116\n",
       "ship_country  2155     21    USA  352\n",
       "category_id   2155      8      1  404\n",
       "product_id    2155     77     59   54"
      ]
     },
     "execution_count": 18,
     "metadata": {},
     "output_type": "execute_result"
    }
   ],
   "source": [
    "data.describe(include=\"category\").T"
   ]
  },
  {
   "cell_type": "code",
   "execution_count": 19,
   "metadata": {},
   "outputs": [
    {
     "data": {
      "application/vnd.microsoft.datawrangler.viewer.v0+json": {
       "columns": [
        {
         "name": "index",
         "rawType": "object",
         "type": "string"
        },
        {
         "name": "order_date",
         "rawType": "object",
         "type": "unknown"
        }
       ],
       "conversionMethod": "pd.DataFrame",
       "ref": "dba51b19-6583-482f-ad73-ff0ad20879c7",
       "rows": [
        [
         "count",
         "2155"
        ],
        [
         "mean",
         "1997-08-05 06:12:11.693735424"
        ],
        [
         "min",
         "1996-07-04 00:00:00"
        ],
        [
         "25%",
         "1997-02-19 00:00:00"
        ],
        [
         "50%",
         "1997-09-04 00:00:00"
        ],
        [
         "75%",
         "1998-01-31 12:00:00"
        ],
        [
         "max",
         "1998-05-06 00:00:00"
        ]
       ],
       "shape": {
        "columns": 1,
        "rows": 7
       }
      },
      "text/html": [
       "<div>\n",
       "<style scoped>\n",
       "    .dataframe tbody tr th:only-of-type {\n",
       "        vertical-align: middle;\n",
       "    }\n",
       "\n",
       "    .dataframe tbody tr th {\n",
       "        vertical-align: top;\n",
       "    }\n",
       "\n",
       "    .dataframe thead th {\n",
       "        text-align: right;\n",
       "    }\n",
       "</style>\n",
       "<table border=\"1\" class=\"dataframe\">\n",
       "  <thead>\n",
       "    <tr style=\"text-align: right;\">\n",
       "      <th></th>\n",
       "      <th>order_date</th>\n",
       "    </tr>\n",
       "  </thead>\n",
       "  <tbody>\n",
       "    <tr>\n",
       "      <th>count</th>\n",
       "      <td>2155</td>\n",
       "    </tr>\n",
       "    <tr>\n",
       "      <th>mean</th>\n",
       "      <td>1997-08-05 06:12:11.693735424</td>\n",
       "    </tr>\n",
       "    <tr>\n",
       "      <th>min</th>\n",
       "      <td>1996-07-04 00:00:00</td>\n",
       "    </tr>\n",
       "    <tr>\n",
       "      <th>25%</th>\n",
       "      <td>1997-02-19 00:00:00</td>\n",
       "    </tr>\n",
       "    <tr>\n",
       "      <th>50%</th>\n",
       "      <td>1997-09-04 00:00:00</td>\n",
       "    </tr>\n",
       "    <tr>\n",
       "      <th>75%</th>\n",
       "      <td>1998-01-31 12:00:00</td>\n",
       "    </tr>\n",
       "    <tr>\n",
       "      <th>max</th>\n",
       "      <td>1998-05-06 00:00:00</td>\n",
       "    </tr>\n",
       "  </tbody>\n",
       "</table>\n",
       "</div>"
      ],
      "text/plain": [
       "                          order_date\n",
       "count                           2155\n",
       "mean   1997-08-05 06:12:11.693735424\n",
       "min              1996-07-04 00:00:00\n",
       "25%              1997-02-19 00:00:00\n",
       "50%              1997-09-04 00:00:00\n",
       "75%              1998-01-31 12:00:00\n",
       "max              1998-05-06 00:00:00"
      ]
     },
     "execution_count": 19,
     "metadata": {},
     "output_type": "execute_result"
    }
   ],
   "source": [
    "data.describe(include=\"datetime\")"
   ]
  },
  {
   "cell_type": "code",
   "execution_count": 20,
   "metadata": {},
   "outputs": [],
   "source": [
    "df = pd.DataFrame(data=data[\"customer_id\"].unique(), columns=[\"customer_id\"])"
   ]
  },
  {
   "cell_type": "code",
   "execution_count": 21,
   "metadata": {},
   "outputs": [
    {
     "data": {
      "application/vnd.microsoft.datawrangler.viewer.v0+json": {
       "columns": [
        {
         "name": "index",
         "rawType": "int64",
         "type": "integer"
        },
        {
         "name": "customer_id",
         "rawType": "category",
         "type": "unknown"
        }
       ],
       "conversionMethod": "pd.DataFrame",
       "ref": "63daa89d-08fe-4218-bd43-c660cf9ddee3",
       "rows": [
        [
         "0",
         "VINET"
        ],
        [
         "1",
         "TOMSP"
        ],
        [
         "2",
         "HANAR"
        ],
        [
         "3",
         "VICTE"
        ],
        [
         "4",
         "SUPRD"
        ]
       ],
       "shape": {
        "columns": 1,
        "rows": 5
       }
      },
      "text/html": [
       "<div>\n",
       "<style scoped>\n",
       "    .dataframe tbody tr th:only-of-type {\n",
       "        vertical-align: middle;\n",
       "    }\n",
       "\n",
       "    .dataframe tbody tr th {\n",
       "        vertical-align: top;\n",
       "    }\n",
       "\n",
       "    .dataframe thead th {\n",
       "        text-align: right;\n",
       "    }\n",
       "</style>\n",
       "<table border=\"1\" class=\"dataframe\">\n",
       "  <thead>\n",
       "    <tr style=\"text-align: right;\">\n",
       "      <th></th>\n",
       "      <th>customer_id</th>\n",
       "    </tr>\n",
       "  </thead>\n",
       "  <tbody>\n",
       "    <tr>\n",
       "      <th>0</th>\n",
       "      <td>VINET</td>\n",
       "    </tr>\n",
       "    <tr>\n",
       "      <th>1</th>\n",
       "      <td>TOMSP</td>\n",
       "    </tr>\n",
       "    <tr>\n",
       "      <th>2</th>\n",
       "      <td>HANAR</td>\n",
       "    </tr>\n",
       "    <tr>\n",
       "      <th>3</th>\n",
       "      <td>VICTE</td>\n",
       "    </tr>\n",
       "    <tr>\n",
       "      <th>4</th>\n",
       "      <td>SUPRD</td>\n",
       "    </tr>\n",
       "  </tbody>\n",
       "</table>\n",
       "</div>"
      ],
      "text/plain": [
       "  customer_id\n",
       "0       VINET\n",
       "1       TOMSP\n",
       "2       HANAR\n",
       "3       VICTE\n",
       "4       SUPRD"
      ]
     },
     "execution_count": 21,
     "metadata": {},
     "output_type": "execute_result"
    }
   ],
   "source": [
    "df.head()"
   ]
  },
  {
   "cell_type": "code",
   "execution_count": 22,
   "metadata": {},
   "outputs": [],
   "source": [
    "df = df.sort_values(\"customer_id\").reset_index(drop=True)"
   ]
  },
  {
   "cell_type": "code",
   "execution_count": 23,
   "metadata": {},
   "outputs": [
    {
     "data": {
      "application/vnd.microsoft.datawrangler.viewer.v0+json": {
       "columns": [
        {
         "name": "index",
         "rawType": "int64",
         "type": "integer"
        },
        {
         "name": "customer_id",
         "rawType": "category",
         "type": "unknown"
        }
       ],
       "conversionMethod": "pd.DataFrame",
       "ref": "b99a9ea8-03cd-41c3-9889-0b729a7ba8ae",
       "rows": [
        [
         "0",
         "ALFKI"
        ],
        [
         "1",
         "ANATR"
        ],
        [
         "2",
         "ANTON"
        ],
        [
         "3",
         "AROUT"
        ],
        [
         "4",
         "BERGS"
        ]
       ],
       "shape": {
        "columns": 1,
        "rows": 5
       }
      },
      "text/html": [
       "<div>\n",
       "<style scoped>\n",
       "    .dataframe tbody tr th:only-of-type {\n",
       "        vertical-align: middle;\n",
       "    }\n",
       "\n",
       "    .dataframe tbody tr th {\n",
       "        vertical-align: top;\n",
       "    }\n",
       "\n",
       "    .dataframe thead th {\n",
       "        text-align: right;\n",
       "    }\n",
       "</style>\n",
       "<table border=\"1\" class=\"dataframe\">\n",
       "  <thead>\n",
       "    <tr style=\"text-align: right;\">\n",
       "      <th></th>\n",
       "      <th>customer_id</th>\n",
       "    </tr>\n",
       "  </thead>\n",
       "  <tbody>\n",
       "    <tr>\n",
       "      <th>0</th>\n",
       "      <td>ALFKI</td>\n",
       "    </tr>\n",
       "    <tr>\n",
       "      <th>1</th>\n",
       "      <td>ANATR</td>\n",
       "    </tr>\n",
       "    <tr>\n",
       "      <th>2</th>\n",
       "      <td>ANTON</td>\n",
       "    </tr>\n",
       "    <tr>\n",
       "      <th>3</th>\n",
       "      <td>AROUT</td>\n",
       "    </tr>\n",
       "    <tr>\n",
       "      <th>4</th>\n",
       "      <td>BERGS</td>\n",
       "    </tr>\n",
       "  </tbody>\n",
       "</table>\n",
       "</div>"
      ],
      "text/plain": [
       "  customer_id\n",
       "0       ALFKI\n",
       "1       ANATR\n",
       "2       ANTON\n",
       "3       AROUT\n",
       "4       BERGS"
      ]
     },
     "execution_count": 23,
     "metadata": {},
     "output_type": "execute_result"
    }
   ],
   "source": [
    "df.head()"
   ]
  },
  {
   "cell_type": "code",
   "execution_count": 24,
   "metadata": {},
   "outputs": [],
   "source": [
    "data[\"order_size\"] = data[\"unit_price\"] * data[\"quantity\"] * (1 - data[\"discount\"])"
   ]
  },
  {
   "cell_type": "code",
   "execution_count": 25,
   "metadata": {},
   "outputs": [
    {
     "name": "stderr",
     "output_type": "stream",
     "text": [
      "C:\\Users\\kaptan\\AppData\\Local\\Temp\\ipykernel_14212\\1885811812.py:2: FutureWarning: The default of observed=False is deprecated and will be changed to True in a future version of pandas. Pass observed=False to retain current behavior or observed=True to adopt the future default and silence this warning.\n",
      "  order_count = data.groupby(\"customer_id\")[\"order_id\"].agg([\"count\"])\n"
     ]
    },
    {
     "data": {
      "application/vnd.microsoft.datawrangler.viewer.v0+json": {
       "columns": [
        {
         "name": "customer_id",
         "rawType": "category",
         "type": "unknown"
        },
        {
         "name": "count",
         "rawType": "int64",
         "type": "integer"
        }
       ],
       "conversionMethod": "pd.DataFrame",
       "ref": "8fb0cbb0-5b21-4ee8-a3b8-6c95e305dd60",
       "rows": [
        [
         "ALFKI",
         "12"
        ],
        [
         "ANATR",
         "10"
        ],
        [
         "ANTON",
         "17"
        ],
        [
         "AROUT",
         "30"
        ],
        [
         "BERGS",
         "52"
        ],
        [
         "BLAUS",
         "14"
        ],
        [
         "BLONP",
         "26"
        ],
        [
         "BOLID",
         "6"
        ],
        [
         "BONAP",
         "44"
        ],
        [
         "BOTTM",
         "35"
        ],
        [
         "BSBEV",
         "22"
        ],
        [
         "CACTU",
         "11"
        ],
        [
         "CENTC",
         "2"
        ],
        [
         "CHOPS",
         "22"
        ],
        [
         "COMMI",
         "10"
        ],
        [
         "CONSH",
         "7"
        ],
        [
         "DRACD",
         "10"
        ],
        [
         "DUMON",
         "9"
        ],
        [
         "EASTC",
         "21"
        ],
        [
         "ERNSH",
         "102"
        ],
        [
         "FAMIA",
         "19"
        ],
        [
         "FOLIG",
         "16"
        ],
        [
         "FOLKO",
         "45"
        ],
        [
         "FRANK",
         "48"
        ],
        [
         "FRANR",
         "6"
        ],
        [
         "FRANS",
         "10"
        ],
        [
         "FURIB",
         "20"
        ],
        [
         "GALED",
         "8"
        ],
        [
         "GODOS",
         "26"
        ],
        [
         "GOURL",
         "19"
        ],
        [
         "GREAL",
         "22"
        ],
        [
         "GROSR",
         "4"
        ],
        [
         "HANAR",
         "32"
        ],
        [
         "HILAA",
         "45"
        ],
        [
         "HUNGC",
         "9"
        ],
        [
         "HUNGO",
         "55"
        ],
        [
         "ISLAT",
         "23"
        ],
        [
         "KOENE",
         "39"
        ],
        [
         "LACOR",
         "11"
        ],
        [
         "LAMAI",
         "31"
        ],
        [
         "LAUGB",
         "8"
        ],
        [
         "LAZYK",
         "2"
        ],
        [
         "LEHMS",
         "39"
        ],
        [
         "LETSS",
         "10"
        ],
        [
         "LILAS",
         "34"
        ],
        [
         "LINOD",
         "35"
        ],
        [
         "LONEP",
         "14"
        ],
        [
         "MAGAA",
         "21"
        ],
        [
         "MAISD",
         "17"
        ],
        [
         "MEREP",
         "32"
        ]
       ],
       "shape": {
        "columns": 1,
        "rows": 89
       }
      },
      "text/html": [
       "<div>\n",
       "<style scoped>\n",
       "    .dataframe tbody tr th:only-of-type {\n",
       "        vertical-align: middle;\n",
       "    }\n",
       "\n",
       "    .dataframe tbody tr th {\n",
       "        vertical-align: top;\n",
       "    }\n",
       "\n",
       "    .dataframe thead th {\n",
       "        text-align: right;\n",
       "    }\n",
       "</style>\n",
       "<table border=\"1\" class=\"dataframe\">\n",
       "  <thead>\n",
       "    <tr style=\"text-align: right;\">\n",
       "      <th></th>\n",
       "      <th>count</th>\n",
       "    </tr>\n",
       "    <tr>\n",
       "      <th>customer_id</th>\n",
       "      <th></th>\n",
       "    </tr>\n",
       "  </thead>\n",
       "  <tbody>\n",
       "    <tr>\n",
       "      <th>ALFKI</th>\n",
       "      <td>12</td>\n",
       "    </tr>\n",
       "    <tr>\n",
       "      <th>ANATR</th>\n",
       "      <td>10</td>\n",
       "    </tr>\n",
       "    <tr>\n",
       "      <th>ANTON</th>\n",
       "      <td>17</td>\n",
       "    </tr>\n",
       "    <tr>\n",
       "      <th>AROUT</th>\n",
       "      <td>30</td>\n",
       "    </tr>\n",
       "    <tr>\n",
       "      <th>BERGS</th>\n",
       "      <td>52</td>\n",
       "    </tr>\n",
       "    <tr>\n",
       "      <th>...</th>\n",
       "      <td>...</td>\n",
       "    </tr>\n",
       "    <tr>\n",
       "      <th>WARTH</th>\n",
       "      <td>37</td>\n",
       "    </tr>\n",
       "    <tr>\n",
       "      <th>WELLI</th>\n",
       "      <td>19</td>\n",
       "    </tr>\n",
       "    <tr>\n",
       "      <th>WHITC</th>\n",
       "      <td>40</td>\n",
       "    </tr>\n",
       "    <tr>\n",
       "      <th>WILMK</th>\n",
       "      <td>17</td>\n",
       "    </tr>\n",
       "    <tr>\n",
       "      <th>WOLZA</th>\n",
       "      <td>16</td>\n",
       "    </tr>\n",
       "  </tbody>\n",
       "</table>\n",
       "<p>89 rows × 1 columns</p>\n",
       "</div>"
      ],
      "text/plain": [
       "             count\n",
       "customer_id       \n",
       "ALFKI           12\n",
       "ANATR           10\n",
       "ANTON           17\n",
       "AROUT           30\n",
       "BERGS           52\n",
       "...            ...\n",
       "WARTH           37\n",
       "WELLI           19\n",
       "WHITC           40\n",
       "WILMK           17\n",
       "WOLZA           16\n",
       "\n",
       "[89 rows x 1 columns]"
      ]
     },
     "execution_count": 25,
     "metadata": {},
     "output_type": "execute_result"
    }
   ],
   "source": [
    "# Sipariş sayısı\n",
    "order_count = data.groupby(\"customer_id\")[\"order_id\"].agg([\"count\"])\n",
    "order_count"
   ]
  },
  {
   "cell_type": "code",
   "execution_count": 26,
   "metadata": {},
   "outputs": [
    {
     "data": {
      "application/vnd.microsoft.datawrangler.viewer.v0+json": {
       "columns": [
        {
         "name": "index",
         "rawType": "int64",
         "type": "integer"
        },
        {
         "name": "customer_id",
         "rawType": "category",
         "type": "unknown"
        },
        {
         "name": "count",
         "rawType": "int64",
         "type": "integer"
        }
       ],
       "conversionMethod": "pd.DataFrame",
       "ref": "8d545693-98c2-4283-8398-7e7452260657",
       "rows": [
        [
         "0",
         "ALFKI",
         "12"
        ],
        [
         "1",
         "ANATR",
         "10"
        ],
        [
         "2",
         "ANTON",
         "17"
        ],
        [
         "3",
         "AROUT",
         "30"
        ],
        [
         "4",
         "BERGS",
         "52"
        ],
        [
         "5",
         "BLAUS",
         "14"
        ],
        [
         "6",
         "BLONP",
         "26"
        ],
        [
         "7",
         "BOLID",
         "6"
        ],
        [
         "8",
         "BONAP",
         "44"
        ],
        [
         "9",
         "BOTTM",
         "35"
        ],
        [
         "10",
         "BSBEV",
         "22"
        ],
        [
         "11",
         "CACTU",
         "11"
        ],
        [
         "12",
         "CENTC",
         "2"
        ],
        [
         "13",
         "CHOPS",
         "22"
        ],
        [
         "14",
         "COMMI",
         "10"
        ],
        [
         "15",
         "CONSH",
         "7"
        ],
        [
         "16",
         "DRACD",
         "10"
        ],
        [
         "17",
         "DUMON",
         "9"
        ],
        [
         "18",
         "EASTC",
         "21"
        ],
        [
         "19",
         "ERNSH",
         "102"
        ],
        [
         "20",
         "FAMIA",
         "19"
        ],
        [
         "21",
         "FOLIG",
         "16"
        ],
        [
         "22",
         "FOLKO",
         "45"
        ],
        [
         "23",
         "FRANK",
         "48"
        ],
        [
         "24",
         "FRANR",
         "6"
        ],
        [
         "25",
         "FRANS",
         "10"
        ],
        [
         "26",
         "FURIB",
         "20"
        ],
        [
         "27",
         "GALED",
         "8"
        ],
        [
         "28",
         "GODOS",
         "26"
        ],
        [
         "29",
         "GOURL",
         "19"
        ],
        [
         "30",
         "GREAL",
         "22"
        ],
        [
         "31",
         "GROSR",
         "4"
        ],
        [
         "32",
         "HANAR",
         "32"
        ],
        [
         "33",
         "HILAA",
         "45"
        ],
        [
         "34",
         "HUNGC",
         "9"
        ],
        [
         "35",
         "HUNGO",
         "55"
        ],
        [
         "36",
         "ISLAT",
         "23"
        ],
        [
         "37",
         "KOENE",
         "39"
        ],
        [
         "38",
         "LACOR",
         "11"
        ],
        [
         "39",
         "LAMAI",
         "31"
        ],
        [
         "40",
         "LAUGB",
         "8"
        ],
        [
         "41",
         "LAZYK",
         "2"
        ],
        [
         "42",
         "LEHMS",
         "39"
        ],
        [
         "43",
         "LETSS",
         "10"
        ],
        [
         "44",
         "LILAS",
         "34"
        ],
        [
         "45",
         "LINOD",
         "35"
        ],
        [
         "46",
         "LONEP",
         "14"
        ],
        [
         "47",
         "MAGAA",
         "21"
        ],
        [
         "48",
         "MAISD",
         "17"
        ],
        [
         "49",
         "MEREP",
         "32"
        ]
       ],
       "shape": {
        "columns": 2,
        "rows": 89
       }
      },
      "text/html": [
       "<div>\n",
       "<style scoped>\n",
       "    .dataframe tbody tr th:only-of-type {\n",
       "        vertical-align: middle;\n",
       "    }\n",
       "\n",
       "    .dataframe tbody tr th {\n",
       "        vertical-align: top;\n",
       "    }\n",
       "\n",
       "    .dataframe thead th {\n",
       "        text-align: right;\n",
       "    }\n",
       "</style>\n",
       "<table border=\"1\" class=\"dataframe\">\n",
       "  <thead>\n",
       "    <tr style=\"text-align: right;\">\n",
       "      <th></th>\n",
       "      <th>customer_id</th>\n",
       "      <th>count</th>\n",
       "    </tr>\n",
       "  </thead>\n",
       "  <tbody>\n",
       "    <tr>\n",
       "      <th>0</th>\n",
       "      <td>ALFKI</td>\n",
       "      <td>12</td>\n",
       "    </tr>\n",
       "    <tr>\n",
       "      <th>1</th>\n",
       "      <td>ANATR</td>\n",
       "      <td>10</td>\n",
       "    </tr>\n",
       "    <tr>\n",
       "      <th>2</th>\n",
       "      <td>ANTON</td>\n",
       "      <td>17</td>\n",
       "    </tr>\n",
       "    <tr>\n",
       "      <th>3</th>\n",
       "      <td>AROUT</td>\n",
       "      <td>30</td>\n",
       "    </tr>\n",
       "    <tr>\n",
       "      <th>4</th>\n",
       "      <td>BERGS</td>\n",
       "      <td>52</td>\n",
       "    </tr>\n",
       "    <tr>\n",
       "      <th>...</th>\n",
       "      <td>...</td>\n",
       "      <td>...</td>\n",
       "    </tr>\n",
       "    <tr>\n",
       "      <th>84</th>\n",
       "      <td>WARTH</td>\n",
       "      <td>37</td>\n",
       "    </tr>\n",
       "    <tr>\n",
       "      <th>85</th>\n",
       "      <td>WELLI</td>\n",
       "      <td>19</td>\n",
       "    </tr>\n",
       "    <tr>\n",
       "      <th>86</th>\n",
       "      <td>WHITC</td>\n",
       "      <td>40</td>\n",
       "    </tr>\n",
       "    <tr>\n",
       "      <th>87</th>\n",
       "      <td>WILMK</td>\n",
       "      <td>17</td>\n",
       "    </tr>\n",
       "    <tr>\n",
       "      <th>88</th>\n",
       "      <td>WOLZA</td>\n",
       "      <td>16</td>\n",
       "    </tr>\n",
       "  </tbody>\n",
       "</table>\n",
       "<p>89 rows × 2 columns</p>\n",
       "</div>"
      ],
      "text/plain": [
       "   customer_id  count\n",
       "0        ALFKI     12\n",
       "1        ANATR     10\n",
       "2        ANTON     17\n",
       "3        AROUT     30\n",
       "4        BERGS     52\n",
       "..         ...    ...\n",
       "84       WARTH     37\n",
       "85       WELLI     19\n",
       "86       WHITC     40\n",
       "87       WILMK     17\n",
       "88       WOLZA     16\n",
       "\n",
       "[89 rows x 2 columns]"
      ]
     },
     "execution_count": 26,
     "metadata": {},
     "output_type": "execute_result"
    }
   ],
   "source": [
    "order_count = order_count.reset_index()\n",
    "order_count"
   ]
  },
  {
   "cell_type": "code",
   "execution_count": 27,
   "metadata": {},
   "outputs": [],
   "source": [
    "df[\"order_count\"] = order_count[\"count\"]"
   ]
  },
  {
   "cell_type": "code",
   "execution_count": 28,
   "metadata": {},
   "outputs": [
    {
     "name": "stderr",
     "output_type": "stream",
     "text": [
      "C:\\Users\\kaptan\\AppData\\Local\\Temp\\ipykernel_14212\\473876835.py:1: FutureWarning: The default of observed=False is deprecated and will be changed to True in a future version of pandas. Pass observed=False to retain current behavior or observed=True to adopt the future default and silence this warning.\n",
      "  order_size = data.groupby([\"customer_id\", \"order_id\"])[\"order_size\"].agg(\"sum\")\n"
     ]
    },
    {
     "data": {
      "application/vnd.microsoft.datawrangler.viewer.v0+json": {
       "columns": [
        {
         "name": "index",
         "rawType": "int64",
         "type": "integer"
        },
        {
         "name": "customer_id",
         "rawType": "category",
         "type": "unknown"
        },
        {
         "name": "order_id",
         "rawType": "category",
         "type": "unknown"
        },
        {
         "name": "order_size",
         "rawType": "float64",
         "type": "float"
        }
       ],
       "conversionMethod": "pd.DataFrame",
       "ref": "7f4a3c91-970f-4711-bf58-3186a0ecee45",
       "rows": [
        [
         "0",
         "ALFKI",
         "10643",
         "814.5"
        ],
        [
         "1",
         "ALFKI",
         "10692",
         "878.0"
        ],
        [
         "2",
         "ALFKI",
         "10702",
         "330.0"
        ],
        [
         "3",
         "ALFKI",
         "10835",
         "845.8"
        ],
        [
         "4",
         "ALFKI",
         "10952",
         "471.2"
        ],
        [
         "5",
         "ALFKI",
         "11011",
         "933.5"
        ],
        [
         "6",
         "ANATR",
         "10308",
         "88.8"
        ],
        [
         "7",
         "ANATR",
         "10625",
         "479.75"
        ],
        [
         "8",
         "ANATR",
         "10759",
         "320.0"
        ],
        [
         "9",
         "ANATR",
         "10926",
         "514.4"
        ],
        [
         "10",
         "ANTON",
         "10365",
         "403.20000000000005"
        ],
        [
         "11",
         "ANTON",
         "10507",
         "749.0625"
        ],
        [
         "12",
         "ANTON",
         "10535",
         "1940.85"
        ],
        [
         "13",
         "ANTON",
         "10573",
         "2082.0"
        ],
        [
         "14",
         "ANTON",
         "10677",
         "813.365"
        ],
        [
         "15",
         "ANTON",
         "10682",
         "375.5"
        ],
        [
         "16",
         "ANTON",
         "10856",
         "660.0"
        ],
        [
         "17",
         "AROUT",
         "10355",
         "480.0"
        ],
        [
         "18",
         "AROUT",
         "10383",
         "899.0"
        ],
        [
         "19",
         "AROUT",
         "10453",
         "407.70000000000005"
        ],
        [
         "20",
         "AROUT",
         "10558",
         "2142.9"
        ],
        [
         "21",
         "AROUT",
         "10707",
         "1641.0"
        ],
        [
         "22",
         "AROUT",
         "10741",
         "228.0"
        ],
        [
         "23",
         "AROUT",
         "10743",
         "319.2"
        ],
        [
         "24",
         "AROUT",
         "10768",
         "1477.0"
        ],
        [
         "25",
         "AROUT",
         "10793",
         "191.1"
        ],
        [
         "26",
         "AROUT",
         "10864",
         "282.0"
        ],
        [
         "27",
         "AROUT",
         "10920",
         "390.0"
        ],
        [
         "28",
         "AROUT",
         "10953",
         "4441.25"
        ],
        [
         "29",
         "AROUT",
         "11016",
         "491.5"
        ],
        [
         "30",
         "BERGS",
         "10278",
         "1488.8"
        ],
        [
         "31",
         "BERGS",
         "10280",
         "613.2"
        ],
        [
         "32",
         "BERGS",
         "10384",
         "2222.3999999999996"
        ],
        [
         "33",
         "BERGS",
         "10444",
         "1031.7"
        ],
        [
         "34",
         "BERGS",
         "10445",
         "174.9"
        ],
        [
         "35",
         "BERGS",
         "10524",
         "3192.65"
        ],
        [
         "36",
         "BERGS",
         "10572",
         "1501.085"
        ],
        [
         "37",
         "BERGS",
         "10626",
         "1503.6"
        ],
        [
         "38",
         "BERGS",
         "10654",
         "601.83"
        ],
        [
         "39",
         "BERGS",
         "10672",
         "3815.25"
        ],
        [
         "40",
         "BERGS",
         "10689",
         "472.5"
        ],
        [
         "41",
         "BERGS",
         "10733",
         "1459.0"
        ],
        [
         "42",
         "BERGS",
         "10778",
         "96.5"
        ],
        [
         "43",
         "BERGS",
         "10837",
         "1064.5"
        ],
        [
         "44",
         "BERGS",
         "10857",
         "2048.2125"
        ],
        [
         "45",
         "BERGS",
         "10866",
         "1096.1999999999998"
        ],
        [
         "46",
         "BERGS",
         "10875",
         "709.55"
        ],
        [
         "47",
         "BERGS",
         "10924",
         "1835.7"
        ],
        [
         "48",
         "BLAUS",
         "10501",
         "149.0"
        ],
        [
         "49",
         "BLAUS",
         "10509",
         "136.8"
        ]
       ],
       "shape": {
        "columns": 3,
        "rows": 830
       }
      },
      "text/html": [
       "<div>\n",
       "<style scoped>\n",
       "    .dataframe tbody tr th:only-of-type {\n",
       "        vertical-align: middle;\n",
       "    }\n",
       "\n",
       "    .dataframe tbody tr th {\n",
       "        vertical-align: top;\n",
       "    }\n",
       "\n",
       "    .dataframe thead th {\n",
       "        text-align: right;\n",
       "    }\n",
       "</style>\n",
       "<table border=\"1\" class=\"dataframe\">\n",
       "  <thead>\n",
       "    <tr style=\"text-align: right;\">\n",
       "      <th></th>\n",
       "      <th>customer_id</th>\n",
       "      <th>order_id</th>\n",
       "      <th>order_size</th>\n",
       "    </tr>\n",
       "  </thead>\n",
       "  <tbody>\n",
       "    <tr>\n",
       "      <th>0</th>\n",
       "      <td>ALFKI</td>\n",
       "      <td>10643</td>\n",
       "      <td>814.50</td>\n",
       "    </tr>\n",
       "    <tr>\n",
       "      <th>1</th>\n",
       "      <td>ALFKI</td>\n",
       "      <td>10692</td>\n",
       "      <td>878.00</td>\n",
       "    </tr>\n",
       "    <tr>\n",
       "      <th>2</th>\n",
       "      <td>ALFKI</td>\n",
       "      <td>10702</td>\n",
       "      <td>330.00</td>\n",
       "    </tr>\n",
       "    <tr>\n",
       "      <th>3</th>\n",
       "      <td>ALFKI</td>\n",
       "      <td>10835</td>\n",
       "      <td>845.80</td>\n",
       "    </tr>\n",
       "    <tr>\n",
       "      <th>4</th>\n",
       "      <td>ALFKI</td>\n",
       "      <td>10952</td>\n",
       "      <td>471.20</td>\n",
       "    </tr>\n",
       "    <tr>\n",
       "      <th>...</th>\n",
       "      <td>...</td>\n",
       "      <td>...</td>\n",
       "      <td>...</td>\n",
       "    </tr>\n",
       "    <tr>\n",
       "      <th>825</th>\n",
       "      <td>WOLZA</td>\n",
       "      <td>10792</td>\n",
       "      <td>399.85</td>\n",
       "    </tr>\n",
       "    <tr>\n",
       "      <th>826</th>\n",
       "      <td>WOLZA</td>\n",
       "      <td>10870</td>\n",
       "      <td>160.00</td>\n",
       "    </tr>\n",
       "    <tr>\n",
       "      <th>827</th>\n",
       "      <td>WOLZA</td>\n",
       "      <td>10906</td>\n",
       "      <td>427.50</td>\n",
       "    </tr>\n",
       "    <tr>\n",
       "      <th>828</th>\n",
       "      <td>WOLZA</td>\n",
       "      <td>10998</td>\n",
       "      <td>686.00</td>\n",
       "    </tr>\n",
       "    <tr>\n",
       "      <th>829</th>\n",
       "      <td>WOLZA</td>\n",
       "      <td>11044</td>\n",
       "      <td>591.60</td>\n",
       "    </tr>\n",
       "  </tbody>\n",
       "</table>\n",
       "<p>830 rows × 3 columns</p>\n",
       "</div>"
      ],
      "text/plain": [
       "    customer_id order_id  order_size\n",
       "0         ALFKI    10643      814.50\n",
       "1         ALFKI    10692      878.00\n",
       "2         ALFKI    10702      330.00\n",
       "3         ALFKI    10835      845.80\n",
       "4         ALFKI    10952      471.20\n",
       "..          ...      ...         ...\n",
       "825       WOLZA    10792      399.85\n",
       "826       WOLZA    10870      160.00\n",
       "827       WOLZA    10906      427.50\n",
       "828       WOLZA    10998      686.00\n",
       "829       WOLZA    11044      591.60\n",
       "\n",
       "[830 rows x 3 columns]"
      ]
     },
     "execution_count": 28,
     "metadata": {},
     "output_type": "execute_result"
    }
   ],
   "source": [
    "order_size = data.groupby([\"customer_id\", \"order_id\"])[\"order_size\"].agg(\"sum\")\n",
    "order_size = order_size.reset_index().query(\"order_size != 0\").reset_index(drop=True)\n",
    "order_size"
   ]
  },
  {
   "cell_type": "code",
   "execution_count": 29,
   "metadata": {},
   "outputs": [
    {
     "data": {
      "image/png": "[encoded data removed]",
      "text/plain": [
       "<Figure size 640x480 with 1 Axes>"
      ]
     },
     "metadata": {},
     "output_type": "display_data"
    }
   ],
   "source": [
    "import matplotlib.pyplot as plt\n",
    "\n",
    "plt.boxplot(order_size[\"order_size\"]);"
   ]
  },
  {
   "cell_type": "code",
   "execution_count": 30,
   "metadata": {},
   "outputs": [
    {
     "name": "stderr",
     "output_type": "stream",
     "text": [
      "C:\\Users\\kaptan\\AppData\\Local\\Temp\\ipykernel_14212\\1021890079.py:1: FutureWarning: The default of observed=False is deprecated and will be changed to True in a future version of pandas. Pass observed=False to retain current behavior or observed=True to adopt the future default and silence this warning.\n",
      "  median_order_size = order_size.groupby(\"customer_id\")[\"order_size\"].agg(\"median\")\n"
     ]
    },
    {
     "data": {
      "application/vnd.microsoft.datawrangler.viewer.v0+json": {
       "columns": [
        {
         "name": "index",
         "rawType": "int64",
         "type": "integer"
        },
        {
         "name": "customer_id",
         "rawType": "category",
         "type": "unknown"
        },
        {
         "name": "order_size",
         "rawType": "float64",
         "type": "float"
        }
       ],
       "conversionMethod": "pd.DataFrame",
       "ref": "5cc1f172-c9f6-45cc-8c54-b4c298c22e36",
       "rows": [
        [
         "0",
         "ALFKI",
         "830.15"
        ],
        [
         "1",
         "ANATR",
         "399.875"
        ],
        [
         "2",
         "ANTON",
         "749.0625"
        ],
        [
         "3",
         "AROUT",
         "480.0"
        ],
        [
         "4",
         "BERGS",
         "1277.6"
        ],
        [
         "5",
         "BLAUS",
         "464.0"
        ],
        [
         "6",
         "BLONP",
         "1176.0"
        ],
        [
         "7",
         "BOLID",
         "982.0"
        ],
        [
         "8",
         "BONAP",
         "1296.0"
        ],
        [
         "9",
         "BOTTM",
         "1019.6625"
        ],
        [
         "10",
         "BSBEV",
         "478.2"
        ],
        [
         "11",
         "CACTU",
         "265.25"
        ],
        [
         "12",
         "CENTC",
         "100.8"
        ],
        [
         "13",
         "CHOPS",
         "1529.9"
        ],
        [
         "14",
         "COMMI",
         "405.75"
        ],
        [
         "15",
         "CONSH",
         "631.6"
        ],
        [
         "16",
         "DRACD",
         "433.6"
        ],
        [
         "17",
         "DUMON",
         "346.4"
        ],
        [
         "18",
         "EASTC",
         "1458.405"
        ],
        [
         "19",
         "ERNSH",
         "2933.25"
        ],
        [
         "20",
         "FAMIA",
         "310.0"
        ],
        [
         "21",
         "FOLIG",
         "1622.4"
        ],
        [
         "22",
         "FOLKO",
         "868.75"
        ],
        [
         "23",
         "FRANK",
         "1512.0"
        ],
        [
         "24",
         "FRANR",
         "920.1"
        ],
        [
         "25",
         "FRANS",
         "90.75"
        ],
        [
         "26",
         "FURIB",
         "713.7525"
        ],
        [
         "27",
         "GALED",
         "137.5"
        ],
        [
         "28",
         "GODOS",
         "770.65"
        ],
        [
         "29",
         "GOURL",
         "722.5"
        ],
        [
         "30",
         "GREAL",
         "510.0"
        ],
        [
         "31",
         "GROSR",
         "744.35"
        ],
        [
         "32",
         "HANAR",
         "1422.25"
        ],
        [
         "33",
         "HILAA",
         "1027.2"
        ],
        [
         "34",
         "HUNGC",
         "442.0"
        ],
        [
         "35",
         "HUNGO",
         "2023.38"
        ],
        [
         "36",
         "ISLAT",
         "481.7"
        ],
        [
         "37",
         "KOENE",
         "1232.4095"
        ],
        [
         "38",
         "LACOR",
         "470.275"
        ],
        [
         "39",
         "LAMAI",
         "452.255"
        ],
        [
         "40",
         "LAUGB",
         "187.0"
        ],
        [
         "41",
         "LAZYK",
         "178.5"
        ],
        [
         "42",
         "LEHMS",
         "1170.375"
        ],
        [
         "43",
         "LETSS",
         "690.3262500000001"
        ],
        [
         "44",
         "LILAS",
         "1289.8400000000001"
        ],
        [
         "45",
         "LINOD",
         "1353.4"
        ],
        [
         "46",
         "LONEP",
         "352.6"
        ],
        [
         "47",
         "MAGAA",
         "622.75"
        ],
        [
         "48",
         "MAISD",
         "1303.195"
        ],
        [
         "49",
         "MEREP",
         "1260.0"
        ]
       ],
       "shape": {
        "columns": 2,
        "rows": 89
       }
      },
      "text/html": [
       "<div>\n",
       "<style scoped>\n",
       "    .dataframe tbody tr th:only-of-type {\n",
       "        vertical-align: middle;\n",
       "    }\n",
       "\n",
       "    .dataframe tbody tr th {\n",
       "        vertical-align: top;\n",
       "    }\n",
       "\n",
       "    .dataframe thead th {\n",
       "        text-align: right;\n",
       "    }\n",
       "</style>\n",
       "<table border=\"1\" class=\"dataframe\">\n",
       "  <thead>\n",
       "    <tr style=\"text-align: right;\">\n",
       "      <th></th>\n",
       "      <th>customer_id</th>\n",
       "      <th>order_size</th>\n",
       "    </tr>\n",
       "  </thead>\n",
       "  <tbody>\n",
       "    <tr>\n",
       "      <th>0</th>\n",
       "      <td>ALFKI</td>\n",
       "      <td>830.1500</td>\n",
       "    </tr>\n",
       "    <tr>\n",
       "      <th>1</th>\n",
       "      <td>ANATR</td>\n",
       "      <td>399.8750</td>\n",
       "    </tr>\n",
       "    <tr>\n",
       "      <th>2</th>\n",
       "      <td>ANTON</td>\n",
       "      <td>749.0625</td>\n",
       "    </tr>\n",
       "    <tr>\n",
       "      <th>3</th>\n",
       "      <td>AROUT</td>\n",
       "      <td>480.0000</td>\n",
       "    </tr>\n",
       "    <tr>\n",
       "      <th>4</th>\n",
       "      <td>BERGS</td>\n",
       "      <td>1277.6000</td>\n",
       "    </tr>\n",
       "    <tr>\n",
       "      <th>...</th>\n",
       "      <td>...</td>\n",
       "      <td>...</td>\n",
       "    </tr>\n",
       "    <tr>\n",
       "      <th>84</th>\n",
       "      <td>WARTH</td>\n",
       "      <td>877.2000</td>\n",
       "    </tr>\n",
       "    <tr>\n",
       "      <th>85</th>\n",
       "      <td>WELLI</td>\n",
       "      <td>517.8000</td>\n",
       "    </tr>\n",
       "    <tr>\n",
       "      <th>86</th>\n",
       "      <td>WHITC</td>\n",
       "      <td>1284.6900</td>\n",
       "    </tr>\n",
       "    <tr>\n",
       "      <th>87</th>\n",
       "      <td>WILMK</td>\n",
       "      <td>452.9000</td>\n",
       "    </tr>\n",
       "    <tr>\n",
       "      <th>88</th>\n",
       "      <td>WOLZA</td>\n",
       "      <td>459.0000</td>\n",
       "    </tr>\n",
       "  </tbody>\n",
       "</table>\n",
       "<p>89 rows × 2 columns</p>\n",
       "</div>"
      ],
      "text/plain": [
       "   customer_id  order_size\n",
       "0        ALFKI    830.1500\n",
       "1        ANATR    399.8750\n",
       "2        ANTON    749.0625\n",
       "3        AROUT    480.0000\n",
       "4        BERGS   1277.6000\n",
       "..         ...         ...\n",
       "84       WARTH    877.2000\n",
       "85       WELLI    517.8000\n",
       "86       WHITC   1284.6900\n",
       "87       WILMK    452.9000\n",
       "88       WOLZA    459.0000\n",
       "\n",
       "[89 rows x 2 columns]"
      ]
     },
     "execution_count": 30,
     "metadata": {},
     "output_type": "execute_result"
    }
   ],
   "source": [
    "median_order_size = order_size.groupby(\"customer_id\")[\"order_size\"].agg(\"median\")\n",
    "median_order_size = median_order_size.reset_index()\n",
    "median_order_size"
   ]
  },
  {
   "cell_type": "code",
   "execution_count": 31,
   "metadata": {},
   "outputs": [],
   "source": [
    "df[\"median_order_size\"] = median_order_size[\"order_size\"]"
   ]
  },
  {
   "cell_type": "code",
   "execution_count": 32,
   "metadata": {},
   "outputs": [
    {
     "data": {
      "application/vnd.microsoft.datawrangler.viewer.v0+json": {
       "columns": [
        {
         "name": "index",
         "rawType": "int64",
         "type": "integer"
        },
        {
         "name": "customer_id",
         "rawType": "category",
         "type": "unknown"
        },
        {
         "name": "order_count",
         "rawType": "int64",
         "type": "integer"
        },
        {
         "name": "median_order_size",
         "rawType": "float64",
         "type": "float"
        }
       ],
       "conversionMethod": "pd.DataFrame",
       "ref": "045eeed0-16ca-4c9c-898c-09a81367f5d9",
       "rows": [
        [
         "0",
         "ALFKI",
         "12",
         "830.15"
        ],
        [
         "1",
         "ANATR",
         "10",
         "399.875"
        ],
        [
         "2",
         "ANTON",
         "17",
         "749.0625"
        ],
        [
         "3",
         "AROUT",
         "30",
         "480.0"
        ],
        [
         "4",
         "BERGS",
         "52",
         "1277.6"
        ]
       ],
       "shape": {
        "columns": 3,
        "rows": 5
       }
      },
      "text/html": [
       "<div>\n",
       "<style scoped>\n",
       "    .dataframe tbody tr th:only-of-type {\n",
       "        vertical-align: middle;\n",
       "    }\n",
       "\n",
       "    .dataframe tbody tr th {\n",
       "        vertical-align: top;\n",
       "    }\n",
       "\n",
       "    .dataframe thead th {\n",
       "        text-align: right;\n",
       "    }\n",
       "</style>\n",
       "<table border=\"1\" class=\"dataframe\">\n",
       "  <thead>\n",
       "    <tr style=\"text-align: right;\">\n",
       "      <th></th>\n",
       "      <th>customer_id</th>\n",
       "      <th>order_count</th>\n",
       "      <th>median_order_size</th>\n",
       "    </tr>\n",
       "  </thead>\n",
       "  <tbody>\n",
       "    <tr>\n",
       "      <th>0</th>\n",
       "      <td>ALFKI</td>\n",
       "      <td>12</td>\n",
       "      <td>830.1500</td>\n",
       "    </tr>\n",
       "    <tr>\n",
       "      <th>1</th>\n",
       "      <td>ANATR</td>\n",
       "      <td>10</td>\n",
       "      <td>399.8750</td>\n",
       "    </tr>\n",
       "    <tr>\n",
       "      <th>2</th>\n",
       "      <td>ANTON</td>\n",
       "      <td>17</td>\n",
       "      <td>749.0625</td>\n",
       "    </tr>\n",
       "    <tr>\n",
       "      <th>3</th>\n",
       "      <td>AROUT</td>\n",
       "      <td>30</td>\n",
       "      <td>480.0000</td>\n",
       "    </tr>\n",
       "    <tr>\n",
       "      <th>4</th>\n",
       "      <td>BERGS</td>\n",
       "      <td>52</td>\n",
       "      <td>1277.6000</td>\n",
       "    </tr>\n",
       "  </tbody>\n",
       "</table>\n",
       "</div>"
      ],
      "text/plain": [
       "  customer_id  order_count  median_order_size\n",
       "0       ALFKI           12           830.1500\n",
       "1       ANATR           10           399.8750\n",
       "2       ANTON           17           749.0625\n",
       "3       AROUT           30           480.0000\n",
       "4       BERGS           52          1277.6000"
      ]
     },
     "execution_count": 32,
     "metadata": {},
     "output_type": "execute_result"
    }
   ],
   "source": [
    "df.head()"
   ]
  },
  {
   "cell_type": "code",
   "execution_count": 33,
   "metadata": {},
   "outputs": [
    {
     "name": "stderr",
     "output_type": "stream",
     "text": [
      "C:\\Users\\kaptan\\AppData\\Local\\Temp\\ipykernel_14212\\3350526445.py:2: FutureWarning: The default of observed=False is deprecated and will be changed to True in a future version of pandas. Pass observed=False to retain current behavior or observed=True to adopt the future default and silence this warning.\n",
      "  customer_country = data.groupby(\"customer_id\")[\"ship_country\"].value_counts()\n"
     ]
    },
    {
     "data": {
      "application/vnd.microsoft.datawrangler.viewer.v0+json": {
       "columns": [
        {
         "name": "index",
         "rawType": "int64",
         "type": "integer"
        },
        {
         "name": "customer_id",
         "rawType": "category",
         "type": "unknown"
        },
        {
         "name": "ship_country",
         "rawType": "category",
         "type": "unknown"
        },
        {
         "name": "count",
         "rawType": "int64",
         "type": "integer"
        }
       ],
       "conversionMethod": "pd.DataFrame",
       "ref": "c14c485f-c6e0-425a-8c94-40397d9fc1fd",
       "rows": [
        [
         "0",
         "ALFKI",
         "Germany",
         "12"
        ],
        [
         "1",
         "ANATR",
         "Mexico",
         "10"
        ],
        [
         "2",
         "ANTON",
         "Mexico",
         "17"
        ],
        [
         "3",
         "AROUT",
         "UK",
         "30"
        ],
        [
         "4",
         "BERGS",
         "Sweden",
         "52"
        ],
        [
         "5",
         "BLAUS",
         "Germany",
         "14"
        ],
        [
         "6",
         "BLONP",
         "France",
         "26"
        ],
        [
         "7",
         "BOLID",
         "Spain",
         "6"
        ],
        [
         "8",
         "BONAP",
         "France",
         "44"
        ],
        [
         "9",
         "BOTTM",
         "Canada",
         "35"
        ],
        [
         "10",
         "BSBEV",
         "UK",
         "22"
        ],
        [
         "11",
         "CACTU",
         "Argentina",
         "11"
        ],
        [
         "12",
         "CENTC",
         "Mexico",
         "2"
        ],
        [
         "13",
         "CHOPS",
         "Switzerland",
         "22"
        ],
        [
         "14",
         "COMMI",
         "Brazil",
         "10"
        ],
        [
         "15",
         "CONSH",
         "UK",
         "7"
        ],
        [
         "16",
         "DRACD",
         "Germany",
         "10"
        ],
        [
         "17",
         "DUMON",
         "France",
         "9"
        ],
        [
         "18",
         "EASTC",
         "UK",
         "21"
        ],
        [
         "19",
         "ERNSH",
         "Austria",
         "102"
        ],
        [
         "20",
         "FAMIA",
         "Brazil",
         "19"
        ],
        [
         "21",
         "FOLIG",
         "France",
         "16"
        ],
        [
         "22",
         "FOLKO",
         "Sweden",
         "45"
        ],
        [
         "23",
         "FRANK",
         "Germany",
         "48"
        ],
        [
         "24",
         "FRANR",
         "France",
         "6"
        ],
        [
         "25",
         "FRANS",
         "Italy",
         "10"
        ],
        [
         "26",
         "FURIB",
         "Portugal",
         "20"
        ],
        [
         "27",
         "GALED",
         "Spain",
         "8"
        ],
        [
         "28",
         "GODOS",
         "Spain",
         "26"
        ],
        [
         "29",
         "GOURL",
         "Brazil",
         "19"
        ],
        [
         "30",
         "GREAL",
         "USA",
         "22"
        ],
        [
         "31",
         "GROSR",
         "Venezuela",
         "4"
        ],
        [
         "32",
         "HANAR",
         "Brazil",
         "32"
        ],
        [
         "33",
         "HILAA",
         "Venezuela",
         "45"
        ],
        [
         "34",
         "HUNGC",
         "USA",
         "9"
        ],
        [
         "35",
         "HUNGO",
         "Ireland",
         "55"
        ],
        [
         "36",
         "ISLAT",
         "UK",
         "23"
        ],
        [
         "37",
         "KOENE",
         "Germany",
         "39"
        ],
        [
         "38",
         "LACOR",
         "France",
         "11"
        ],
        [
         "39",
         "LAMAI",
         "France",
         "31"
        ],
        [
         "40",
         "LAUGB",
         "Canada",
         "8"
        ],
        [
         "41",
         "LAZYK",
         "USA",
         "2"
        ],
        [
         "42",
         "LEHMS",
         "Germany",
         "39"
        ],
        [
         "43",
         "LETSS",
         "USA",
         "10"
        ],
        [
         "44",
         "LILAS",
         "Venezuela",
         "34"
        ],
        [
         "45",
         "LINOD",
         "Venezuela",
         "35"
        ],
        [
         "46",
         "LONEP",
         "USA",
         "14"
        ],
        [
         "47",
         "MAGAA",
         "Italy",
         "21"
        ],
        [
         "48",
         "MAISD",
         "Belgium",
         "17"
        ],
        [
         "49",
         "MEREP",
         "Canada",
         "32"
        ]
       ],
       "shape": {
        "columns": 3,
        "rows": 89
       }
      },
      "text/html": [
       "<div>\n",
       "<style scoped>\n",
       "    .dataframe tbody tr th:only-of-type {\n",
       "        vertical-align: middle;\n",
       "    }\n",
       "\n",
       "    .dataframe tbody tr th {\n",
       "        vertical-align: top;\n",
       "    }\n",
       "\n",
       "    .dataframe thead th {\n",
       "        text-align: right;\n",
       "    }\n",
       "</style>\n",
       "<table border=\"1\" class=\"dataframe\">\n",
       "  <thead>\n",
       "    <tr style=\"text-align: right;\">\n",
       "      <th></th>\n",
       "      <th>customer_id</th>\n",
       "      <th>ship_country</th>\n",
       "      <th>count</th>\n",
       "    </tr>\n",
       "  </thead>\n",
       "  <tbody>\n",
       "    <tr>\n",
       "      <th>0</th>\n",
       "      <td>ALFKI</td>\n",
       "      <td>Germany</td>\n",
       "      <td>12</td>\n",
       "    </tr>\n",
       "    <tr>\n",
       "      <th>1</th>\n",
       "      <td>ANATR</td>\n",
       "      <td>Mexico</td>\n",
       "      <td>10</td>\n",
       "    </tr>\n",
       "    <tr>\n",
       "      <th>2</th>\n",
       "      <td>ANTON</td>\n",
       "      <td>Mexico</td>\n",
       "      <td>17</td>\n",
       "    </tr>\n",
       "    <tr>\n",
       "      <th>3</th>\n",
       "      <td>AROUT</td>\n",
       "      <td>UK</td>\n",
       "      <td>30</td>\n",
       "    </tr>\n",
       "    <tr>\n",
       "      <th>4</th>\n",
       "      <td>BERGS</td>\n",
       "      <td>Sweden</td>\n",
       "      <td>52</td>\n",
       "    </tr>\n",
       "    <tr>\n",
       "      <th>...</th>\n",
       "      <td>...</td>\n",
       "      <td>...</td>\n",
       "      <td>...</td>\n",
       "    </tr>\n",
       "    <tr>\n",
       "      <th>84</th>\n",
       "      <td>WARTH</td>\n",
       "      <td>Finland</td>\n",
       "      <td>37</td>\n",
       "    </tr>\n",
       "    <tr>\n",
       "      <th>85</th>\n",
       "      <td>WELLI</td>\n",
       "      <td>Brazil</td>\n",
       "      <td>19</td>\n",
       "    </tr>\n",
       "    <tr>\n",
       "      <th>86</th>\n",
       "      <td>WHITC</td>\n",
       "      <td>USA</td>\n",
       "      <td>40</td>\n",
       "    </tr>\n",
       "    <tr>\n",
       "      <th>87</th>\n",
       "      <td>WILMK</td>\n",
       "      <td>Finland</td>\n",
       "      <td>17</td>\n",
       "    </tr>\n",
       "    <tr>\n",
       "      <th>88</th>\n",
       "      <td>WOLZA</td>\n",
       "      <td>Poland</td>\n",
       "      <td>16</td>\n",
       "    </tr>\n",
       "  </tbody>\n",
       "</table>\n",
       "<p>89 rows × 3 columns</p>\n",
       "</div>"
      ],
      "text/plain": [
       "   customer_id ship_country  count\n",
       "0        ALFKI      Germany     12\n",
       "1        ANATR       Mexico     10\n",
       "2        ANTON       Mexico     17\n",
       "3        AROUT           UK     30\n",
       "4        BERGS       Sweden     52\n",
       "..         ...          ...    ...\n",
       "84       WARTH      Finland     37\n",
       "85       WELLI       Brazil     19\n",
       "86       WHITC          USA     40\n",
       "87       WILMK      Finland     17\n",
       "88       WOLZA       Poland     16\n",
       "\n",
       "[89 rows x 3 columns]"
      ]
     },
     "execution_count": 33,
     "metadata": {},
     "output_type": "execute_result"
    }
   ],
   "source": [
    "# her müşteri için bir ülkeye teslimat yapıldığı gözlemlendi (89 müşteri 89 satır)\n",
    "customer_country = data.groupby(\"customer_id\")[\"ship_country\"].value_counts()\n",
    "customer_country = customer_country.reset_index().query(\"count != 0\").reset_index(drop=True)\n",
    "customer_country[\"customer_id\"].nunique() # 89 customer_id vardır\n",
    "customer_country"
   ]
  },
  {
   "cell_type": "code",
   "execution_count": 34,
   "metadata": {},
   "outputs": [],
   "source": [
    "df[\"country\"] = customer_country[\"ship_country\"]"
   ]
  },
  {
   "cell_type": "code",
   "execution_count": 35,
   "metadata": {},
   "outputs": [
    {
     "name": "stderr",
     "output_type": "stream",
     "text": [
      "C:\\Users\\kaptan\\AppData\\Local\\Temp\\ipykernel_14212\\3973344950.py:2: FutureWarning: The default of observed=False is deprecated and will be changed to True in a future version of pandas. Pass observed=False to retain current behavior or observed=True to adopt the future default and silence this warning.\n",
      "  category_counts = data.groupby(['customer_id', 'category_id'])[\"category_id\"].agg([\"count\"])\n"
     ]
    },
    {
     "data": {
      "application/vnd.microsoft.datawrangler.viewer.v0+json": {
       "columns": [
        {
         "name": "index",
         "rawType": "int64",
         "type": "integer"
        },
        {
         "name": "customer_id",
         "rawType": "category",
         "type": "unknown"
        },
        {
         "name": "category_id",
         "rawType": "category",
         "type": "unknown"
        },
        {
         "name": "count",
         "rawType": "int64",
         "type": "integer"
        }
       ],
       "conversionMethod": "pd.DataFrame",
       "ref": "e5910e0d-bd86-487c-a154-f40cc251c5bf",
       "rows": [
        [
         "0",
         "ALFKI",
         "1",
         "2"
        ],
        [
         "1",
         "ALFKI",
         "2",
         "4"
        ],
        [
         "2",
         "ALFKI",
         "3",
         "0"
        ],
        [
         "3",
         "ALFKI",
         "4",
         "2"
        ],
        [
         "4",
         "ALFKI",
         "5",
         "0"
        ],
        [
         "5",
         "ALFKI",
         "6",
         "0"
        ],
        [
         "6",
         "ALFKI",
         "7",
         "2"
        ],
        [
         "7",
         "ALFKI",
         "8",
         "2"
        ],
        [
         "8",
         "ANATR",
         "1",
         "1"
        ],
        [
         "9",
         "ANATR",
         "2",
         "0"
        ],
        [
         "10",
         "ANATR",
         "3",
         "1"
        ],
        [
         "11",
         "ANATR",
         "4",
         "5"
        ],
        [
         "12",
         "ANATR",
         "5",
         "1"
        ],
        [
         "13",
         "ANATR",
         "6",
         "0"
        ],
        [
         "14",
         "ANATR",
         "7",
         "1"
        ],
        [
         "15",
         "ANATR",
         "8",
         "1"
        ],
        [
         "16",
         "ANTON",
         "1",
         "4"
        ],
        [
         "17",
         "ANTON",
         "2",
         "1"
        ],
        [
         "18",
         "ANTON",
         "3",
         "2"
        ],
        [
         "19",
         "ANTON",
         "4",
         "5"
        ],
        [
         "20",
         "ANTON",
         "5",
         "2"
        ],
        [
         "21",
         "ANTON",
         "6",
         "2"
        ],
        [
         "22",
         "ANTON",
         "7",
         "0"
        ],
        [
         "23",
         "ANTON",
         "8",
         "1"
        ],
        [
         "24",
         "AROUT",
         "1",
         "6"
        ],
        [
         "25",
         "AROUT",
         "2",
         "0"
        ],
        [
         "26",
         "AROUT",
         "3",
         "5"
        ],
        [
         "27",
         "AROUT",
         "4",
         "5"
        ],
        [
         "28",
         "AROUT",
         "5",
         "6"
        ],
        [
         "29",
         "AROUT",
         "6",
         "2"
        ],
        [
         "30",
         "AROUT",
         "7",
         "1"
        ],
        [
         "31",
         "AROUT",
         "8",
         "5"
        ],
        [
         "32",
         "BERGS",
         "1",
         "13"
        ],
        [
         "33",
         "BERGS",
         "2",
         "4"
        ],
        [
         "34",
         "BERGS",
         "3",
         "8"
        ],
        [
         "35",
         "BERGS",
         "4",
         "6"
        ],
        [
         "36",
         "BERGS",
         "5",
         "1"
        ],
        [
         "37",
         "BERGS",
         "6",
         "7"
        ],
        [
         "38",
         "BERGS",
         "7",
         "3"
        ],
        [
         "39",
         "BERGS",
         "8",
         "10"
        ],
        [
         "40",
         "BLAUS",
         "1",
         "2"
        ],
        [
         "41",
         "BLAUS",
         "2",
         "1"
        ],
        [
         "42",
         "BLAUS",
         "3",
         "4"
        ],
        [
         "43",
         "BLAUS",
         "4",
         "2"
        ],
        [
         "44",
         "BLAUS",
         "5",
         "1"
        ],
        [
         "45",
         "BLAUS",
         "6",
         "1"
        ],
        [
         "46",
         "BLAUS",
         "7",
         "2"
        ],
        [
         "47",
         "BLAUS",
         "8",
         "1"
        ],
        [
         "48",
         "BLONP",
         "1",
         "6"
        ],
        [
         "49",
         "BLONP",
         "2",
         "0"
        ]
       ],
       "shape": {
        "columns": 3,
        "rows": 712
       }
      },
      "text/html": [
       "<div>\n",
       "<style scoped>\n",
       "    .dataframe tbody tr th:only-of-type {\n",
       "        vertical-align: middle;\n",
       "    }\n",
       "\n",
       "    .dataframe tbody tr th {\n",
       "        vertical-align: top;\n",
       "    }\n",
       "\n",
       "    .dataframe thead th {\n",
       "        text-align: right;\n",
       "    }\n",
       "</style>\n",
       "<table border=\"1\" class=\"dataframe\">\n",
       "  <thead>\n",
       "    <tr style=\"text-align: right;\">\n",
       "      <th></th>\n",
       "      <th>customer_id</th>\n",
       "      <th>category_id</th>\n",
       "      <th>count</th>\n",
       "    </tr>\n",
       "  </thead>\n",
       "  <tbody>\n",
       "    <tr>\n",
       "      <th>0</th>\n",
       "      <td>ALFKI</td>\n",
       "      <td>1</td>\n",
       "      <td>2</td>\n",
       "    </tr>\n",
       "    <tr>\n",
       "      <th>1</th>\n",
       "      <td>ALFKI</td>\n",
       "      <td>2</td>\n",
       "      <td>4</td>\n",
       "    </tr>\n",
       "    <tr>\n",
       "      <th>2</th>\n",
       "      <td>ALFKI</td>\n",
       "      <td>3</td>\n",
       "      <td>0</td>\n",
       "    </tr>\n",
       "    <tr>\n",
       "      <th>3</th>\n",
       "      <td>ALFKI</td>\n",
       "      <td>4</td>\n",
       "      <td>2</td>\n",
       "    </tr>\n",
       "    <tr>\n",
       "      <th>4</th>\n",
       "      <td>ALFKI</td>\n",
       "      <td>5</td>\n",
       "      <td>0</td>\n",
       "    </tr>\n",
       "    <tr>\n",
       "      <th>...</th>\n",
       "      <td>...</td>\n",
       "      <td>...</td>\n",
       "      <td>...</td>\n",
       "    </tr>\n",
       "    <tr>\n",
       "      <th>707</th>\n",
       "      <td>WOLZA</td>\n",
       "      <td>4</td>\n",
       "      <td>2</td>\n",
       "    </tr>\n",
       "    <tr>\n",
       "      <th>708</th>\n",
       "      <td>WOLZA</td>\n",
       "      <td>5</td>\n",
       "      <td>0</td>\n",
       "    </tr>\n",
       "    <tr>\n",
       "      <th>709</th>\n",
       "      <td>WOLZA</td>\n",
       "      <td>6</td>\n",
       "      <td>1</td>\n",
       "    </tr>\n",
       "    <tr>\n",
       "      <th>710</th>\n",
       "      <td>WOLZA</td>\n",
       "      <td>7</td>\n",
       "      <td>2</td>\n",
       "    </tr>\n",
       "    <tr>\n",
       "      <th>711</th>\n",
       "      <td>WOLZA</td>\n",
       "      <td>8</td>\n",
       "      <td>1</td>\n",
       "    </tr>\n",
       "  </tbody>\n",
       "</table>\n",
       "<p>712 rows × 3 columns</p>\n",
       "</div>"
      ],
      "text/plain": [
       "    customer_id category_id  count\n",
       "0         ALFKI           1      2\n",
       "1         ALFKI           2      4\n",
       "2         ALFKI           3      0\n",
       "3         ALFKI           4      2\n",
       "4         ALFKI           5      0\n",
       "..          ...         ...    ...\n",
       "707       WOLZA           4      2\n",
       "708       WOLZA           5      0\n",
       "709       WOLZA           6      1\n",
       "710       WOLZA           7      2\n",
       "711       WOLZA           8      1\n",
       "\n",
       "[712 rows x 3 columns]"
      ]
     },
     "execution_count": 35,
     "metadata": {},
     "output_type": "execute_result"
    }
   ],
   "source": [
    "# her müşteri için en çok satın alım gerçekleştirdiği category_id değerini bulmak\n",
    "category_counts = data.groupby(['customer_id', 'category_id'])[\"category_id\"].agg([\"count\"])\n",
    "category_counts = category_counts.reset_index()\n",
    "category_counts"
   ]
  },
  {
   "cell_type": "code",
   "execution_count": 36,
   "metadata": {},
   "outputs": [
    {
     "name": "stderr",
     "output_type": "stream",
     "text": [
      "C:\\Users\\kaptan\\AppData\\Local\\Temp\\ipykernel_14212\\2360955510.py:2: FutureWarning: The default of observed=False is deprecated and will be changed to True in a future version of pandas. Pass observed=False to retain current behavior or observed=True to adopt the future default and silence this warning.\n",
      "  top_categories = category_counts.loc[category_counts.groupby('customer_id')['count'].idxmax()]\n"
     ]
    },
    {
     "data": {
      "application/vnd.microsoft.datawrangler.viewer.v0+json": {
       "columns": [
        {
         "name": "index",
         "rawType": "int64",
         "type": "integer"
        },
        {
         "name": "customer_id",
         "rawType": "category",
         "type": "unknown"
        },
        {
         "name": "category_id",
         "rawType": "category",
         "type": "unknown"
        },
        {
         "name": "count",
         "rawType": "int64",
         "type": "integer"
        }
       ],
       "conversionMethod": "pd.DataFrame",
       "ref": "30bb65c6-e7de-4fc1-9043-28c5942f4eb7",
       "rows": [
        [
         "0",
         "ALFKI",
         "2",
         "4"
        ],
        [
         "1",
         "ANATR",
         "4",
         "5"
        ],
        [
         "2",
         "ANTON",
         "4",
         "5"
        ],
        [
         "3",
         "AROUT",
         "1",
         "6"
        ],
        [
         "4",
         "BERGS",
         "1",
         "13"
        ],
        [
         "5",
         "BLAUS",
         "3",
         "4"
        ],
        [
         "6",
         "BLONP",
         "1",
         "6"
        ],
        [
         "7",
         "BOLID",
         "5",
         "2"
        ],
        [
         "8",
         "BONAP",
         "8",
         "10"
        ],
        [
         "9",
         "BOTTM",
         "4",
         "8"
        ],
        [
         "10",
         "BSBEV",
         "3",
         "4"
        ],
        [
         "11",
         "CACTU",
         "1",
         "5"
        ],
        [
         "12",
         "CENTC",
         "3",
         "1"
        ],
        [
         "13",
         "CHOPS",
         "5",
         "5"
        ],
        [
         "14",
         "COMMI",
         "2",
         "4"
        ],
        [
         "15",
         "CONSH",
         "5",
         "2"
        ],
        [
         "16",
         "DRACD",
         "4",
         "3"
        ],
        [
         "17",
         "DUMON",
         "1",
         "2"
        ],
        [
         "18",
         "EASTC",
         "4",
         "7"
        ],
        [
         "19",
         "ERNSH",
         "4",
         "21"
        ],
        [
         "20",
         "FAMIA",
         "1",
         "6"
        ],
        [
         "21",
         "FOLIG",
         "3",
         "4"
        ],
        [
         "22",
         "FOLKO",
         "1",
         "12"
        ],
        [
         "23",
         "FRANK",
         "4",
         "10"
        ],
        [
         "24",
         "FRANR",
         "3",
         "2"
        ],
        [
         "25",
         "FRANS",
         "3",
         "3"
        ],
        [
         "26",
         "FURIB",
         "2",
         "6"
        ],
        [
         "27",
         "GALED",
         "2",
         "2"
        ],
        [
         "28",
         "GODOS",
         "3",
         "6"
        ],
        [
         "29",
         "GOURL",
         "4",
         "4"
        ],
        [
         "30",
         "GREAL",
         "4",
         "6"
        ],
        [
         "31",
         "GROSR",
         "1",
         "1"
        ],
        [
         "32",
         "HANAR",
         "1",
         "7"
        ],
        [
         "33",
         "HILAA",
         "1",
         "11"
        ],
        [
         "34",
         "HUNGC",
         "6",
         "3"
        ],
        [
         "35",
         "HUNGO",
         "4",
         "13"
        ],
        [
         "36",
         "ISLAT",
         "1",
         "7"
        ],
        [
         "37",
         "KOENE",
         "3",
         "9"
        ],
        [
         "38",
         "LACOR",
         "1",
         "3"
        ],
        [
         "39",
         "LAMAI",
         "1",
         "10"
        ],
        [
         "40",
         "LAUGB",
         "1",
         "2"
        ],
        [
         "41",
         "LAZYK",
         "4",
         "1"
        ],
        [
         "42",
         "LEHMS",
         "4",
         "10"
        ],
        [
         "43",
         "LETSS",
         "2",
         "4"
        ],
        [
         "44",
         "LILAS",
         "4",
         "10"
        ],
        [
         "45",
         "LINOD",
         "3",
         "9"
        ],
        [
         "46",
         "LONEP",
         "1",
         "4"
        ],
        [
         "47",
         "MAGAA",
         "1",
         "5"
        ],
        [
         "48",
         "MAISD",
         "3",
         "5"
        ],
        [
         "49",
         "MEREP",
         "3",
         "8"
        ]
       ],
       "shape": {
        "columns": 3,
        "rows": 89
       }
      },
      "text/html": [
       "<div>\n",
       "<style scoped>\n",
       "    .dataframe tbody tr th:only-of-type {\n",
       "        vertical-align: middle;\n",
       "    }\n",
       "\n",
       "    .dataframe tbody tr th {\n",
       "        vertical-align: top;\n",
       "    }\n",
       "\n",
       "    .dataframe thead th {\n",
       "        text-align: right;\n",
       "    }\n",
       "</style>\n",
       "<table border=\"1\" class=\"dataframe\">\n",
       "  <thead>\n",
       "    <tr style=\"text-align: right;\">\n",
       "      <th></th>\n",
       "      <th>customer_id</th>\n",
       "      <th>category_id</th>\n",
       "      <th>count</th>\n",
       "    </tr>\n",
       "  </thead>\n",
       "  <tbody>\n",
       "    <tr>\n",
       "      <th>0</th>\n",
       "      <td>ALFKI</td>\n",
       "      <td>2</td>\n",
       "      <td>4</td>\n",
       "    </tr>\n",
       "    <tr>\n",
       "      <th>1</th>\n",
       "      <td>ANATR</td>\n",
       "      <td>4</td>\n",
       "      <td>5</td>\n",
       "    </tr>\n",
       "    <tr>\n",
       "      <th>2</th>\n",
       "      <td>ANTON</td>\n",
       "      <td>4</td>\n",
       "      <td>5</td>\n",
       "    </tr>\n",
       "    <tr>\n",
       "      <th>3</th>\n",
       "      <td>AROUT</td>\n",
       "      <td>1</td>\n",
       "      <td>6</td>\n",
       "    </tr>\n",
       "    <tr>\n",
       "      <th>4</th>\n",
       "      <td>BERGS</td>\n",
       "      <td>1</td>\n",
       "      <td>13</td>\n",
       "    </tr>\n",
       "    <tr>\n",
       "      <th>...</th>\n",
       "      <td>...</td>\n",
       "      <td>...</td>\n",
       "      <td>...</td>\n",
       "    </tr>\n",
       "    <tr>\n",
       "      <th>84</th>\n",
       "      <td>WARTH</td>\n",
       "      <td>4</td>\n",
       "      <td>9</td>\n",
       "    </tr>\n",
       "    <tr>\n",
       "      <th>85</th>\n",
       "      <td>WELLI</td>\n",
       "      <td>1</td>\n",
       "      <td>5</td>\n",
       "    </tr>\n",
       "    <tr>\n",
       "      <th>86</th>\n",
       "      <td>WHITC</td>\n",
       "      <td>3</td>\n",
       "      <td>8</td>\n",
       "    </tr>\n",
       "    <tr>\n",
       "      <th>87</th>\n",
       "      <td>WILMK</td>\n",
       "      <td>1</td>\n",
       "      <td>4</td>\n",
       "    </tr>\n",
       "    <tr>\n",
       "      <th>88</th>\n",
       "      <td>WOLZA</td>\n",
       "      <td>1</td>\n",
       "      <td>6</td>\n",
       "    </tr>\n",
       "  </tbody>\n",
       "</table>\n",
       "<p>89 rows × 3 columns</p>\n",
       "</div>"
      ],
      "text/plain": [
       "   customer_id category_id  count\n",
       "0        ALFKI           2      4\n",
       "1        ANATR           4      5\n",
       "2        ANTON           4      5\n",
       "3        AROUT           1      6\n",
       "4        BERGS           1     13\n",
       "..         ...         ...    ...\n",
       "84       WARTH           4      9\n",
       "85       WELLI           1      5\n",
       "86       WHITC           3      8\n",
       "87       WILMK           1      4\n",
       "88       WOLZA           1      6\n",
       "\n",
       "[89 rows x 3 columns]"
      ]
     },
     "execution_count": 36,
     "metadata": {},
     "output_type": "execute_result"
    }
   ],
   "source": [
    "# en çok satın alınan kategori\n",
    "top_categories = category_counts.loc[category_counts.groupby('customer_id')['count'].idxmax()]\n",
    "top_categories = top_categories.reset_index(drop = True)\n",
    "top_categories"
   ]
  },
  {
   "cell_type": "code",
   "execution_count": 37,
   "metadata": {},
   "outputs": [],
   "source": [
    "df[\"top_category\"] = top_categories[\"category_id\"]"
   ]
  },
  {
   "cell_type": "code",
   "execution_count": 38,
   "metadata": {},
   "outputs": [
    {
     "data": {
      "application/vnd.microsoft.datawrangler.viewer.v0+json": {
       "columns": [
        {
         "name": "index",
         "rawType": "int64",
         "type": "integer"
        },
        {
         "name": "customer_id",
         "rawType": "category",
         "type": "unknown"
        },
        {
         "name": "order_count",
         "rawType": "int64",
         "type": "integer"
        },
        {
         "name": "median_order_size",
         "rawType": "float64",
         "type": "float"
        },
        {
         "name": "country",
         "rawType": "category",
         "type": "unknown"
        },
        {
         "name": "top_category",
         "rawType": "category",
         "type": "unknown"
        }
       ],
       "conversionMethod": "pd.DataFrame",
       "ref": "d40e0d95-a26e-48d7-9fb6-c2893540ba15",
       "rows": [
        [
         "0",
         "ALFKI",
         "12",
         "830.15",
         "Germany",
         "2"
        ],
        [
         "1",
         "ANATR",
         "10",
         "399.875",
         "Mexico",
         "4"
        ],
        [
         "2",
         "ANTON",
         "17",
         "749.0625",
         "Mexico",
         "4"
        ],
        [
         "3",
         "AROUT",
         "30",
         "480.0",
         "UK",
         "1"
        ],
        [
         "4",
         "BERGS",
         "52",
         "1277.6",
         "Sweden",
         "1"
        ],
        [
         "5",
         "BLAUS",
         "14",
         "464.0",
         "Germany",
         "3"
        ],
        [
         "6",
         "BLONP",
         "26",
         "1176.0",
         "France",
         "1"
        ],
        [
         "7",
         "BOLID",
         "6",
         "982.0",
         "Spain",
         "5"
        ],
        [
         "8",
         "BONAP",
         "44",
         "1296.0",
         "France",
         "8"
        ],
        [
         "9",
         "BOTTM",
         "35",
         "1019.6625",
         "Canada",
         "4"
        ],
        [
         "10",
         "BSBEV",
         "22",
         "478.2",
         "UK",
         "3"
        ],
        [
         "11",
         "CACTU",
         "11",
         "265.25",
         "Argentina",
         "1"
        ],
        [
         "12",
         "CENTC",
         "2",
         "100.8",
         "Mexico",
         "3"
        ],
        [
         "13",
         "CHOPS",
         "22",
         "1529.9",
         "Switzerland",
         "5"
        ],
        [
         "14",
         "COMMI",
         "10",
         "405.75",
         "Brazil",
         "2"
        ],
        [
         "15",
         "CONSH",
         "7",
         "631.6",
         "UK",
         "5"
        ],
        [
         "16",
         "DRACD",
         "10",
         "433.6",
         "Germany",
         "4"
        ],
        [
         "17",
         "DUMON",
         "9",
         "346.4",
         "France",
         "1"
        ],
        [
         "18",
         "EASTC",
         "21",
         "1458.405",
         "UK",
         "4"
        ],
        [
         "19",
         "ERNSH",
         "102",
         "2933.25",
         "Austria",
         "4"
        ],
        [
         "20",
         "FAMIA",
         "19",
         "310.0",
         "Brazil",
         "1"
        ],
        [
         "21",
         "FOLIG",
         "16",
         "1622.4",
         "France",
         "3"
        ],
        [
         "22",
         "FOLKO",
         "45",
         "868.75",
         "Sweden",
         "1"
        ],
        [
         "23",
         "FRANK",
         "48",
         "1512.0",
         "Germany",
         "4"
        ],
        [
         "24",
         "FRANR",
         "6",
         "920.1",
         "France",
         "3"
        ],
        [
         "25",
         "FRANS",
         "10",
         "90.75",
         "Italy",
         "3"
        ],
        [
         "26",
         "FURIB",
         "20",
         "713.7525",
         "Portugal",
         "2"
        ],
        [
         "27",
         "GALED",
         "8",
         "137.5",
         "Spain",
         "2"
        ],
        [
         "28",
         "GODOS",
         "26",
         "770.65",
         "Spain",
         "3"
        ],
        [
         "29",
         "GOURL",
         "19",
         "722.5",
         "Brazil",
         "4"
        ],
        [
         "30",
         "GREAL",
         "22",
         "510.0",
         "USA",
         "4"
        ],
        [
         "31",
         "GROSR",
         "4",
         "744.35",
         "Venezuela",
         "1"
        ],
        [
         "32",
         "HANAR",
         "32",
         "1422.25",
         "Brazil",
         "1"
        ],
        [
         "33",
         "HILAA",
         "45",
         "1027.2",
         "Venezuela",
         "1"
        ],
        [
         "34",
         "HUNGC",
         "9",
         "442.0",
         "USA",
         "6"
        ],
        [
         "35",
         "HUNGO",
         "55",
         "2023.38",
         "Ireland",
         "4"
        ],
        [
         "36",
         "ISLAT",
         "23",
         "481.7",
         "UK",
         "1"
        ],
        [
         "37",
         "KOENE",
         "39",
         "1232.4095",
         "Germany",
         "3"
        ],
        [
         "38",
         "LACOR",
         "11",
         "470.275",
         "France",
         "1"
        ],
        [
         "39",
         "LAMAI",
         "31",
         "452.255",
         "France",
         "1"
        ],
        [
         "40",
         "LAUGB",
         "8",
         "187.0",
         "Canada",
         "1"
        ],
        [
         "41",
         "LAZYK",
         "2",
         "178.5",
         "USA",
         "4"
        ],
        [
         "42",
         "LEHMS",
         "39",
         "1170.375",
         "Germany",
         "4"
        ],
        [
         "43",
         "LETSS",
         "10",
         "690.3262500000001",
         "USA",
         "2"
        ],
        [
         "44",
         "LILAS",
         "34",
         "1289.8400000000001",
         "Venezuela",
         "4"
        ],
        [
         "45",
         "LINOD",
         "35",
         "1353.4",
         "Venezuela",
         "3"
        ],
        [
         "46",
         "LONEP",
         "14",
         "352.6",
         "USA",
         "1"
        ],
        [
         "47",
         "MAGAA",
         "21",
         "622.75",
         "Italy",
         "1"
        ],
        [
         "48",
         "MAISD",
         "17",
         "1303.195",
         "Belgium",
         "3"
        ],
        [
         "49",
         "MEREP",
         "32",
         "1260.0",
         "Canada",
         "3"
        ]
       ],
       "shape": {
        "columns": 5,
        "rows": 89
       }
      },
      "text/html": [
       "<div>\n",
       "<style scoped>\n",
       "    .dataframe tbody tr th:only-of-type {\n",
       "        vertical-align: middle;\n",
       "    }\n",
       "\n",
       "    .dataframe tbody tr th {\n",
       "        vertical-align: top;\n",
       "    }\n",
       "\n",
       "    .dataframe thead th {\n",
       "        text-align: right;\n",
       "    }\n",
       "</style>\n",
       "<table border=\"1\" class=\"dataframe\">\n",
       "  <thead>\n",
       "    <tr style=\"text-align: right;\">\n",
       "      <th></th>\n",
       "      <th>customer_id</th>\n",
       "      <th>order_count</th>\n",
       "      <th>median_order_size</th>\n",
       "      <th>country</th>\n",
       "      <th>top_category</th>\n",
       "    </tr>\n",
       "  </thead>\n",
       "  <tbody>\n",
       "    <tr>\n",
       "      <th>0</th>\n",
       "      <td>ALFKI</td>\n",
       "      <td>12</td>\n",
       "      <td>830.1500</td>\n",
       "      <td>Germany</td>\n",
       "      <td>2</td>\n",
       "    </tr>\n",
       "    <tr>\n",
       "      <th>1</th>\n",
       "      <td>ANATR</td>\n",
       "      <td>10</td>\n",
       "      <td>399.8750</td>\n",
       "      <td>Mexico</td>\n",
       "      <td>4</td>\n",
       "    </tr>\n",
       "    <tr>\n",
       "      <th>2</th>\n",
       "      <td>ANTON</td>\n",
       "      <td>17</td>\n",
       "      <td>749.0625</td>\n",
       "      <td>Mexico</td>\n",
       "      <td>4</td>\n",
       "    </tr>\n",
       "    <tr>\n",
       "      <th>3</th>\n",
       "      <td>AROUT</td>\n",
       "      <td>30</td>\n",
       "      <td>480.0000</td>\n",
       "      <td>UK</td>\n",
       "      <td>1</td>\n",
       "    </tr>\n",
       "    <tr>\n",
       "      <th>4</th>\n",
       "      <td>BERGS</td>\n",
       "      <td>52</td>\n",
       "      <td>1277.6000</td>\n",
       "      <td>Sweden</td>\n",
       "      <td>1</td>\n",
       "    </tr>\n",
       "    <tr>\n",
       "      <th>...</th>\n",
       "      <td>...</td>\n",
       "      <td>...</td>\n",
       "      <td>...</td>\n",
       "      <td>...</td>\n",
       "      <td>...</td>\n",
       "    </tr>\n",
       "    <tr>\n",
       "      <th>84</th>\n",
       "      <td>WARTH</td>\n",
       "      <td>37</td>\n",
       "      <td>877.2000</td>\n",
       "      <td>Finland</td>\n",
       "      <td>4</td>\n",
       "    </tr>\n",
       "    <tr>\n",
       "      <th>85</th>\n",
       "      <td>WELLI</td>\n",
       "      <td>19</td>\n",
       "      <td>517.8000</td>\n",
       "      <td>Brazil</td>\n",
       "      <td>1</td>\n",
       "    </tr>\n",
       "    <tr>\n",
       "      <th>86</th>\n",
       "      <td>WHITC</td>\n",
       "      <td>40</td>\n",
       "      <td>1284.6900</td>\n",
       "      <td>USA</td>\n",
       "      <td>3</td>\n",
       "    </tr>\n",
       "    <tr>\n",
       "      <th>87</th>\n",
       "      <td>WILMK</td>\n",
       "      <td>17</td>\n",
       "      <td>452.9000</td>\n",
       "      <td>Finland</td>\n",
       "      <td>1</td>\n",
       "    </tr>\n",
       "    <tr>\n",
       "      <th>88</th>\n",
       "      <td>WOLZA</td>\n",
       "      <td>16</td>\n",
       "      <td>459.0000</td>\n",
       "      <td>Poland</td>\n",
       "      <td>1</td>\n",
       "    </tr>\n",
       "  </tbody>\n",
       "</table>\n",
       "<p>89 rows × 5 columns</p>\n",
       "</div>"
      ],
      "text/plain": [
       "   customer_id  order_count  median_order_size  country top_category\n",
       "0        ALFKI           12           830.1500  Germany            2\n",
       "1        ANATR           10           399.8750   Mexico            4\n",
       "2        ANTON           17           749.0625   Mexico            4\n",
       "3        AROUT           30           480.0000       UK            1\n",
       "4        BERGS           52          1277.6000   Sweden            1\n",
       "..         ...          ...                ...      ...          ...\n",
       "84       WARTH           37           877.2000  Finland            4\n",
       "85       WELLI           19           517.8000   Brazil            1\n",
       "86       WHITC           40          1284.6900      USA            3\n",
       "87       WILMK           17           452.9000  Finland            1\n",
       "88       WOLZA           16           459.0000   Poland            1\n",
       "\n",
       "[89 rows x 5 columns]"
      ]
     },
     "execution_count": 38,
     "metadata": {},
     "output_type": "execute_result"
    }
   ],
   "source": [
    "df"
   ]
  },
  {
   "cell_type": "code",
   "execution_count": 39,
   "metadata": {},
   "outputs": [],
   "source": [
    "def get_season(date):\n",
    "    month = date.month\n",
    "    if month in [12, 1, 2]:\n",
    "        return 'Winter'\n",
    "    elif month in [3, 4, 5]:\n",
    "        return 'Spring'\n",
    "    elif month in [6, 7, 8]:\n",
    "        return 'Summer'\n",
    "    else: # 9, 10, 11\n",
    "        return 'Autumn'\n",
    "\n",
    "data[\"season\"] = data[\"order_date\"].apply(get_season)\n"
   ]
  },
  {
   "cell_type": "code",
   "execution_count": 40,
   "metadata": {},
   "outputs": [
    {
     "name": "stderr",
     "output_type": "stream",
     "text": [
      "C:\\Users\\kaptan\\AppData\\Local\\Temp\\ipykernel_14212\\3103320892.py:1: FutureWarning: The default of observed=False is deprecated and will be changed to True in a future version of pandas. Pass observed=False to retain current behavior or observed=True to adopt the future default and silence this warning.\n",
      "  season_counts = data.groupby([\"customer_id\", \"season\"])[\"season\"].agg([\"count\"])\n"
     ]
    },
    {
     "data": {
      "application/vnd.microsoft.datawrangler.viewer.v0+json": {
       "columns": [
        {
         "name": "index",
         "rawType": "int64",
         "type": "integer"
        },
        {
         "name": "customer_id",
         "rawType": "category",
         "type": "unknown"
        },
        {
         "name": "season",
         "rawType": "object",
         "type": "string"
        },
        {
         "name": "count",
         "rawType": "int64",
         "type": "integer"
        }
       ],
       "conversionMethod": "pd.DataFrame",
       "ref": "84f4066b-782e-465a-9dd8-44745bf062b6",
       "rows": [
        [
         "0",
         "ALFKI",
         "Autumn",
         "3"
        ],
        [
         "1",
         "ALFKI",
         "Spring",
         "4"
        ],
        [
         "2",
         "ALFKI",
         "Summer",
         "3"
        ],
        [
         "3",
         "ALFKI",
         "Winter",
         "2"
        ],
        [
         "4",
         "ANATR",
         "Autumn",
         "3"
        ],
        [
         "5",
         "ANATR",
         "Spring",
         "4"
        ],
        [
         "6",
         "ANATR",
         "Summer",
         "3"
        ],
        [
         "7",
         "ANATR",
         "Winter",
         "0"
        ],
        [
         "8",
         "ANTON",
         "Autumn",
         "6"
        ],
        [
         "9",
         "ANTON",
         "Spring",
         "6"
        ],
        [
         "10",
         "ANTON",
         "Summer",
         "3"
        ],
        [
         "11",
         "ANTON",
         "Winter",
         "2"
        ],
        [
         "12",
         "AROUT",
         "Autumn",
         "7"
        ],
        [
         "13",
         "AROUT",
         "Spring",
         "5"
        ],
        [
         "14",
         "AROUT",
         "Summer",
         "5"
        ],
        [
         "15",
         "AROUT",
         "Winter",
         "13"
        ],
        [
         "16",
         "BERGS",
         "Autumn",
         "9"
        ],
        [
         "17",
         "BERGS",
         "Spring",
         "7"
        ],
        [
         "18",
         "BERGS",
         "Summer",
         "14"
        ],
        [
         "19",
         "BERGS",
         "Winter",
         "22"
        ],
        [
         "20",
         "BLAUS",
         "Autumn",
         "0"
        ],
        [
         "21",
         "BLAUS",
         "Spring",
         "8"
        ],
        [
         "22",
         "BLAUS",
         "Summer",
         "5"
        ],
        [
         "23",
         "BLAUS",
         "Winter",
         "1"
        ],
        [
         "24",
         "BLONP",
         "Autumn",
         "8"
        ],
        [
         "25",
         "BLONP",
         "Spring",
         "0"
        ],
        [
         "26",
         "BLONP",
         "Summer",
         "9"
        ],
        [
         "27",
         "BLONP",
         "Winter",
         "9"
        ],
        [
         "28",
         "BOLID",
         "Autumn",
         "3"
        ],
        [
         "29",
         "BOLID",
         "Spring",
         "1"
        ],
        [
         "30",
         "BOLID",
         "Summer",
         "0"
        ],
        [
         "31",
         "BOLID",
         "Winter",
         "2"
        ],
        [
         "32",
         "BONAP",
         "Autumn",
         "20"
        ],
        [
         "33",
         "BONAP",
         "Spring",
         "17"
        ],
        [
         "34",
         "BONAP",
         "Summer",
         "0"
        ],
        [
         "35",
         "BONAP",
         "Winter",
         "7"
        ],
        [
         "36",
         "BOTTM",
         "Autumn",
         "3"
        ],
        [
         "37",
         "BOTTM",
         "Spring",
         "20"
        ],
        [
         "38",
         "BOTTM",
         "Summer",
         "0"
        ],
        [
         "39",
         "BOTTM",
         "Winter",
         "12"
        ],
        [
         "40",
         "BSBEV",
         "Autumn",
         "0"
        ],
        [
         "41",
         "BSBEV",
         "Spring",
         "17"
        ],
        [
         "42",
         "BSBEV",
         "Summer",
         "5"
        ],
        [
         "43",
         "BSBEV",
         "Winter",
         "0"
        ],
        [
         "44",
         "CACTU",
         "Autumn",
         "0"
        ],
        [
         "45",
         "CACTU",
         "Spring",
         "7"
        ],
        [
         "46",
         "CACTU",
         "Summer",
         "0"
        ],
        [
         "47",
         "CACTU",
         "Winter",
         "4"
        ],
        [
         "48",
         "CENTC",
         "Autumn",
         "0"
        ],
        [
         "49",
         "CENTC",
         "Spring",
         "0"
        ]
       ],
       "shape": {
        "columns": 3,
        "rows": 356
       }
      },
      "text/html": [
       "<div>\n",
       "<style scoped>\n",
       "    .dataframe tbody tr th:only-of-type {\n",
       "        vertical-align: middle;\n",
       "    }\n",
       "\n",
       "    .dataframe tbody tr th {\n",
       "        vertical-align: top;\n",
       "    }\n",
       "\n",
       "    .dataframe thead th {\n",
       "        text-align: right;\n",
       "    }\n",
       "</style>\n",
       "<table border=\"1\" class=\"dataframe\">\n",
       "  <thead>\n",
       "    <tr style=\"text-align: right;\">\n",
       "      <th></th>\n",
       "      <th>customer_id</th>\n",
       "      <th>season</th>\n",
       "      <th>count</th>\n",
       "    </tr>\n",
       "  </thead>\n",
       "  <tbody>\n",
       "    <tr>\n",
       "      <th>0</th>\n",
       "      <td>ALFKI</td>\n",
       "      <td>Autumn</td>\n",
       "      <td>3</td>\n",
       "    </tr>\n",
       "    <tr>\n",
       "      <th>1</th>\n",
       "      <td>ALFKI</td>\n",
       "      <td>Spring</td>\n",
       "      <td>4</td>\n",
       "    </tr>\n",
       "    <tr>\n",
       "      <th>2</th>\n",
       "      <td>ALFKI</td>\n",
       "      <td>Summer</td>\n",
       "      <td>3</td>\n",
       "    </tr>\n",
       "    <tr>\n",
       "      <th>3</th>\n",
       "      <td>ALFKI</td>\n",
       "      <td>Winter</td>\n",
       "      <td>2</td>\n",
       "    </tr>\n",
       "    <tr>\n",
       "      <th>4</th>\n",
       "      <td>ANATR</td>\n",
       "      <td>Autumn</td>\n",
       "      <td>3</td>\n",
       "    </tr>\n",
       "    <tr>\n",
       "      <th>...</th>\n",
       "      <td>...</td>\n",
       "      <td>...</td>\n",
       "      <td>...</td>\n",
       "    </tr>\n",
       "    <tr>\n",
       "      <th>351</th>\n",
       "      <td>WILMK</td>\n",
       "      <td>Winter</td>\n",
       "      <td>8</td>\n",
       "    </tr>\n",
       "    <tr>\n",
       "      <th>352</th>\n",
       "      <td>WOLZA</td>\n",
       "      <td>Autumn</td>\n",
       "      <td>0</td>\n",
       "    </tr>\n",
       "    <tr>\n",
       "      <th>353</th>\n",
       "      <td>WOLZA</td>\n",
       "      <td>Spring</td>\n",
       "      <td>5</td>\n",
       "    </tr>\n",
       "    <tr>\n",
       "      <th>354</th>\n",
       "      <td>WOLZA</td>\n",
       "      <td>Summer</td>\n",
       "      <td>3</td>\n",
       "    </tr>\n",
       "    <tr>\n",
       "      <th>355</th>\n",
       "      <td>WOLZA</td>\n",
       "      <td>Winter</td>\n",
       "      <td>8</td>\n",
       "    </tr>\n",
       "  </tbody>\n",
       "</table>\n",
       "<p>356 rows × 3 columns</p>\n",
       "</div>"
      ],
      "text/plain": [
       "    customer_id  season  count\n",
       "0         ALFKI  Autumn      3\n",
       "1         ALFKI  Spring      4\n",
       "2         ALFKI  Summer      3\n",
       "3         ALFKI  Winter      2\n",
       "4         ANATR  Autumn      3\n",
       "..          ...     ...    ...\n",
       "351       WILMK  Winter      8\n",
       "352       WOLZA  Autumn      0\n",
       "353       WOLZA  Spring      5\n",
       "354       WOLZA  Summer      3\n",
       "355       WOLZA  Winter      8\n",
       "\n",
       "[356 rows x 3 columns]"
      ]
     },
     "execution_count": 40,
     "metadata": {},
     "output_type": "execute_result"
    }
   ],
   "source": [
    "season_counts = data.groupby([\"customer_id\", \"season\"])[\"season\"].agg([\"count\"])\n",
    "season_counts = season_counts.reset_index()\n",
    "season_counts"
   ]
  },
  {
   "cell_type": "code",
   "execution_count": 41,
   "metadata": {},
   "outputs": [
    {
     "name": "stderr",
     "output_type": "stream",
     "text": [
      "C:\\Users\\kaptan\\AppData\\Local\\Temp\\ipykernel_14212\\87017513.py:1: FutureWarning: The default of observed=False is deprecated and will be changed to True in a future version of pandas. Pass observed=False to retain current behavior or observed=True to adopt the future default and silence this warning.\n",
      "  top_season = season_counts.loc[season_counts.groupby('customer_id')['count'].idxmax()]\n"
     ]
    },
    {
     "data": {
      "application/vnd.microsoft.datawrangler.viewer.v0+json": {
       "columns": [
        {
         "name": "index",
         "rawType": "int64",
         "type": "integer"
        },
        {
         "name": "customer_id",
         "rawType": "category",
         "type": "unknown"
        },
        {
         "name": "season",
         "rawType": "object",
         "type": "string"
        },
        {
         "name": "count",
         "rawType": "int64",
         "type": "integer"
        }
       ],
       "conversionMethod": "pd.DataFrame",
       "ref": "a87287cd-0357-44d7-9116-e83a5d39ffd4",
       "rows": [
        [
         "0",
         "ALFKI",
         "Spring",
         "4"
        ],
        [
         "1",
         "ANATR",
         "Spring",
         "4"
        ],
        [
         "2",
         "ANTON",
         "Autumn",
         "6"
        ],
        [
         "3",
         "AROUT",
         "Winter",
         "13"
        ],
        [
         "4",
         "BERGS",
         "Winter",
         "22"
        ],
        [
         "5",
         "BLAUS",
         "Spring",
         "8"
        ],
        [
         "6",
         "BLONP",
         "Summer",
         "9"
        ],
        [
         "7",
         "BOLID",
         "Autumn",
         "3"
        ],
        [
         "8",
         "BONAP",
         "Autumn",
         "20"
        ],
        [
         "9",
         "BOTTM",
         "Spring",
         "20"
        ],
        [
         "10",
         "BSBEV",
         "Spring",
         "17"
        ],
        [
         "11",
         "CACTU",
         "Spring",
         "7"
        ],
        [
         "12",
         "CENTC",
         "Summer",
         "2"
        ],
        [
         "13",
         "CHOPS",
         "Spring",
         "10"
        ],
        [
         "14",
         "COMMI",
         "Spring",
         "6"
        ],
        [
         "15",
         "CONSH",
         "Winter",
         "5"
        ],
        [
         "16",
         "DRACD",
         "Winter",
         "4"
        ],
        [
         "17",
         "DUMON",
         "Autumn",
         "3"
        ],
        [
         "18",
         "EASTC",
         "Spring",
         "14"
        ],
        [
         "19",
         "ERNSH",
         "Winter",
         "43"
        ],
        [
         "20",
         "FAMIA",
         "Autumn",
         "7"
        ],
        [
         "21",
         "FOLIG",
         "Winter",
         "10"
        ],
        [
         "22",
         "FOLKO",
         "Winter",
         "18"
        ],
        [
         "23",
         "FRANK",
         "Autumn",
         "22"
        ],
        [
         "24",
         "FRANR",
         "Autumn",
         "3"
        ],
        [
         "25",
         "FRANS",
         "Autumn",
         "4"
        ],
        [
         "26",
         "FURIB",
         "Spring",
         "10"
        ],
        [
         "27",
         "GALED",
         "Winter",
         "3"
        ],
        [
         "28",
         "GODOS",
         "Spring",
         "11"
        ],
        [
         "29",
         "GOURL",
         "Autumn",
         "11"
        ],
        [
         "30",
         "GREAL",
         "Spring",
         "8"
        ],
        [
         "31",
         "GROSR",
         "Summer",
         "2"
        ],
        [
         "32",
         "HANAR",
         "Spring",
         "13"
        ],
        [
         "33",
         "HILAA",
         "Spring",
         "23"
        ],
        [
         "34",
         "HUNGC",
         "Winter",
         "6"
        ],
        [
         "35",
         "HUNGO",
         "Autumn",
         "25"
        ],
        [
         "36",
         "ISLAT",
         "Autumn",
         "9"
        ],
        [
         "37",
         "KOENE",
         "Winter",
         "17"
        ],
        [
         "38",
         "LACOR",
         "Spring",
         "8"
        ],
        [
         "39",
         "LAMAI",
         "Winter",
         "15"
        ],
        [
         "40",
         "LAUGB",
         "Spring",
         "3"
        ],
        [
         "41",
         "LAZYK",
         "Spring",
         "2"
        ],
        [
         "42",
         "LEHMS",
         "Spring",
         "19"
        ],
        [
         "43",
         "LETSS",
         "Autumn",
         "5"
        ],
        [
         "44",
         "LILAS",
         "Spring",
         "11"
        ],
        [
         "45",
         "LINOD",
         "Spring",
         "16"
        ],
        [
         "46",
         "LONEP",
         "Autumn",
         "7"
        ],
        [
         "47",
         "MAGAA",
         "Winter",
         "8"
        ],
        [
         "48",
         "MAISD",
         "Spring",
         "9"
        ],
        [
         "49",
         "MEREP",
         "Summer",
         "15"
        ]
       ],
       "shape": {
        "columns": 3,
        "rows": 89
       }
      },
      "text/html": [
       "<div>\n",
       "<style scoped>\n",
       "    .dataframe tbody tr th:only-of-type {\n",
       "        vertical-align: middle;\n",
       "    }\n",
       "\n",
       "    .dataframe tbody tr th {\n",
       "        vertical-align: top;\n",
       "    }\n",
       "\n",
       "    .dataframe thead th {\n",
       "        text-align: right;\n",
       "    }\n",
       "</style>\n",
       "<table border=\"1\" class=\"dataframe\">\n",
       "  <thead>\n",
       "    <tr style=\"text-align: right;\">\n",
       "      <th></th>\n",
       "      <th>customer_id</th>\n",
       "      <th>season</th>\n",
       "      <th>count</th>\n",
       "    </tr>\n",
       "  </thead>\n",
       "  <tbody>\n",
       "    <tr>\n",
       "      <th>0</th>\n",
       "      <td>ALFKI</td>\n",
       "      <td>Spring</td>\n",
       "      <td>4</td>\n",
       "    </tr>\n",
       "    <tr>\n",
       "      <th>1</th>\n",
       "      <td>ANATR</td>\n",
       "      <td>Spring</td>\n",
       "      <td>4</td>\n",
       "    </tr>\n",
       "    <tr>\n",
       "      <th>2</th>\n",
       "      <td>ANTON</td>\n",
       "      <td>Autumn</td>\n",
       "      <td>6</td>\n",
       "    </tr>\n",
       "    <tr>\n",
       "      <th>3</th>\n",
       "      <td>AROUT</td>\n",
       "      <td>Winter</td>\n",
       "      <td>13</td>\n",
       "    </tr>\n",
       "    <tr>\n",
       "      <th>4</th>\n",
       "      <td>BERGS</td>\n",
       "      <td>Winter</td>\n",
       "      <td>22</td>\n",
       "    </tr>\n",
       "    <tr>\n",
       "      <th>...</th>\n",
       "      <td>...</td>\n",
       "      <td>...</td>\n",
       "      <td>...</td>\n",
       "    </tr>\n",
       "    <tr>\n",
       "      <th>84</th>\n",
       "      <td>WARTH</td>\n",
       "      <td>Winter</td>\n",
       "      <td>12</td>\n",
       "    </tr>\n",
       "    <tr>\n",
       "      <th>85</th>\n",
       "      <td>WELLI</td>\n",
       "      <td>Winter</td>\n",
       "      <td>10</td>\n",
       "    </tr>\n",
       "    <tr>\n",
       "      <th>86</th>\n",
       "      <td>WHITC</td>\n",
       "      <td>Spring</td>\n",
       "      <td>15</td>\n",
       "    </tr>\n",
       "    <tr>\n",
       "      <th>87</th>\n",
       "      <td>WILMK</td>\n",
       "      <td>Winter</td>\n",
       "      <td>8</td>\n",
       "    </tr>\n",
       "    <tr>\n",
       "      <th>88</th>\n",
       "      <td>WOLZA</td>\n",
       "      <td>Winter</td>\n",
       "      <td>8</td>\n",
       "    </tr>\n",
       "  </tbody>\n",
       "</table>\n",
       "<p>89 rows × 3 columns</p>\n",
       "</div>"
      ],
      "text/plain": [
       "   customer_id  season  count\n",
       "0        ALFKI  Spring      4\n",
       "1        ANATR  Spring      4\n",
       "2        ANTON  Autumn      6\n",
       "3        AROUT  Winter     13\n",
       "4        BERGS  Winter     22\n",
       "..         ...     ...    ...\n",
       "84       WARTH  Winter     12\n",
       "85       WELLI  Winter     10\n",
       "86       WHITC  Spring     15\n",
       "87       WILMK  Winter      8\n",
       "88       WOLZA  Winter      8\n",
       "\n",
       "[89 rows x 3 columns]"
      ]
     },
     "execution_count": 41,
     "metadata": {},
     "output_type": "execute_result"
    }
   ],
   "source": [
    "top_season = season_counts.loc[season_counts.groupby('customer_id')['count'].idxmax()]\n",
    "top_season = top_season.reset_index(drop=True)\n",
    "top_season"
   ]
  },
  {
   "cell_type": "code",
   "execution_count": 42,
   "metadata": {},
   "outputs": [],
   "source": [
    "df[\"top_season\"] = top_season[\"season\"]"
   ]
  },
  {
   "cell_type": "code",
   "execution_count": 43,
   "metadata": {},
   "outputs": [
    {
     "data": {
      "application/vnd.microsoft.datawrangler.viewer.v0+json": {
       "columns": [
        {
         "name": "index",
         "rawType": "int64",
         "type": "integer"
        },
        {
         "name": "customer_id",
         "rawType": "category",
         "type": "unknown"
        },
        {
         "name": "order_count",
         "rawType": "int64",
         "type": "integer"
        },
        {
         "name": "median_order_size",
         "rawType": "float64",
         "type": "float"
        },
        {
         "name": "country",
         "rawType": "category",
         "type": "unknown"
        },
        {
         "name": "top_category",
         "rawType": "category",
         "type": "unknown"
        },
        {
         "name": "top_season",
         "rawType": "object",
         "type": "string"
        }
       ],
       "conversionMethod": "pd.DataFrame",
       "ref": "c68a5e27-bafa-4724-8e8f-96e296fbc4be",
       "rows": [
        [
         "0",
         "ALFKI",
         "12",
         "830.15",
         "Germany",
         "2",
         "Spring"
        ],
        [
         "1",
         "ANATR",
         "10",
         "399.875",
         "Mexico",
         "4",
         "Spring"
        ],
        [
         "2",
         "ANTON",
         "17",
         "749.0625",
         "Mexico",
         "4",
         "Autumn"
        ],
        [
         "3",
         "AROUT",
         "30",
         "480.0",
         "UK",
         "1",
         "Winter"
        ],
        [
         "4",
         "BERGS",
         "52",
         "1277.6",
         "Sweden",
         "1",
         "Winter"
        ],
        [
         "5",
         "BLAUS",
         "14",
         "464.0",
         "Germany",
         "3",
         "Spring"
        ],
        [
         "6",
         "BLONP",
         "26",
         "1176.0",
         "France",
         "1",
         "Summer"
        ],
        [
         "7",
         "BOLID",
         "6",
         "982.0",
         "Spain",
         "5",
         "Autumn"
        ],
        [
         "8",
         "BONAP",
         "44",
         "1296.0",
         "France",
         "8",
         "Autumn"
        ],
        [
         "9",
         "BOTTM",
         "35",
         "1019.6625",
         "Canada",
         "4",
         "Spring"
        ],
        [
         "10",
         "BSBEV",
         "22",
         "478.2",
         "UK",
         "3",
         "Spring"
        ],
        [
         "11",
         "CACTU",
         "11",
         "265.25",
         "Argentina",
         "1",
         "Spring"
        ],
        [
         "12",
         "CENTC",
         "2",
         "100.8",
         "Mexico",
         "3",
         "Summer"
        ],
        [
         "13",
         "CHOPS",
         "22",
         "1529.9",
         "Switzerland",
         "5",
         "Spring"
        ],
        [
         "14",
         "COMMI",
         "10",
         "405.75",
         "Brazil",
         "2",
         "Spring"
        ],
        [
         "15",
         "CONSH",
         "7",
         "631.6",
         "UK",
         "5",
         "Winter"
        ],
        [
         "16",
         "DRACD",
         "10",
         "433.6",
         "Germany",
         "4",
         "Winter"
        ],
        [
         "17",
         "DUMON",
         "9",
         "346.4",
         "France",
         "1",
         "Autumn"
        ],
        [
         "18",
         "EASTC",
         "21",
         "1458.405",
         "UK",
         "4",
         "Spring"
        ],
        [
         "19",
         "ERNSH",
         "102",
         "2933.25",
         "Austria",
         "4",
         "Winter"
        ],
        [
         "20",
         "FAMIA",
         "19",
         "310.0",
         "Brazil",
         "1",
         "Autumn"
        ],
        [
         "21",
         "FOLIG",
         "16",
         "1622.4",
         "France",
         "3",
         "Winter"
        ],
        [
         "22",
         "FOLKO",
         "45",
         "868.75",
         "Sweden",
         "1",
         "Winter"
        ],
        [
         "23",
         "FRANK",
         "48",
         "1512.0",
         "Germany",
         "4",
         "Autumn"
        ],
        [
         "24",
         "FRANR",
         "6",
         "920.1",
         "France",
         "3",
         "Autumn"
        ],
        [
         "25",
         "FRANS",
         "10",
         "90.75",
         "Italy",
         "3",
         "Autumn"
        ],
        [
         "26",
         "FURIB",
         "20",
         "713.7525",
         "Portugal",
         "2",
         "Spring"
        ],
        [
         "27",
         "GALED",
         "8",
         "137.5",
         "Spain",
         "2",
         "Winter"
        ],
        [
         "28",
         "GODOS",
         "26",
         "770.65",
         "Spain",
         "3",
         "Spring"
        ],
        [
         "29",
         "GOURL",
         "19",
         "722.5",
         "Brazil",
         "4",
         "Autumn"
        ],
        [
         "30",
         "GREAL",
         "22",
         "510.0",
         "USA",
         "4",
         "Spring"
        ],
        [
         "31",
         "GROSR",
         "4",
         "744.35",
         "Venezuela",
         "1",
         "Summer"
        ],
        [
         "32",
         "HANAR",
         "32",
         "1422.25",
         "Brazil",
         "1",
         "Spring"
        ],
        [
         "33",
         "HILAA",
         "45",
         "1027.2",
         "Venezuela",
         "1",
         "Spring"
        ],
        [
         "34",
         "HUNGC",
         "9",
         "442.0",
         "USA",
         "6",
         "Winter"
        ],
        [
         "35",
         "HUNGO",
         "55",
         "2023.38",
         "Ireland",
         "4",
         "Autumn"
        ],
        [
         "36",
         "ISLAT",
         "23",
         "481.7",
         "UK",
         "1",
         "Autumn"
        ],
        [
         "37",
         "KOENE",
         "39",
         "1232.4095",
         "Germany",
         "3",
         "Winter"
        ],
        [
         "38",
         "LACOR",
         "11",
         "470.275",
         "France",
         "1",
         "Spring"
        ],
        [
         "39",
         "LAMAI",
         "31",
         "452.255",
         "France",
         "1",
         "Winter"
        ],
        [
         "40",
         "LAUGB",
         "8",
         "187.0",
         "Canada",
         "1",
         "Spring"
        ],
        [
         "41",
         "LAZYK",
         "2",
         "178.5",
         "USA",
         "4",
         "Spring"
        ],
        [
         "42",
         "LEHMS",
         "39",
         "1170.375",
         "Germany",
         "4",
         "Spring"
        ],
        [
         "43",
         "LETSS",
         "10",
         "690.3262500000001",
         "USA",
         "2",
         "Autumn"
        ],
        [
         "44",
         "LILAS",
         "34",
         "1289.8400000000001",
         "Venezuela",
         "4",
         "Spring"
        ],
        [
         "45",
         "LINOD",
         "35",
         "1353.4",
         "Venezuela",
         "3",
         "Spring"
        ],
        [
         "46",
         "LONEP",
         "14",
         "352.6",
         "USA",
         "1",
         "Autumn"
        ],
        [
         "47",
         "MAGAA",
         "21",
         "622.75",
         "Italy",
         "1",
         "Winter"
        ],
        [
         "48",
         "MAISD",
         "17",
         "1303.195",
         "Belgium",
         "3",
         "Spring"
        ],
        [
         "49",
         "MEREP",
         "32",
         "1260.0",
         "Canada",
         "3",
         "Summer"
        ]
       ],
       "shape": {
        "columns": 6,
        "rows": 89
       }
      },
      "text/html": [
       "<div>\n",
       "<style scoped>\n",
       "    .dataframe tbody tr th:only-of-type {\n",
       "        vertical-align: middle;\n",
       "    }\n",
       "\n",
       "    .dataframe tbody tr th {\n",
       "        vertical-align: top;\n",
       "    }\n",
       "\n",
       "    .dataframe thead th {\n",
       "        text-align: right;\n",
       "    }\n",
       "</style>\n",
       "<table border=\"1\" class=\"dataframe\">\n",
       "  <thead>\n",
       "    <tr style=\"text-align: right;\">\n",
       "      <th></th>\n",
       "      <th>customer_id</th>\n",
       "      <th>order_count</th>\n",
       "      <th>median_order_size</th>\n",
       "      <th>country</th>\n",
       "      <th>top_category</th>\n",
       "      <th>top_season</th>\n",
       "    </tr>\n",
       "  </thead>\n",
       "  <tbody>\n",
       "    <tr>\n",
       "      <th>0</th>\n",
       "      <td>ALFKI</td>\n",
       "      <td>12</td>\n",
       "      <td>830.1500</td>\n",
       "      <td>Germany</td>\n",
       "      <td>2</td>\n",
       "      <td>Spring</td>\n",
       "    </tr>\n",
       "    <tr>\n",
       "      <th>1</th>\n",
       "      <td>ANATR</td>\n",
       "      <td>10</td>\n",
       "      <td>399.8750</td>\n",
       "      <td>Mexico</td>\n",
       "      <td>4</td>\n",
       "      <td>Spring</td>\n",
       "    </tr>\n",
       "    <tr>\n",
       "      <th>2</th>\n",
       "      <td>ANTON</td>\n",
       "      <td>17</td>\n",
       "      <td>749.0625</td>\n",
       "      <td>Mexico</td>\n",
       "      <td>4</td>\n",
       "      <td>Autumn</td>\n",
       "    </tr>\n",
       "    <tr>\n",
       "      <th>3</th>\n",
       "      <td>AROUT</td>\n",
       "      <td>30</td>\n",
       "      <td>480.0000</td>\n",
       "      <td>UK</td>\n",
       "      <td>1</td>\n",
       "      <td>Winter</td>\n",
       "    </tr>\n",
       "    <tr>\n",
       "      <th>4</th>\n",
       "      <td>BERGS</td>\n",
       "      <td>52</td>\n",
       "      <td>1277.6000</td>\n",
       "      <td>Sweden</td>\n",
       "      <td>1</td>\n",
       "      <td>Winter</td>\n",
       "    </tr>\n",
       "    <tr>\n",
       "      <th>...</th>\n",
       "      <td>...</td>\n",
       "      <td>...</td>\n",
       "      <td>...</td>\n",
       "      <td>...</td>\n",
       "      <td>...</td>\n",
       "      <td>...</td>\n",
       "    </tr>\n",
       "    <tr>\n",
       "      <th>84</th>\n",
       "      <td>WARTH</td>\n",
       "      <td>37</td>\n",
       "      <td>877.2000</td>\n",
       "      <td>Finland</td>\n",
       "      <td>4</td>\n",
       "      <td>Winter</td>\n",
       "    </tr>\n",
       "    <tr>\n",
       "      <th>85</th>\n",
       "      <td>WELLI</td>\n",
       "      <td>19</td>\n",
       "      <td>517.8000</td>\n",
       "      <td>Brazil</td>\n",
       "      <td>1</td>\n",
       "      <td>Winter</td>\n",
       "    </tr>\n",
       "    <tr>\n",
       "      <th>86</th>\n",
       "      <td>WHITC</td>\n",
       "      <td>40</td>\n",
       "      <td>1284.6900</td>\n",
       "      <td>USA</td>\n",
       "      <td>3</td>\n",
       "      <td>Spring</td>\n",
       "    </tr>\n",
       "    <tr>\n",
       "      <th>87</th>\n",
       "      <td>WILMK</td>\n",
       "      <td>17</td>\n",
       "      <td>452.9000</td>\n",
       "      <td>Finland</td>\n",
       "      <td>1</td>\n",
       "      <td>Winter</td>\n",
       "    </tr>\n",
       "    <tr>\n",
       "      <th>88</th>\n",
       "      <td>WOLZA</td>\n",
       "      <td>16</td>\n",
       "      <td>459.0000</td>\n",
       "      <td>Poland</td>\n",
       "      <td>1</td>\n",
       "      <td>Winter</td>\n",
       "    </tr>\n",
       "  </tbody>\n",
       "</table>\n",
       "<p>89 rows × 6 columns</p>\n",
       "</div>"
      ],
      "text/plain": [
       "   customer_id  order_count  median_order_size  country top_category  \\\n",
       "0        ALFKI           12           830.1500  Germany            2   \n",
       "1        ANATR           10           399.8750   Mexico            4   \n",
       "2        ANTON           17           749.0625   Mexico            4   \n",
       "3        AROUT           30           480.0000       UK            1   \n",
       "4        BERGS           52          1277.6000   Sweden            1   \n",
       "..         ...          ...                ...      ...          ...   \n",
       "84       WARTH           37           877.2000  Finland            4   \n",
       "85       WELLI           19           517.8000   Brazil            1   \n",
       "86       WHITC           40          1284.6900      USA            3   \n",
       "87       WILMK           17           452.9000  Finland            1   \n",
       "88       WOLZA           16           459.0000   Poland            1   \n",
       "\n",
       "   top_season  \n",
       "0      Spring  \n",
       "1      Spring  \n",
       "2      Autumn  \n",
       "3      Winter  \n",
       "4      Winter  \n",
       "..        ...  \n",
       "84     Winter  \n",
       "85     Winter  \n",
       "86     Spring  \n",
       "87     Winter  \n",
       "88     Winter  \n",
       "\n",
       "[89 rows x 6 columns]"
      ]
     },
     "execution_count": 43,
     "metadata": {},
     "output_type": "execute_result"
    }
   ],
   "source": [
    "df"
   ]
  },
  {
   "cell_type": "code",
   "execution_count": 44,
   "metadata": {},
   "outputs": [
    {
     "name": "stderr",
     "output_type": "stream",
     "text": [
      "C:\\Users\\kaptan\\AppData\\Local\\Temp\\ipykernel_14212\\1724169458.py:11: FutureWarning: The default of observed=False is deprecated and will be changed to True in a future version of pandas. Pass observed=False to retain current behavior or observed=True to adopt the future default and silence this warning.\n",
      "  df_unique['next_order_date'] = df_unique.groupby('customer_id')['order_date'].shift(-1)\n",
      "C:\\Users\\kaptan\\AppData\\Local\\Temp\\ipykernel_14212\\1724169458.py:20: FutureWarning: The default of observed=False is deprecated and will be changed to True in a future version of pandas. Pass observed=False to retain current behavior or observed=True to adopt the future default and silence this warning.\n",
      "  summary = df_unique.groupby('customer_id').agg(\n"
     ]
    },
    {
     "data": {
      "application/vnd.microsoft.datawrangler.viewer.v0+json": {
       "columns": [
        {
         "name": "index",
         "rawType": "int64",
         "type": "integer"
        },
        {
         "name": "customer_id",
         "rawType": "category",
         "type": "unknown"
        },
        {
         "name": "total_orders",
         "rawType": "int64",
         "type": "integer"
        },
        {
         "name": "orders_less_than_180",
         "rawType": "int64",
         "type": "integer"
        },
        {
         "name": "percentage_less_than_180",
         "rawType": "float64",
         "type": "float"
        },
        {
         "name": "target",
         "rawType": "int64",
         "type": "integer"
        },
        {
         "name": "best_customer",
         "rawType": "category",
         "type": "unknown"
        }
       ],
       "conversionMethod": "pd.DataFrame",
       "ref": "04baeb82-6dfd-4242-902f-f2bf0019e40e",
       "rows": [
        [
         "0",
         "ALFKI",
         "6",
         "5",
         "83.33",
         "1",
         "mid-high"
        ],
        [
         "1",
         "ANATR",
         "4",
         "2",
         "50.0",
         "0",
         "low"
        ],
        [
         "2",
         "ANTON",
         "7",
         "6",
         "85.71",
         "1",
         "mid-high"
        ],
        [
         "3",
         "AROUT",
         "13",
         "12",
         "92.31",
         "1",
         "high"
        ],
        [
         "4",
         "BERGS",
         "18",
         "17",
         "94.44",
         "1",
         "high"
        ],
        [
         "5",
         "BLAUS",
         "7",
         "5",
         "71.43",
         "1",
         "mid-low"
        ],
        [
         "6",
         "BLONP",
         "11",
         "10",
         "90.91",
         "1",
         "mid-high"
        ],
        [
         "7",
         "BOLID",
         "3",
         "1",
         "33.33",
         "0",
         "low"
        ],
        [
         "8",
         "BONAP",
         "17",
         "16",
         "94.12",
         "1",
         "high"
        ],
        [
         "9",
         "BOTTM",
         "13",
         "11",
         "84.62",
         "1",
         "mid-high"
        ],
        [
         "10",
         "BSBEV",
         "10",
         "7",
         "70.0",
         "1",
         "mid-low"
        ],
        [
         "11",
         "CACTU",
         "6",
         "4",
         "66.67",
         "1",
         "low"
        ],
        [
         "12",
         "CENTC",
         "1",
         "0",
         "0.0",
         "0",
         "low"
        ],
        [
         "13",
         "CHOPS",
         "8",
         "6",
         "75.0",
         "1",
         "mid-low"
        ],
        [
         "14",
         "COMMI",
         "5",
         "2",
         "40.0",
         "0",
         "low"
        ],
        [
         "15",
         "CONSH",
         "3",
         "1",
         "33.33",
         "0",
         "low"
        ],
        [
         "16",
         "DRACD",
         "6",
         "4",
         "66.67",
         "1",
         "low"
        ],
        [
         "17",
         "DUMON",
         "4",
         "2",
         "50.0",
         "0",
         "low"
        ],
        [
         "18",
         "EASTC",
         "8",
         "7",
         "87.5",
         "1",
         "mid-high"
        ],
        [
         "19",
         "ERNSH",
         "30",
         "29",
         "96.67",
         "1",
         "high"
        ],
        [
         "20",
         "FAMIA",
         "7",
         "6",
         "85.71",
         "1",
         "mid-high"
        ],
        [
         "21",
         "FOLIG",
         "5",
         "4",
         "80.0",
         "1",
         "mid-low"
        ],
        [
         "22",
         "FOLKO",
         "19",
         "18",
         "94.74",
         "1",
         "high"
        ],
        [
         "23",
         "FRANK",
         "15",
         "14",
         "93.33",
         "1",
         "high"
        ],
        [
         "24",
         "FRANR",
         "3",
         "2",
         "66.67",
         "1",
         "low"
        ],
        [
         "25",
         "FRANS",
         "6",
         "4",
         "66.67",
         "1",
         "low"
        ],
        [
         "26",
         "FURIB",
         "8",
         "6",
         "75.0",
         "1",
         "mid-low"
        ],
        [
         "27",
         "GALED",
         "5",
         "3",
         "60.0",
         "1",
         "low"
        ],
        [
         "28",
         "GODOS",
         "10",
         "8",
         "80.0",
         "1",
         "mid-low"
        ],
        [
         "29",
         "GOURL",
         "9",
         "7",
         "77.78",
         "1",
         "mid-low"
        ],
        [
         "30",
         "GREAL",
         "10",
         "9",
         "90.0",
         "1",
         "mid-high"
        ],
        [
         "31",
         "GROSR",
         "2",
         "0",
         "0.0",
         "0",
         "low"
        ],
        [
         "32",
         "HANAR",
         "14",
         "12",
         "85.71",
         "1",
         "mid-high"
        ],
        [
         "33",
         "HILAA",
         "18",
         "17",
         "94.44",
         "1",
         "high"
        ],
        [
         "34",
         "HUNGC",
         "5",
         "3",
         "60.0",
         "1",
         "low"
        ],
        [
         "35",
         "HUNGO",
         "19",
         "18",
         "94.74",
         "1",
         "high"
        ],
        [
         "36",
         "ISLAT",
         "10",
         "9",
         "90.0",
         "1",
         "mid-high"
        ],
        [
         "37",
         "KOENE",
         "13",
         "12",
         "92.31",
         "1",
         "high"
        ],
        [
         "38",
         "LACOR",
         "3",
         "2",
         "66.67",
         "1",
         "low"
        ],
        [
         "39",
         "LAMAI",
         "14",
         "13",
         "92.86",
         "1",
         "high"
        ],
        [
         "40",
         "LAUGB",
         "3",
         "2",
         "66.67",
         "1",
         "low"
        ],
        [
         "41",
         "LAZYK",
         "2",
         "1",
         "50.0",
         "0",
         "low"
        ],
        [
         "42",
         "LEHMS",
         "15",
         "14",
         "93.33",
         "1",
         "high"
        ],
        [
         "43",
         "LETSS",
         "4",
         "3",
         "75.0",
         "1",
         "mid-low"
        ],
        [
         "44",
         "LILAS",
         "14",
         "12",
         "85.71",
         "1",
         "mid-high"
        ],
        [
         "45",
         "LINOD",
         "11",
         "10",
         "90.91",
         "1",
         "mid-high"
        ],
        [
         "46",
         "LONEP",
         "8",
         "6",
         "75.0",
         "1",
         "mid-low"
        ],
        [
         "47",
         "MAGAA",
         "10",
         "9",
         "90.0",
         "1",
         "mid-high"
        ],
        [
         "48",
         "MAISD",
         "7",
         "6",
         "85.71",
         "1",
         "mid-high"
        ],
        [
         "49",
         "MEREP",
         "13",
         "12",
         "92.31",
         "1",
         "high"
        ]
       ],
       "shape": {
        "columns": 6,
        "rows": 89
       }
      },
      "text/html": [
       "<div>\n",
       "<style scoped>\n",
       "    .dataframe tbody tr th:only-of-type {\n",
       "        vertical-align: middle;\n",
       "    }\n",
       "\n",
       "    .dataframe tbody tr th {\n",
       "        vertical-align: top;\n",
       "    }\n",
       "\n",
       "    .dataframe thead th {\n",
       "        text-align: right;\n",
       "    }\n",
       "</style>\n",
       "<table border=\"1\" class=\"dataframe\">\n",
       "  <thead>\n",
       "    <tr style=\"text-align: right;\">\n",
       "      <th></th>\n",
       "      <th>customer_id</th>\n",
       "      <th>total_orders</th>\n",
       "      <th>orders_less_than_180</th>\n",
       "      <th>percentage_less_than_180</th>\n",
       "      <th>target</th>\n",
       "      <th>best_customer</th>\n",
       "    </tr>\n",
       "  </thead>\n",
       "  <tbody>\n",
       "    <tr>\n",
       "      <th>0</th>\n",
       "      <td>ALFKI</td>\n",
       "      <td>6</td>\n",
       "      <td>5</td>\n",
       "      <td>83.33</td>\n",
       "      <td>1</td>\n",
       "      <td>mid-high</td>\n",
       "    </tr>\n",
       "    <tr>\n",
       "      <th>1</th>\n",
       "      <td>ANATR</td>\n",
       "      <td>4</td>\n",
       "      <td>2</td>\n",
       "      <td>50.00</td>\n",
       "      <td>0</td>\n",
       "      <td>low</td>\n",
       "    </tr>\n",
       "    <tr>\n",
       "      <th>2</th>\n",
       "      <td>ANTON</td>\n",
       "      <td>7</td>\n",
       "      <td>6</td>\n",
       "      <td>85.71</td>\n",
       "      <td>1</td>\n",
       "      <td>mid-high</td>\n",
       "    </tr>\n",
       "    <tr>\n",
       "      <th>3</th>\n",
       "      <td>AROUT</td>\n",
       "      <td>13</td>\n",
       "      <td>12</td>\n",
       "      <td>92.31</td>\n",
       "      <td>1</td>\n",
       "      <td>high</td>\n",
       "    </tr>\n",
       "    <tr>\n",
       "      <th>4</th>\n",
       "      <td>BERGS</td>\n",
       "      <td>18</td>\n",
       "      <td>17</td>\n",
       "      <td>94.44</td>\n",
       "      <td>1</td>\n",
       "      <td>high</td>\n",
       "    </tr>\n",
       "    <tr>\n",
       "      <th>...</th>\n",
       "      <td>...</td>\n",
       "      <td>...</td>\n",
       "      <td>...</td>\n",
       "      <td>...</td>\n",
       "      <td>...</td>\n",
       "      <td>...</td>\n",
       "    </tr>\n",
       "    <tr>\n",
       "      <th>84</th>\n",
       "      <td>WARTH</td>\n",
       "      <td>15</td>\n",
       "      <td>14</td>\n",
       "      <td>93.33</td>\n",
       "      <td>1</td>\n",
       "      <td>high</td>\n",
       "    </tr>\n",
       "    <tr>\n",
       "      <th>85</th>\n",
       "      <td>WELLI</td>\n",
       "      <td>9</td>\n",
       "      <td>7</td>\n",
       "      <td>77.78</td>\n",
       "      <td>1</td>\n",
       "      <td>mid-low</td>\n",
       "    </tr>\n",
       "    <tr>\n",
       "      <th>86</th>\n",
       "      <td>WHITC</td>\n",
       "      <td>14</td>\n",
       "      <td>13</td>\n",
       "      <td>92.86</td>\n",
       "      <td>1</td>\n",
       "      <td>high</td>\n",
       "    </tr>\n",
       "    <tr>\n",
       "      <th>87</th>\n",
       "      <td>WILMK</td>\n",
       "      <td>7</td>\n",
       "      <td>6</td>\n",
       "      <td>85.71</td>\n",
       "      <td>1</td>\n",
       "      <td>mid-high</td>\n",
       "    </tr>\n",
       "    <tr>\n",
       "      <th>88</th>\n",
       "      <td>WOLZA</td>\n",
       "      <td>7</td>\n",
       "      <td>5</td>\n",
       "      <td>71.43</td>\n",
       "      <td>1</td>\n",
       "      <td>mid-low</td>\n",
       "    </tr>\n",
       "  </tbody>\n",
       "</table>\n",
       "<p>89 rows × 6 columns</p>\n",
       "</div>"
      ],
      "text/plain": [
       "   customer_id  total_orders  orders_less_than_180  percentage_less_than_180  \\\n",
       "0        ALFKI             6                     5                     83.33   \n",
       "1        ANATR             4                     2                     50.00   \n",
       "2        ANTON             7                     6                     85.71   \n",
       "3        AROUT            13                    12                     92.31   \n",
       "4        BERGS            18                    17                     94.44   \n",
       "..         ...           ...                   ...                       ...   \n",
       "84       WARTH            15                    14                     93.33   \n",
       "85       WELLI             9                     7                     77.78   \n",
       "86       WHITC            14                    13                     92.86   \n",
       "87       WILMK             7                     6                     85.71   \n",
       "88       WOLZA             7                     5                     71.43   \n",
       "\n",
       "    target best_customer  \n",
       "0        1      mid-high  \n",
       "1        0           low  \n",
       "2        1      mid-high  \n",
       "3        1          high  \n",
       "4        1          high  \n",
       "..     ...           ...  \n",
       "84       1          high  \n",
       "85       1       mid-low  \n",
       "86       1          high  \n",
       "87       1      mid-high  \n",
       "88       1       mid-low  \n",
       "\n",
       "[89 rows x 6 columns]"
      ]
     },
     "execution_count": 44,
     "metadata": {},
     "output_type": "execute_result"
    }
   ],
   "source": [
    "# order_date sütunu datetime değilse dönüştür\n",
    "data['order_date'] = pd.to_datetime(data['order_date'])\n",
    "\n",
    "# 1. Aynı müşteri ve aynı tarihteki siparişleri tekilleştir\n",
    "df_unique = data.drop_duplicates(subset=['customer_id', 'order_date'])\n",
    "\n",
    "# 2. Sıralama\n",
    "df_unique = df_unique.sort_values(['customer_id', 'order_date']).reset_index(drop=True)\n",
    "\n",
    "# 3. Bir sonraki siparişin tarihini bul\n",
    "df_unique['next_order_date'] = df_unique.groupby('customer_id')['order_date'].shift(-1)\n",
    "\n",
    "# 4. Gün farkını hesapla\n",
    "df_unique['days_diff'] = (df_unique['next_order_date'] - df_unique['order_date']).dt.days\n",
    "\n",
    "# 5. 180 günden az olanları işaretle\n",
    "df_unique['less_than_180'] = df_unique['days_diff'] < 180\n",
    "\n",
    "# 6. Özet tablo\n",
    "summary = df_unique.groupby('customer_id').agg(\n",
    "    total_orders=('order_date', 'count'),\n",
    "    orders_less_than_180=('less_than_180', 'sum')\n",
    ").reset_index()\n",
    "\n",
    "summary['percentage_less_than_180'] = 100 * summary['orders_less_than_180'] / summary['total_orders']\n",
    "summary = summary.round(2)\n",
    "\n",
    "# Sonuç\n",
    "summary\n",
    "\n",
    "summary['target'] = summary['percentage_less_than_180'].apply(lambda x: 1 if x >= 60 else 0)\n",
    "summary['best_customer'] = pd.qcut(summary['percentage_less_than_180'], q=4, labels=['low', 'mid-low', 'mid-high', 'high'])\n",
    "summary"
   ]
  },
  {
   "cell_type": "code",
   "execution_count": 51,
   "metadata": {},
   "outputs": [
    {
     "data": {
      "image/png": "[encoded data removed]",
      "text/plain": [
       "<Figure size 640x480 with 1 Axes>"
      ]
     },
     "metadata": {},
     "output_type": "display_data"
    }
   ],
   "source": [
    "import seaborn as sns\n",
    "\n",
    "sns.histplot(summary['percentage_less_than_180'], bins=10, kde=True)\n",
    "plt.xlabel('% of orders < 180 days apart')\n",
    "plt.title('Dağılım: percentage_less_than_180')\n",
    "plt.show()\n"
   ]
  },
  {
   "cell_type": "code",
   "execution_count": 45,
   "metadata": {},
   "outputs": [],
   "source": [
    "df[\"best_customer\"] = summary[\"best_customer\"]\n",
    "df[\"target\"] = summary[\"target\"]"
   ]
  },
  {
   "cell_type": "code",
   "execution_count": 46,
   "metadata": {},
   "outputs": [
    {
     "data": {
      "application/vnd.microsoft.datawrangler.viewer.v0+json": {
       "columns": [
        {
         "name": "index",
         "rawType": "int64",
         "type": "integer"
        },
        {
         "name": "customer_id",
         "rawType": "category",
         "type": "unknown"
        },
        {
         "name": "order_count",
         "rawType": "int64",
         "type": "integer"
        },
        {
         "name": "median_order_size",
         "rawType": "float64",
         "type": "float"
        },
        {
         "name": "country",
         "rawType": "category",
         "type": "unknown"
        },
        {
         "name": "top_category",
         "rawType": "category",
         "type": "unknown"
        },
        {
         "name": "top_season",
         "rawType": "object",
         "type": "string"
        },
        {
         "name": "best_customer",
         "rawType": "category",
         "type": "unknown"
        },
        {
         "name": "target",
         "rawType": "int64",
         "type": "integer"
        }
       ],
       "conversionMethod": "pd.DataFrame",
       "ref": "c5ff4eb6-ced0-4ee1-be38-1e2c782d5a7c",
       "rows": [
        [
         "0",
         "ALFKI",
         "12",
         "830.15",
         "Germany",
         "2",
         "Spring",
         "mid-high",
         "1"
        ],
        [
         "1",
         "ANATR",
         "10",
         "399.875",
         "Mexico",
         "4",
         "Spring",
         "low",
         "0"
        ],
        [
         "2",
         "ANTON",
         "17",
         "749.0625",
         "Mexico",
         "4",
         "Autumn",
         "mid-high",
         "1"
        ],
        [
         "3",
         "AROUT",
         "30",
         "480.0",
         "UK",
         "1",
         "Winter",
         "high",
         "1"
        ],
        [
         "4",
         "BERGS",
         "52",
         "1277.6",
         "Sweden",
         "1",
         "Winter",
         "high",
         "1"
        ],
        [
         "5",
         "BLAUS",
         "14",
         "464.0",
         "Germany",
         "3",
         "Spring",
         "mid-low",
         "1"
        ],
        [
         "6",
         "BLONP",
         "26",
         "1176.0",
         "France",
         "1",
         "Summer",
         "mid-high",
         "1"
        ],
        [
         "7",
         "BOLID",
         "6",
         "982.0",
         "Spain",
         "5",
         "Autumn",
         "low",
         "0"
        ],
        [
         "8",
         "BONAP",
         "44",
         "1296.0",
         "France",
         "8",
         "Autumn",
         "high",
         "1"
        ],
        [
         "9",
         "BOTTM",
         "35",
         "1019.6625",
         "Canada",
         "4",
         "Spring",
         "mid-high",
         "1"
        ],
        [
         "10",
         "BSBEV",
         "22",
         "478.2",
         "UK",
         "3",
         "Spring",
         "mid-low",
         "1"
        ],
        [
         "11",
         "CACTU",
         "11",
         "265.25",
         "Argentina",
         "1",
         "Spring",
         "low",
         "1"
        ],
        [
         "12",
         "CENTC",
         "2",
         "100.8",
         "Mexico",
         "3",
         "Summer",
         "low",
         "0"
        ],
        [
         "13",
         "CHOPS",
         "22",
         "1529.9",
         "Switzerland",
         "5",
         "Spring",
         "mid-low",
         "1"
        ],
        [
         "14",
         "COMMI",
         "10",
         "405.75",
         "Brazil",
         "2",
         "Spring",
         "low",
         "0"
        ],
        [
         "15",
         "CONSH",
         "7",
         "631.6",
         "UK",
         "5",
         "Winter",
         "low",
         "0"
        ],
        [
         "16",
         "DRACD",
         "10",
         "433.6",
         "Germany",
         "4",
         "Winter",
         "low",
         "1"
        ],
        [
         "17",
         "DUMON",
         "9",
         "346.4",
         "France",
         "1",
         "Autumn",
         "low",
         "0"
        ],
        [
         "18",
         "EASTC",
         "21",
         "1458.405",
         "UK",
         "4",
         "Spring",
         "mid-high",
         "1"
        ],
        [
         "19",
         "ERNSH",
         "102",
         "2933.25",
         "Austria",
         "4",
         "Winter",
         "high",
         "1"
        ],
        [
         "20",
         "FAMIA",
         "19",
         "310.0",
         "Brazil",
         "1",
         "Autumn",
         "mid-high",
         "1"
        ],
        [
         "21",
         "FOLIG",
         "16",
         "1622.4",
         "France",
         "3",
         "Winter",
         "mid-low",
         "1"
        ],
        [
         "22",
         "FOLKO",
         "45",
         "868.75",
         "Sweden",
         "1",
         "Winter",
         "high",
         "1"
        ],
        [
         "23",
         "FRANK",
         "48",
         "1512.0",
         "Germany",
         "4",
         "Autumn",
         "high",
         "1"
        ],
        [
         "24",
         "FRANR",
         "6",
         "920.1",
         "France",
         "3",
         "Autumn",
         "low",
         "1"
        ],
        [
         "25",
         "FRANS",
         "10",
         "90.75",
         "Italy",
         "3",
         "Autumn",
         "low",
         "1"
        ],
        [
         "26",
         "FURIB",
         "20",
         "713.7525",
         "Portugal",
         "2",
         "Spring",
         "mid-low",
         "1"
        ],
        [
         "27",
         "GALED",
         "8",
         "137.5",
         "Spain",
         "2",
         "Winter",
         "low",
         "1"
        ],
        [
         "28",
         "GODOS",
         "26",
         "770.65",
         "Spain",
         "3",
         "Spring",
         "mid-low",
         "1"
        ],
        [
         "29",
         "GOURL",
         "19",
         "722.5",
         "Brazil",
         "4",
         "Autumn",
         "mid-low",
         "1"
        ],
        [
         "30",
         "GREAL",
         "22",
         "510.0",
         "USA",
         "4",
         "Spring",
         "mid-high",
         "1"
        ],
        [
         "31",
         "GROSR",
         "4",
         "744.35",
         "Venezuela",
         "1",
         "Summer",
         "low",
         "0"
        ],
        [
         "32",
         "HANAR",
         "32",
         "1422.25",
         "Brazil",
         "1",
         "Spring",
         "mid-high",
         "1"
        ],
        [
         "33",
         "HILAA",
         "45",
         "1027.2",
         "Venezuela",
         "1",
         "Spring",
         "high",
         "1"
        ],
        [
         "34",
         "HUNGC",
         "9",
         "442.0",
         "USA",
         "6",
         "Winter",
         "low",
         "1"
        ],
        [
         "35",
         "HUNGO",
         "55",
         "2023.38",
         "Ireland",
         "4",
         "Autumn",
         "high",
         "1"
        ],
        [
         "36",
         "ISLAT",
         "23",
         "481.7",
         "UK",
         "1",
         "Autumn",
         "mid-high",
         "1"
        ],
        [
         "37",
         "KOENE",
         "39",
         "1232.4095",
         "Germany",
         "3",
         "Winter",
         "high",
         "1"
        ],
        [
         "38",
         "LACOR",
         "11",
         "470.275",
         "France",
         "1",
         "Spring",
         "low",
         "1"
        ],
        [
         "39",
         "LAMAI",
         "31",
         "452.255",
         "France",
         "1",
         "Winter",
         "high",
         "1"
        ],
        [
         "40",
         "LAUGB",
         "8",
         "187.0",
         "Canada",
         "1",
         "Spring",
         "low",
         "1"
        ],
        [
         "41",
         "LAZYK",
         "2",
         "178.5",
         "USA",
         "4",
         "Spring",
         "low",
         "0"
        ],
        [
         "42",
         "LEHMS",
         "39",
         "1170.375",
         "Germany",
         "4",
         "Spring",
         "high",
         "1"
        ],
        [
         "43",
         "LETSS",
         "10",
         "690.3262500000001",
         "USA",
         "2",
         "Autumn",
         "mid-low",
         "1"
        ],
        [
         "44",
         "LILAS",
         "34",
         "1289.8400000000001",
         "Venezuela",
         "4",
         "Spring",
         "mid-high",
         "1"
        ],
        [
         "45",
         "LINOD",
         "35",
         "1353.4",
         "Venezuela",
         "3",
         "Spring",
         "mid-high",
         "1"
        ],
        [
         "46",
         "LONEP",
         "14",
         "352.6",
         "USA",
         "1",
         "Autumn",
         "mid-low",
         "1"
        ],
        [
         "47",
         "MAGAA",
         "21",
         "622.75",
         "Italy",
         "1",
         "Winter",
         "mid-high",
         "1"
        ],
        [
         "48",
         "MAISD",
         "17",
         "1303.195",
         "Belgium",
         "3",
         "Spring",
         "mid-high",
         "1"
        ],
        [
         "49",
         "MEREP",
         "32",
         "1260.0",
         "Canada",
         "3",
         "Summer",
         "high",
         "1"
        ]
       ],
       "shape": {
        "columns": 8,
        "rows": 89
       }
      },
      "text/html": [
       "<div>\n",
       "<style scoped>\n",
       "    .dataframe tbody tr th:only-of-type {\n",
       "        vertical-align: middle;\n",
       "    }\n",
       "\n",
       "    .dataframe tbody tr th {\n",
       "        vertical-align: top;\n",
       "    }\n",
       "\n",
       "    .dataframe thead th {\n",
       "        text-align: right;\n",
       "    }\n",
       "</style>\n",
       "<table border=\"1\" class=\"dataframe\">\n",
       "  <thead>\n",
       "    <tr style=\"text-align: right;\">\n",
       "      <th></th>\n",
       "      <th>customer_id</th>\n",
       "      <th>order_count</th>\n",
       "      <th>median_order_size</th>\n",
       "      <th>country</th>\n",
       "      <th>top_category</th>\n",
       "      <th>top_season</th>\n",
       "      <th>best_customer</th>\n",
       "      <th>target</th>\n",
       "    </tr>\n",
       "  </thead>\n",
       "  <tbody>\n",
       "    <tr>\n",
       "      <th>0</th>\n",
       "      <td>ALFKI</td>\n",
       "      <td>12</td>\n",
       "      <td>830.1500</td>\n",
       "      <td>Germany</td>\n",
       "      <td>2</td>\n",
       "      <td>Spring</td>\n",
       "      <td>mid-high</td>\n",
       "      <td>1</td>\n",
       "    </tr>\n",
       "    <tr>\n",
       "      <th>1</th>\n",
       "      <td>ANATR</td>\n",
       "      <td>10</td>\n",
       "      <td>399.8750</td>\n",
       "      <td>Mexico</td>\n",
       "      <td>4</td>\n",
       "      <td>Spring</td>\n",
       "      <td>low</td>\n",
       "      <td>0</td>\n",
       "    </tr>\n",
       "    <tr>\n",
       "      <th>2</th>\n",
       "      <td>ANTON</td>\n",
       "      <td>17</td>\n",
       "      <td>749.0625</td>\n",
       "      <td>Mexico</td>\n",
       "      <td>4</td>\n",
       "      <td>Autumn</td>\n",
       "      <td>mid-high</td>\n",
       "      <td>1</td>\n",
       "    </tr>\n",
       "    <tr>\n",
       "      <th>3</th>\n",
       "      <td>AROUT</td>\n",
       "      <td>30</td>\n",
       "      <td>480.0000</td>\n",
       "      <td>UK</td>\n",
       "      <td>1</td>\n",
       "      <td>Winter</td>\n",
       "      <td>high</td>\n",
       "      <td>1</td>\n",
       "    </tr>\n",
       "    <tr>\n",
       "      <th>4</th>\n",
       "      <td>BERGS</td>\n",
       "      <td>52</td>\n",
       "      <td>1277.6000</td>\n",
       "      <td>Sweden</td>\n",
       "      <td>1</td>\n",
       "      <td>Winter</td>\n",
       "      <td>high</td>\n",
       "      <td>1</td>\n",
       "    </tr>\n",
       "    <tr>\n",
       "      <th>...</th>\n",
       "      <td>...</td>\n",
       "      <td>...</td>\n",
       "      <td>...</td>\n",
       "      <td>...</td>\n",
       "      <td>...</td>\n",
       "      <td>...</td>\n",
       "      <td>...</td>\n",
       "      <td>...</td>\n",
       "    </tr>\n",
       "    <tr>\n",
       "      <th>84</th>\n",
       "      <td>WARTH</td>\n",
       "      <td>37</td>\n",
       "      <td>877.2000</td>\n",
       "      <td>Finland</td>\n",
       "      <td>4</td>\n",
       "      <td>Winter</td>\n",
       "      <td>high</td>\n",
       "      <td>1</td>\n",
       "    </tr>\n",
       "    <tr>\n",
       "      <th>85</th>\n",
       "      <td>WELLI</td>\n",
       "      <td>19</td>\n",
       "      <td>517.8000</td>\n",
       "      <td>Brazil</td>\n",
       "      <td>1</td>\n",
       "      <td>Winter</td>\n",
       "      <td>mid-low</td>\n",
       "      <td>1</td>\n",
       "    </tr>\n",
       "    <tr>\n",
       "      <th>86</th>\n",
       "      <td>WHITC</td>\n",
       "      <td>40</td>\n",
       "      <td>1284.6900</td>\n",
       "      <td>USA</td>\n",
       "      <td>3</td>\n",
       "      <td>Spring</td>\n",
       "      <td>high</td>\n",
       "      <td>1</td>\n",
       "    </tr>\n",
       "    <tr>\n",
       "      <th>87</th>\n",
       "      <td>WILMK</td>\n",
       "      <td>17</td>\n",
       "      <td>452.9000</td>\n",
       "      <td>Finland</td>\n",
       "      <td>1</td>\n",
       "      <td>Winter</td>\n",
       "      <td>mid-high</td>\n",
       "      <td>1</td>\n",
       "    </tr>\n",
       "    <tr>\n",
       "      <th>88</th>\n",
       "      <td>WOLZA</td>\n",
       "      <td>16</td>\n",
       "      <td>459.0000</td>\n",
       "      <td>Poland</td>\n",
       "      <td>1</td>\n",
       "      <td>Winter</td>\n",
       "      <td>mid-low</td>\n",
       "      <td>1</td>\n",
       "    </tr>\n",
       "  </tbody>\n",
       "</table>\n",
       "<p>89 rows × 8 columns</p>\n",
       "</div>"
      ],
      "text/plain": [
       "   customer_id  order_count  median_order_size  country top_category  \\\n",
       "0        ALFKI           12           830.1500  Germany            2   \n",
       "1        ANATR           10           399.8750   Mexico            4   \n",
       "2        ANTON           17           749.0625   Mexico            4   \n",
       "3        AROUT           30           480.0000       UK            1   \n",
       "4        BERGS           52          1277.6000   Sweden            1   \n",
       "..         ...          ...                ...      ...          ...   \n",
       "84       WARTH           37           877.2000  Finland            4   \n",
       "85       WELLI           19           517.8000   Brazil            1   \n",
       "86       WHITC           40          1284.6900      USA            3   \n",
       "87       WILMK           17           452.9000  Finland            1   \n",
       "88       WOLZA           16           459.0000   Poland            1   \n",
       "\n",
       "   top_season best_customer  target  \n",
       "0      Spring      mid-high       1  \n",
       "1      Spring           low       0  \n",
       "2      Autumn      mid-high       1  \n",
       "3      Winter          high       1  \n",
       "4      Winter          high       1  \n",
       "..        ...           ...     ...  \n",
       "84     Winter          high       1  \n",
       "85     Winter       mid-low       1  \n",
       "86     Spring          high       1  \n",
       "87     Winter      mid-high       1  \n",
       "88     Winter       mid-low       1  \n",
       "\n",
       "[89 rows x 8 columns]"
      ]
     },
     "execution_count": 46,
     "metadata": {},
     "output_type": "execute_result"
    }
   ],
   "source": [
    "df"
   ]
  },
  {
   "cell_type": "code",
   "execution_count": 48,
   "metadata": {},
   "outputs": [
    {
     "name": "stdout",
     "output_type": "stream",
     "text": [
      "<class 'pandas.core.frame.DataFrame'>\n",
      "RangeIndex: 89 entries, 0 to 88\n",
      "Data columns (total 8 columns):\n",
      " #   Column             Non-Null Count  Dtype   \n",
      "---  ------             --------------  -----   \n",
      " 0   customer_id        89 non-null     category\n",
      " 1   order_count        89 non-null     int64   \n",
      " 2   median_order_size  89 non-null     float64 \n",
      " 3   country            89 non-null     category\n",
      " 4   top_category       89 non-null     category\n",
      " 5   top_season         89 non-null     object  \n",
      " 6   best_customer      89 non-null     category\n",
      " 7   target             89 non-null     int64   \n",
      "dtypes: category(4), float64(1), int64(2), object(1)\n",
      "memory usage: 7.3+ KB\n"
     ]
    }
   ],
   "source": [
    "df.info()"
   ]
  },
  {
   "cell_type": "code",
   "execution_count": 49,
   "metadata": {},
   "outputs": [
    {
     "data": {
      "text/plain": [
       "target               1.000000\n",
       "best_customer_low   -0.567835\n",
       "Name: target, dtype: float64"
      ]
     },
     "execution_count": 49,
     "metadata": {},
     "output_type": "execute_result"
    }
   ],
   "source": [
    "categoric = df[[\"country\", \"top_category\", \"top_season\", \"best_customer\", ]]\n",
    "cat = pd.get_dummies(categoric).astype(\"int\")\n",
    "num = df.select_dtypes(include=\"number\")\n",
    "new = pd.concat([num, cat], axis=1)\n",
    "correlation_matrix = new.corr()\n",
    "target_correlations = correlation_matrix['target']\n",
    "strong_correlations_mask = (target_correlations > 0.50) | (target_correlations < -0.50)\n",
    "filtered_correlations = target_correlations[strong_correlations_mask]\n",
    "filtered_correlations"
   ]
  },
  {
   "cell_type": "code",
   "execution_count": 50,
   "metadata": {},
   "outputs": [
    {
     "ename": "NameError",
     "evalue": "name 'class_weight' is not defined",
     "output_type": "error",
     "traceback": [
      "\u001b[1;31m---------------------------------------------------------------------------\u001b[0m",
      "\u001b[1;31mNameError\u001b[0m                                 Traceback (most recent call last)",
      "Cell \u001b[1;32mIn[50], line 3\u001b[0m\n\u001b[0;32m      1\u001b[0m \u001b[38;5;66;03m# --- Sınıf Dengesizliği Yönetimi (Class Imbalance Handling) ---\u001b[39;00m\n\u001b[0;32m      2\u001b[0m \u001b[38;5;66;03m# Hedef değişken dağılımı çok dengesizse (örn. %90-%10) class_weight kullanabiliriz.\u001b[39;00m\n\u001b[1;32m----> 3\u001b[0m class_weights_sklearn \u001b[38;5;241m=\u001b[39m class_weight\u001b[38;5;241m.\u001b[39mcompute_class_weight(\u001b[38;5;124m'\u001b[39m\u001b[38;5;124mbalanced\u001b[39m\u001b[38;5;124m'\u001b[39m,\n\u001b[0;32m      4\u001b[0m                                                            classes\u001b[38;5;241m=\u001b[39mnp\u001b[38;5;241m.\u001b[39munique(y_train),\n\u001b[0;32m      5\u001b[0m                                                            y\u001b[38;5;241m=\u001b[39my_train)\n\u001b[0;32m      6\u001b[0m class_weights \u001b[38;5;241m=\u001b[39m \u001b[38;5;28mdict\u001b[39m(\u001b[38;5;28menumerate\u001b[39m(class_weights_sklearn))\n",
      "\u001b[1;31mNameError\u001b[0m: name 'class_weight' is not defined"
     ]
    }
   ],
   "source": [
    "# --- Sınıf Dengesizliği Yönetimi (Class Imbalance Handling) ---\n",
    "# Hedef değişken dağılımı çok dengesizse (örn. %90-%10) class_weight kullanabiliriz.\n",
    "class_weights_sklearn = class_weight.compute_class_weight('balanced',\n",
    "                                                           classes=np.unique(y_train),\n",
    "                                                           y=y_train)\n",
    "class_weights = dict(enumerate(class_weights_sklearn))\n"
   ]
  },
  {
   "cell_type": "code",
   "execution_count": null,
   "metadata": {},
   "outputs": [],
   "source": [
    "from imblearn.over_sampling import SMOTE"
   ]
  },
  {
   "cell_type": "code",
   "execution_count": null,
   "metadata": {},
   "outputs": [],
   "source": [
    "#  SMOTE (Synthetic Minority Over-sampling Technique) gibi teknikler kullanılabilir. SMOTE, azınlık sınıfına ait mevcut örneklere benzer sentetik yeni örnekler üreterek veri setini dengeler. Bu, modelin azınlık sınıfını daha iyi öğrenmesine yardımcı olabilir. Bu işlem, train_test_split'ten sonra ve sadece eğitim verisi üzerinde yapılmalıdır (imbalanced-learn kütüphanesi kullanılabilir).\n",
    "scaler = StandardScaler()\n",
    "X_train_scaled = scaler.fit_transform(X_train)\n",
    "# Test verisini aynı scaler ile transform et\n",
    "X_test_scaled = scaler.transform(X_test)\n",
    "\n",
    "\n",
    "# --- SMOTE ile Veri Artırma (Sadece Eğitim Setine Uygula) ---\n",
    "print(\"\\nSMOTE Uygulanıyor...\")\n",
    "smote = SMOTE(random_state=42)\n",
    "# SMOTE'u ölçeklenmiş eğitim verisine uygula\n",
    "X_train_resampled, y_train_resampled = smote.fit_resample(X_train_scaled, y_train)\n",
    "\n",
    "print(f\"Eğitim Seti Boyutu (SMOTE Sonrası): {X_train_resampled.shape}\")\n",
    "print(\"Eğitim Seti Hedef Dağılımı (SMOTE Sonrası):\\n\", pd.Series(y_train_resampled).value_counts(normalize=True))\n",
    "\n",
    "\n",
    "# Ölçeklenmiş ve yeniden örneklenmiş veriyi DataFrame'e dönüştürmek (kontrol için)\n",
    "X_train_resampled_df = pd.DataFrame(X_train_resampled, columns=features)\n",
    "print(\"\\nÖlçeklenmiş ve SMOTE Uygulanmış Eğitim Verisi İlk 5 Satır:\")\n",
    "print(X_train_resampled_df.head())"
   ]
  },
  {
   "cell_type": "code",
   "execution_count": null,
   "metadata": {},
   "outputs": [],
   "source": [
    "from sklearn.preprocessing import StandardScaler"
   ]
  },
  {
   "cell_type": "code",
   "execution_count": null,
   "metadata": {},
   "outputs": [],
   "source": [
    "scaler = StandardScaler()\n",
    "X_train_scaled = scaler.fit_transform(X_train_res)\n",
    "X_test_scaled = scaler.transform(X_test)"
   ]
  },
  {
   "cell_type": "code",
   "execution_count": null,
   "metadata": {},
   "outputs": [],
   "source": [
    "X_train_np = X_train_scaled.astype(np.float32)\n",
    "y_train_np = y_train_res.astype(np.float32)"
   ]
  },
  {
   "cell_type": "code",
   "execution_count": null,
   "metadata": {},
   "outputs": [],
   "source": [
    "from tensorflow.keras.models import Sequential\n",
    "from tensorflow.keras.layers import Dense,Dropout"
   ]
  },
  {
   "cell_type": "code",
   "execution_count": null,
   "metadata": {},
   "outputs": [],
   "source": [
    "model = Sequential([\n",
    "    Dense(64, activation='relu', input_shape=(X_train_np.shape[1],)),\n",
    "    Dropout(0.3), # 0.5 denendi\n",
    "    Dense(32, activation='relu'),\n",
    "    Dropout(0.2), # 0.5 denendi\n",
    "    Dense(1, activation='sigmoid')  # ikili sınıflandırma için\n",
    "])\n"
   ]
  },
  {
   "cell_type": "code",
   "execution_count": null,
   "metadata": {},
   "outputs": [],
   "source": [
    "model.compile(optimizer='adam',\n",
    "              loss='binary_crossentropy',\n",
    "              metrics=['accuracy', 'f1_score'])\n"
   ]
  },
  {
   "cell_type": "code",
   "execution_count": null,
   "metadata": {},
   "outputs": [],
   "source": [
    "history = model.fit(X_train_np, y_train_np, \n",
    "                    validation_split=0.2, # 0.4 denendi\n",
    "                    epochs=30, batch_size=32)\n"
   ]
  },
  {
   "cell_type": "code",
   "execution_count": null,
   "metadata": {},
   "outputs": [],
   "source": [
    "#test verisi ile değerlendirme: \n",
    "X_test_np = X_test_scaled.astype(np.float32)\n",
    "y_pred = model.predict(X_test_np)\n",
    "y_pred_class = (y_pred > 0.5).astype(int)"
   ]
  }
 ],
 "metadata": {
  "kernelspec": {
   "display_name": "tfenv",
   "language": "python",
   "name": "tfenv"
  },
  "language_info": {
   "codemirror_mode": {
    "name": "ipython",
    "version": 3
   },
   "file_extension": ".py",
   "mimetype": "text/x-python",
   "name": "python",
   "nbconvert_exporter": "python",
   "pygments_lexer": "ipython3",
   "version": "3.10.16"
  }
 },
 "nbformat": 4,
 "nbformat_minor": 2
}
