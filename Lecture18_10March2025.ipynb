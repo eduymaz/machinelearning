{
 "cells": [
  {
   "cell_type": "code",
   "execution_count": 1,
   "id": "88be54a1-d493-475f-9e05-dc9e3f9cf011",
   "metadata": {},
   "outputs": [],
   "source": [
    "## ÖDEV YAPILDI ! "
   ]
  },
  {
   "cell_type": "markdown",
   "id": "4837d6cd-0a7d-4f75-aab4-47eda446ca65",
   "metadata": {},
   "source": [
    "Ödev linki : https://colab.research.google.com/drive/18pJ7xuA_xWVeYQfvS0Xwy--3vPMCEPIg#scrollTo=NEff9IE0_Aj9"
   ]
  },
  {
   "cell_type": "code",
   "execution_count": null,
   "id": "574abda0-2567-4002-9e36-e0d0b4289144",
   "metadata": {},
   "outputs": [],
   "source": []
  }
 ],
 "metadata": {
  "kernelspec": {
   "display_name": "myPythonKernel.v1",
   "language": "python",
   "name": "mypythonkernel.v1"
  },
  "language_info": {
   "codemirror_mode": {
    "name": "ipython",
    "version": 3
   },
   "file_extension": ".py",
   "mimetype": "text/x-python",
   "name": "python",
   "nbconvert_exporter": "python",
   "pygments_lexer": "ipython3",
   "version": "3.12.8"
  }
 },
 "nbformat": 4,
 "nbformat_minor": 5
}
