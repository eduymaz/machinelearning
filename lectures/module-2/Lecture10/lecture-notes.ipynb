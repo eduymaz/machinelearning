{
 "cells": [
  {
   "cell_type": "markdown",
   "id": "5d9787b4",
   "metadata": {},
   "source": [
    "## Pekiştirmeli Öğrenme (Reinforcement Learning)"
   ]
  },
  {
   "cell_type": "markdown",
   "id": "7a5eeeae",
   "metadata": {},
   "source": [
    "- \"otur\" komutu verdin ->>\n",
    "\n",
    "-> oturursa : ödüllendir (mama ver)\n",
    "\n",
    "-> oturmazsa : mama verme"
   ]
  },
  {
   "cell_type": "markdown",
   "id": "248782a2",
   "metadata": {},
   "source": [
    "Ajan -> Köpek\n",
    "\n",
    "Aksiyon -> Oturmak ya da oturmamak\n",
    "\n",
    "Ödül -> Mama\n",
    "\n",
    "Amaç -> Maksimum mamaya ulaşmak"
   ]
  },
  {
   "cell_type": "markdown",
   "id": "ab74a9eb",
   "metadata": {},
   "source": [
    "#### Kavramlar \n",
    "\n",
    "1. q_table\n",
    "2. learning_rate\n",
    "3. discount\n",
    "4. epoch\n",
    "5. epsilon"
   ]
  },
  {
   "cell_type": "markdown",
   "id": "c3918d06",
   "metadata": {},
   "source": [
    "##### 1. q_talbe (HAFIZA)\n",
    "\n",
    "Ajanın öğrendiği bilgiyi sakladığı tablodur. \n",
    "Örn. çeşitli mekanlarda yemek yemeye gidiyoruz. Önceki tecrübelerimize göre bir sonraki yemek yeme tercihimizi belirliyoruz. Şu restoranda şu yemek iyidir, bu yemeği şuradan söylemeliyim gibi..\n",
    "\n",
    "\n",
    ">> 5 * 5 = 25 elemanlı bir array olabilir \n",
    "\n",
    "- [0,0]'da iken sağa giderek [0,1]'e gelmenin puanı -> 5 iken ilerleyen adımlarda hedefe yakınlaştıkça ödül puanları artırılır. \n",
    "- [3,4]'ten [4,4]'e geçmesinin ödül puanı -> 30 \n",
    "\n",
    "Not: Hedeften uzaklaşma durumlarında ise 'ceza' sistemi uygulanır.\n"
   ]
  },
  {
   "cell_type": "markdown",
   "id": "f3624a80",
   "metadata": {},
   "source": [
    "##### 2. learning rate\n",
    "\n",
    "- 0-1 arasında değer alır; 1 dahil değildir.\n",
    "- 0 ise güncelleme yapmayacaktır.\n",
    "- 1'e yakınlaştıkça öğrenilen bilgileri hemen kabul edecektir. (bu da risk üretir + ezberleme yapacaktır)\n"
   ]
  },
  {
   "cell_type": "markdown",
   "id": "b800272b",
   "metadata": {},
   "source": [
    "##### 3. discount_factor\n",
    "\n",
    "- 0-1 arasında değer alır. 1 değerini de alabilir\n",
    "- 1 değeri : gelecek önemli sabredeyim sonra gezerim -> öğrenme hızlıdır önemlidir.\n",
    "- 0.1 değeri ise : sınav önemli değil -> mevcut ödül kabul edilebilir öğrenmeyi yavaşlatmadır.\n",
    "\n",
    "Ödüle verdiğimiz değer diyebiliriz."
   ]
  },
  {
   "cell_type": "markdown",
   "id": "0ed2b8cd",
   "metadata": {},
   "source": [
    "##### 4. epoch\n",
    "\n",
    "- Öğrenmeyi ne kadar 'çok yinelersem' daha iyi öğrenirim mantığıdır. \n",
    "- ##### EPOCH SAYISI = TERCÜBE"
   ]
  },
  {
   "cell_type": "markdown",
   "id": "9ceb2ffa",
   "metadata": {},
   "source": [
    "##### 5. epsilon \n",
    "\n",
    "- Ajanın rastgele hareket etme oranıdır (Keşif oranı)\n",
    "- 0-1 arasında değer alıyor. \n",
    "- 0.2 değeri mesela sen 0.8 bildiğini yap ama 0.2 yeni kazanımlara açık ol anlamına gelir."
   ]
  },
  {
   "cell_type": "markdown",
   "id": "98baf761",
   "metadata": {},
   "source": []
  }
 ],
 "metadata": {
  "language_info": {
   "name": "python"
  }
 },
 "nbformat": 4,
 "nbformat_minor": 5
}
