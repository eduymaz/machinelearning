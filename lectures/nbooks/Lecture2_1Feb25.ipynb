{
 "cells": [
  {
   "cell_type": "markdown",
   "metadata": {
    "vscode": {
     "languageId": "plaintext"
    }
   },
   "source": [
    "### Veri"
   ]
  },
  {
   "cell_type": "code",
   "execution_count": 2,
   "metadata": {},
   "outputs": [],
   "source": [
    "unitPrice = 2500\n",
    "productName = 'Hava Temizleyici'\n",
    "isLoggedIn = False #or True\n",
    "interestRate = 4.5"
   ]
  },
  {
   "cell_type": "code",
   "execution_count": 9,
   "metadata": {},
   "outputs": [
    {
     "name": "stdout",
     "output_type": "stream",
     "text": [
      "Kullanıcı bilgileri hatalı\n"
     ]
    }
   ],
   "source": [
    "if isLoggedIn == True:\n",
    "    print(\"Kullanıcı bilgileri dogrulandi.\")\n",
    "else: \n",
    "    print('Kullanıcı bilgileri hatalı')"
   ]
  },
  {
   "cell_type": "code",
   "execution_count": 13,
   "metadata": {},
   "outputs": [
    {
     "name": "stdout",
     "output_type": "stream",
     "text": [
      "CB\n"
     ]
    }
   ],
   "source": [
    "grade = 75\n",
    "\n",
    "if grade >= 90:\n",
    "    print('AA')\n",
    "elif grade >= 80:\n",
    "    print('BA')\n",
    "elif grade >= 70:\n",
    "    print('CB')\n",
    "else:\n",
    "    print('FF')"
   ]
  },
  {
   "cell_type": "code",
   "execution_count": 14,
   "metadata": {},
   "outputs": [
    {
     "name": "stdout",
     "output_type": "stream",
     "text": [
      "0\n",
      "1\n",
      "2\n",
      "3\n",
      "4\n",
      "5\n",
      "6\n",
      "7\n",
      "8\n",
      "9\n"
     ]
    }
   ],
   "source": [
    "for i in range(10):\n",
    "    print(i)"
   ]
  },
  {
   "cell_type": "code",
   "execution_count": 15,
   "metadata": {},
   "outputs": [
    {
     "name": "stdout",
     "output_type": "stream",
     "text": [
      "2\n",
      "5\n",
      "8\n"
     ]
    }
   ],
   "source": [
    "for i in range(2,10,3):\n",
    "    print(i)"
   ]
  },
  {
   "cell_type": "code",
   "execution_count": 16,
   "metadata": {},
   "outputs": [
    {
     "name": "stdout",
     "output_type": "stream",
     "text": [
      "Ankara\n",
      "İzmir\n",
      "İstanbul\n"
     ]
    }
   ],
   "source": [
    "cities =[\"Ankara\", \"İzmir\", \"İstanbul\"]\n",
    "for city in cities:\n",
    "    print(city)"
   ]
  },
  {
   "cell_type": "code",
   "execution_count": 17,
   "metadata": {},
   "outputs": [
    {
     "name": "stdout",
     "output_type": "stream",
     "text": [
      "A\n",
      "n\n",
      "k\n",
      "a\n",
      "r\n",
      "a\n"
     ]
    }
   ],
   "source": [
    "city = 'Ankara'\n",
    "for letter in city:\n",
    "    print(letter)"
   ]
  },
  {
   "cell_type": "code",
   "execution_count": 18,
   "metadata": {},
   "outputs": [
    {
     "name": "stdout",
     "output_type": "stream",
     "text": [
      "0\n",
      "1\n",
      "2\n",
      "3\n",
      "4\n",
      "5\n",
      "6\n",
      "7\n",
      "8\n",
      "9\n",
      "döngü bitti\n"
     ]
    }
   ],
   "source": [
    "count = 0\n",
    "while count < 10:\n",
    "    print(count)\n",
    "    count += 1\n",
    "print('döngü bitti')"
   ]
  },
  {
   "cell_type": "code",
   "execution_count": 1,
   "metadata": {},
   "outputs": [
    {
     "name": "stdout",
     "output_type": "stream",
     "text": [
      "220 ve 284 arkadaş sayılardır.\n"
     ]
    }
   ],
   "source": [
    "# Girilen iki sayının arkadaş sayılar olup olmadığını bulunuz :\n",
    "\n",
    "def toplam_bolenler(n):\n",
    "    toplam = 0\n",
    "    for i in range(1, n // 2 + 1):  # Kendisi hariç bölenlerini bul\n",
    "        if n % i == 0:\n",
    "            toplam += i\n",
    "    return toplam\n",
    "\n",
    "def arkadas_sayilar(mi, n):\n",
    "    return toplam_bolenler(mi) == n and toplam_bolenler(n) == mi\n",
    "\n",
    "\n",
    "sayi1 = 220\n",
    "sayi2 = 284\n",
    "\n",
    "if arkadas_sayilar(sayi1, sayi2):\n",
    "    print(f\"{sayi1} ve {sayi2} arkadaş sayılardır.\")\n",
    "else:\n",
    "    print(f\"{sayi1} ve {sayi2} arkadaş sayı değillerdir.\")"
   ]
  },
  {
   "cell_type": "code",
   "execution_count": 2,
   "metadata": {},
   "outputs": [
    {
     "name": "stdout",
     "output_type": "stream",
     "text": [
      "1184 ve 1210 arkadaş sayılardır.\n"
     ]
    }
   ],
   "source": [
    "sayi1 = 1184\n",
    "sayi2 = 1210\n",
    "\n",
    "if arkadas_sayilar(sayi1, sayi2):\n",
    "    print(f\"{sayi1} ve {sayi2} arkadaş sayılardır.\")\n",
    "else:\n",
    "    print(f\"{sayi1} ve {sayi2} arkadaş sayı değillerdir.\")"
   ]
  },
  {
   "cell_type": "code",
   "execution_count": null,
   "metadata": {},
   "outputs": [],
   "source": [
    "\n",
    "sayi1 = 220\n",
    "sayi2 = 284\n",
    "\n",
    "def toplam_bolenler(n):\n",
    "    toplam = 1\n",
    "    for i in range(2, n // 2 + 1):\n",
    "        if n % i == 0:\n",
    "            toplam += i\n",
    "    return toplam\n",
    "\n",
    "def arkadas_sayi_bul():\n",
    "    sayi1, sayi2 = map(int, input(\"İki sayı girin: \").split())\n",
    "    if toplam_bolenler(sayi1) == sayi2 and toplam_bolenler(sayi2) == sayi1:\n",
    "        print(f\"{sayi1} ve {sayi2} arkadaş sayılardır.\")\n",
    "    else:\n",
    "        print(f\"{sayi1} ve {sayi2} arkadaş sayı değillerdir.\")\n",
    "\n",
    "arkadas_sayi_bul()\n"
   ]
  },
  {
   "cell_type": "code",
   "execution_count": null,
   "metadata": {},
   "outputs": [],
   "source": [
    "def asal_mi(n):\n",
    "    if n < 2:\n",
    "        return False\n",
    "    for i in range(2, int(n**0.5) + 1):\n",
    "        if n % i == 0:\n",
    "            return False\n",
    "    return True\n",
    "\n",
    "sayi = int(input(\"Bir sayı girin: \"))\n",
    "print(f\"{sayi} {'asaldır' if asal_mi(sayi) else 'asal değildir'}.\")\n"
   ]
  },
  {
   "cell_type": "code",
   "execution_count": null,
   "metadata": {},
   "outputs": [],
   "source": []
  },
  {
   "cell_type": "markdown",
   "metadata": {},
   "source": [
    "### Questions"
   ]
  },
  {
   "cell_type": "markdown",
   "metadata": {},
   "source": [
    "Girilen iki sayının arkadaş sayılar olup olmadığını bulunuz.\n",
    "\n",
    "1000'e kadar tüm süper sayıları bulunuz.\n",
    "\n",
    "1000'e kadar tüm asal sayılarını bulunuz."
   ]
  },
  {
   "cell_type": "code",
   "execution_count": null,
   "metadata": {},
   "outputs": [],
   "source": [
    "# Girilen iki sayının arkadaş sayılar olup olmadığını bulunuz :\n",
    "\n",
    "def toplam_bolenler(n):\n",
    "    toplam = 0\n",
    "    for i in range(1, n // 2 + 1):  # Kendisi hariç bölenlerini bul\n",
    "        if n % i == 0:\n",
    "            toplam += i\n",
    "    return toplam\n",
    "\n",
    "def arkadas_sayilar(mi, n):\n",
    "    return toplam_bolenler(mi) == n and toplam_bolenler(n) == mi\n",
    "\n",
    "# Örnek kullanım:\n",
    "sayi1 = int(input(\"Birinci sayıyı girin: \"))\n",
    "sayi2 = int(input(\"İkinci sayıyı girin: \"))\n",
    "\n",
    "if arkadas_sayilar(sayi1, sayi2):\n",
    "    print(f\"{sayi1} ve {sayi2} arkadaş sayılardır.\")\n",
    "else:\n",
    "    print(f\"{sayi1} ve {sayi2} arkadaş sayı değillerdir.\")\n"
   ]
  },
  {
   "cell_type": "code",
   "execution_count": null,
   "metadata": {},
   "outputs": [],
   "source": [
    "super_sayilar = []\n",
    "for sayi in range(1, 1001):\n",
    "    if toplam_bolenler(sayi) == sayi:\n",
    "        super_sayilar.append(sayi)\n",
    "print(\"\\n1000'e kadarki süper sayılar:\")\n",
    "print(super_sayilar)"
   ]
  },
  {
   "cell_type": "code",
   "execution_count": null,
   "metadata": {},
   "outputs": [],
   "source": [
    "print(\"\\n1000'e kadarki asal sayılar:\")\n",
    "for sayi in range(2,1000):\n",
    "    asal = True\n",
    "    for bolen in range(2,sayi):\n",
    "        if sayi%bolen==0:\n",
    "            asal = False\n",
    "    if asal:\n",
    "        print(sayi, end = \", \")"
   ]
  },
  {
   "cell_type": "markdown",
   "metadata": {},
   "source": []
  }
 ],
 "metadata": {
  "kernelspec": {
   "display_name": "Python 3 (ipykernel)",
   "language": "python",
   "name": "python3"
  },
  "language_info": {
   "codemirror_mode": {
    "name": "ipython",
    "version": 3
   },
   "file_extension": ".py",
   "mimetype": "text/x-python",
   "name": "python",
   "nbconvert_exporter": "python",
   "pygments_lexer": "ipython3",
   "version": "3.12.8"
  }
 },
 "nbformat": 4,
 "nbformat_minor": 4
}
