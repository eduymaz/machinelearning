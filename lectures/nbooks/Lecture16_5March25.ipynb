{
 "cells": [
  {
   "cell_type": "markdown",
   "id": "33151f4c-3ab7-449a-8528-6c6977533dbe",
   "metadata": {},
   "source": [
    "## NUMPY in real Life"
   ]
  },
  {
   "cell_type": "code",
   "execution_count": 1,
   "id": "4447e3a9-84c2-4fc0-8f26-fb76b261aea4",
   "metadata": {},
   "outputs": [],
   "source": [
    "import numpy as np"
   ]
  },
  {
   "cell_type": "code",
   "execution_count": 8,
   "id": "b82af6c0-369b-48fe-b504-3d789536c2d7",
   "metadata": {},
   "outputs": [],
   "source": [
    "dailySales = np.array([20000, 5000, 1000, 6000, 8500])\n",
    "prices = np.array([10, 20, 30, 40, 50])\n",
    "saledQuantities = np.array([18,20,35,44,15])"
   ]
  },
  {
   "cell_type": "code",
   "execution_count": 9,
   "id": "46dcf8f3-353d-4fe9-9f23-7fb3e44289ca",
   "metadata": {},
   "outputs": [
    {
     "name": "stdout",
     "output_type": "stream",
     "text": [
      "[ 180  400 1050 1760  750]\n"
     ]
    }
   ],
   "source": [
    "totalSalesForEach = prices * saledQuantities\n",
    "print(totalSalesForEach)"
   ]
  },
  {
   "cell_type": "code",
   "execution_count": 10,
   "id": "a934c8de-b57f-4baa-b455-db707745ff6b",
   "metadata": {},
   "outputs": [
    {
     "name": "stdout",
     "output_type": "stream",
     "text": [
      "4140\n"
     ]
    }
   ],
   "source": [
    "totalSales = totalSalesForEach.sum() \n",
    "#totalSales = np.sum(totalSalesForEach) # böyle de hesaplanabilir \n",
    "print(totalSales)"
   ]
  },
  {
   "cell_type": "code",
   "execution_count": 11,
   "id": "f271cf25-b54f-4f9a-bb51-28a0230dfbd4",
   "metadata": {},
   "outputs": [
    {
     "name": "stdout",
     "output_type": "stream",
     "text": [
      "[ 82 180 265 356 485]\n"
     ]
    }
   ],
   "source": [
    "unitsInStock = np.array([100, 200, 300, 400, 500])\n",
    "prices = np.array([10, 20, 30, 40, 50])\n",
    "saledQuantities = np.array([18,20,35,44,15])\n",
    "\n",
    "newStock = unitsInStock - saledQuantities\n",
    "print(newStock)"
   ]
  },
  {
   "cell_type": "code",
   "execution_count": 12,
   "id": "08fc1dc2-2a92-47e7-96ea-0c7e9cd74f3c",
   "metadata": {},
   "outputs": [
    {
     "name": "stdout",
     "output_type": "stream",
     "text": [
      "[ True False False False False]\n"
     ]
    }
   ],
   "source": [
    "critical = newStock < 100\n",
    "print(critical)"
   ]
  },
  {
   "cell_type": "code",
   "execution_count": 13,
   "id": "3a7be0d3-ef76-4125-a581-f6544032cf5e",
   "metadata": {},
   "outputs": [
    {
     "name": "stdout",
     "output_type": "stream",
     "text": [
      "bestSale:  1760\n",
      "worstSale:  180\n",
      "meanofSales:  828.0\n"
     ]
    }
   ],
   "source": [
    "bestSale = np.max(totalSalesForEach)\n",
    "print('bestSale: ', bestSale)\n",
    "worstSale = np.min(totalSalesForEach)\n",
    "print('worstSale: ', worstSale)\n",
    "meanofSales = np.mean(totalSalesForEach)\n",
    "print('meanofSales: ', meanofSales)"
   ]
  },
  {
   "cell_type": "code",
   "execution_count": null,
   "id": "786bf66b-e532-4ea4-929a-0794fa39b44b",
   "metadata": {},
   "outputs": [],
   "source": []
  }
 ],
 "metadata": {
  "kernelspec": {
   "display_name": "myPythonKernel.v1",
   "language": "python",
   "name": "mypythonkernel.v1"
  },
  "language_info": {
   "codemirror_mode": {
    "name": "ipython",
    "version": 3
   },
   "file_extension": ".py",
   "mimetype": "text/x-python",
   "name": "python",
   "nbconvert_exporter": "python",
   "pygments_lexer": "ipython3",
   "version": "3.12.8"
  }
 },
 "nbformat": 4,
 "nbformat_minor": 5
}
