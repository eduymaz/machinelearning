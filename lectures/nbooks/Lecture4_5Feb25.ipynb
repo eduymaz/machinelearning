{
 "cells": [
  {
   "cell_type": "markdown",
   "id": "9cb78207-e6f0-4474-b124-541fdd13fe2f",
   "metadata": {},
   "source": [
    "## Lists "
   ]
  },
  {
   "cell_type": "code",
   "execution_count": null,
   "id": "9282817d-d7a3-4770-8eea-c3e4f14b39cf",
   "metadata": {},
   "outputs": [],
   "source": [
    "'''\n",
    "import request\n",
    "import json\n",
    "\n",
    "url = ' '\n",
    "response = request.get(url)\n",
    "todos = json.loads(response.text)\n",
    "uncompleted = \n",
    "uncompleted_todo =\n",
    "...\n",
    "\n",
    "'''"
   ]
  },
  {
   "cell_type": "code",
   "execution_count": 19,
   "id": "72d9947a-8cf0-4d70-a9ad-6fc8d16e1a8b",
   "metadata": {},
   "outputs": [
    {
     "data": {
      "text/plain": [
       "['Ankara', 'İstanbul', 'İzmir']"
      ]
     },
     "execution_count": 19,
     "metadata": {},
     "output_type": "execute_result"
    }
   ],
   "source": [
    "cities = ['Ankara', 'İstanbul', 'İzmir']  \n",
    "cities\n",
    "#öğrenme amaçli manuel liste oluşturduk. Gerçek hayatta bir veritabanından, apiden, excelden vs gelir."
   ]
  },
  {
   "cell_type": "code",
   "execution_count": 20,
   "id": "aa1496a5-ad75-4707-8882-be804205740c",
   "metadata": {},
   "outputs": [
    {
     "data": {
      "text/plain": [
       "['Ankara', 'İstanbul', 'İzmir', 'Antalya']"
      ]
     },
     "execution_count": 20,
     "metadata": {},
     "output_type": "execute_result"
    }
   ],
   "source": [
    "cities.append('Antalya') # sona ekleme yapar\n",
    "cities"
   ]
  },
  {
   "cell_type": "code",
   "execution_count": 21,
   "id": "78fc44b0-905d-46a9-888f-8bd89e829f12",
   "metadata": {},
   "outputs": [
    {
     "data": {
      "text/plain": [
       "['Ankara', 'Adana', 'İstanbul', 'İzmir', 'Antalya']"
      ]
     },
     "execution_count": 21,
     "metadata": {},
     "output_type": "execute_result"
    }
   ],
   "source": [
    "cities.insert(1, 'Adana') # index'e ekleme yapılır\n",
    "cities"
   ]
  },
  {
   "cell_type": "code",
   "execution_count": 22,
   "id": "3abbf5c9-e27b-446d-a87d-38c696926766",
   "metadata": {},
   "outputs": [
    {
     "data": {
      "text/plain": [
       "['Ankara', 'Adana', 'İzmir', 'Antalya']"
      ]
     },
     "execution_count": 22,
     "metadata": {},
     "output_type": "execute_result"
    }
   ],
   "source": [
    "cities.remove('İstanbul')\n",
    "cities"
   ]
  },
  {
   "cell_type": "code",
   "execution_count": 23,
   "id": "84ddf5d6-3adc-4b63-ac17-96956eec7c60",
   "metadata": {},
   "outputs": [
    {
     "data": {
      "text/plain": [
       "['Ankara', 'Adana', 'Antalya']"
      ]
     },
     "execution_count": 23,
     "metadata": {},
     "output_type": "execute_result"
    }
   ],
   "source": [
    "cities.pop(2) #belirtilen index'i siler\n",
    "cities"
   ]
  },
  {
   "cell_type": "code",
   "execution_count": 24,
   "id": "861c8daa-7d29-43fe-87f7-8dfa6514d981",
   "metadata": {},
   "outputs": [
    {
     "data": {
      "text/plain": [
       "['Ankara', 'Adana', 'Antalya']"
      ]
     },
     "execution_count": 24,
     "metadata": {},
     "output_type": "execute_result"
    }
   ],
   "source": [
    "cities"
   ]
  },
  {
   "cell_type": "code",
   "execution_count": 27,
   "id": "3464dafc-6dcd-43d8-ae1d-140ffc5c35aa",
   "metadata": {},
   "outputs": [
    {
     "data": {
      "text/plain": [
       "'Adana'"
      ]
     },
     "execution_count": 27,
     "metadata": {},
     "output_type": "execute_result"
    }
   ],
   "source": [
    "cities[0]\n",
    "cities[1]\n",
    "cities[2]\n",
    "cities[-1]"
   ]
  },
  {
   "cell_type": "code",
   "execution_count": 30,
   "id": "8708911f-2a4f-4427-9ba2-71214dd297cf",
   "metadata": {},
   "outputs": [],
   "source": [
    "cities.append('Eskişehir')"
   ]
  },
  {
   "cell_type": "code",
   "execution_count": 31,
   "id": "729eaf4f-fc04-40ad-b537-d20b94688951",
   "metadata": {},
   "outputs": [
    {
     "data": {
      "text/plain": [
       "['Ankara', 'Adana', 'Antalya', 'Diyarbakır', 'Van', 'Eskişehir']"
      ]
     },
     "execution_count": 31,
     "metadata": {},
     "output_type": "execute_result"
    }
   ],
   "source": [
    "cities"
   ]
  },
  {
   "cell_type": "code",
   "execution_count": 33,
   "id": "acdce386-3bb4-4ce3-aa69-393bf918ba1d",
   "metadata": {},
   "outputs": [
    {
     "data": {
      "text/plain": [
       "['Adana', 'Antalya', 'Diyarbakır', 'Van']"
      ]
     },
     "execution_count": 33,
     "metadata": {},
     "output_type": "execute_result"
    }
   ],
   "source": [
    "cities[1:5]"
   ]
  },
  {
   "cell_type": "code",
   "execution_count": 40,
   "id": "7f215818-ce75-447f-98da-bb2b4461f524",
   "metadata": {},
   "outputs": [
    {
     "data": {
      "text/plain": [
       "6"
      ]
     },
     "execution_count": 40,
     "metadata": {},
     "output_type": "execute_result"
    }
   ],
   "source": [
    "len(cities)"
   ]
  },
  {
   "cell_type": "code",
   "execution_count": 41,
   "id": "751b4dc0-a49f-4e30-bffe-927e5c113c1f",
   "metadata": {},
   "outputs": [
    {
     "name": "stdout",
     "output_type": "stream",
     "text": [
      "Ankara\n",
      "Mardin\n",
      "Antalya\n",
      "Diyarbakır\n",
      "Van\n",
      "Eskişehir\n"
     ]
    }
   ],
   "source": [
    "for city in cities:\n",
    "    print(city)"
   ]
  },
  {
   "cell_type": "code",
   "execution_count": 42,
   "id": "d533effd-b018-4551-acfb-708ac277e726",
   "metadata": {},
   "outputs": [
    {
     "data": {
      "text/plain": [
       "['Ankara', 'Mardin', 'Antalya', 'Diyarbakır', 'Van', 'Eskişehir']"
      ]
     },
     "execution_count": 42,
     "metadata": {},
     "output_type": "execute_result"
    }
   ],
   "source": [
    "cities2"
   ]
  },
  {
   "cell_type": "code",
   "execution_count": 43,
   "id": "a9bff5b2-2485-4935-94c5-c9df7b30225d",
   "metadata": {},
   "outputs": [
    {
     "data": {
      "text/plain": [
       "True"
      ]
     },
     "execution_count": 43,
     "metadata": {},
     "output_type": "execute_result"
    }
   ],
   "source": [
    "cities == cities2"
   ]
  },
  {
   "cell_type": "code",
   "execution_count": 44,
   "id": "e98d1205-9338-4c1c-a393-bed5d7389967",
   "metadata": {},
   "outputs": [
    {
     "data": {
      "text/plain": [
       "['Ankara', 'Mardin', 'Antalya', 'Diyarbakır', 'Van', 'Eskişehir']"
      ]
     },
     "execution_count": 44,
     "metadata": {},
     "output_type": "execute_result"
    }
   ],
   "source": [
    "cities3 =cities.copy()  # copy() yeni bir referans oluşturma için kullanılır \n",
    "cities3"
   ]
  },
  {
   "cell_type": "code",
   "execution_count": 45,
   "id": "e9715137-44e3-4181-ae3b-a4ee49594c49",
   "metadata": {},
   "outputs": [],
   "source": [
    "cities[0] = 'Balıkesir'"
   ]
  },
  {
   "cell_type": "code",
   "execution_count": 46,
   "id": "3673db54-de90-4d40-af1f-269365994ca5",
   "metadata": {},
   "outputs": [
    {
     "data": {
      "text/plain": [
       "'Ankara'"
      ]
     },
     "execution_count": 46,
     "metadata": {},
     "output_type": "execute_result"
    }
   ],
   "source": [
    "cities3[0]"
   ]
  },
  {
   "cell_type": "code",
   "execution_count": 47,
   "id": "6c423288-031b-4d27-8b52-dcaaa573fe38",
   "metadata": {},
   "outputs": [],
   "source": [
    "cities4 = cities[:] #slicing yaparken kullanılan copy() işlemidir. "
   ]
  },
  {
   "cell_type": "code",
   "execution_count": 48,
   "id": "30f71763-30fe-4f15-a59d-b2e7f968f1e8",
   "metadata": {},
   "outputs": [
    {
     "data": {
      "text/plain": [
       "['Balıkesir', 'Mardin', 'Antalya', 'Diyarbakır', 'Van', 'Eskişehir']"
      ]
     },
     "execution_count": 48,
     "metadata": {},
     "output_type": "execute_result"
    }
   ],
   "source": [
    "cities4"
   ]
  },
  {
   "cell_type": "markdown",
   "id": "c6839de0-b11a-4195-89c9-ee8ecb7b588a",
   "metadata": {},
   "source": [
    "**Tüm verilerin kopyalandığı durumda <<copy()>> kullanılmalıdır.**\n",
    "\n",
    "-> ancak küçük veya local kopyalama için [:] kullanılır."
   ]
  },
  {
   "cell_type": "code",
   "execution_count": 49,
   "id": "85f05199-f690-4295-b8a8-0012006f4b2a",
   "metadata": {},
   "outputs": [],
   "source": [
    "cities5 = cities[2:5]"
   ]
  },
  {
   "cell_type": "code",
   "execution_count": 50,
   "id": "97ffc475-4013-44d7-859b-ad590991d86a",
   "metadata": {},
   "outputs": [
    {
     "data": {
      "text/plain": [
       "['Antalya', 'Diyarbakır', 'Van']"
      ]
     },
     "execution_count": 50,
     "metadata": {},
     "output_type": "execute_result"
    }
   ],
   "source": [
    "cities5"
   ]
  },
  {
   "cell_type": "markdown",
   "id": "25199f99-52b9-4265-88d0-fd05e01ce96d",
   "metadata": {},
   "source": [
    "## Dictionaries\n",
    "\n",
    "key-value pairs"
   ]
  },
  {
   "cell_type": "code",
   "execution_count": 51,
   "id": "83675039-05de-49f1-bcfb-70cff94a7d4e",
   "metadata": {
    "editable": true,
    "slideshow": {
     "slide_type": ""
    },
    "tags": []
   },
   "outputs": [],
   "source": [
    "person1 = {\"name\": \"Elif\", \"surname\": \"DuymazYilmaz\", \"age\":28}\n",
    "person2 = {\"name\": \"Umut\", \"surname\": \"Yilmaz\", \"age\":28}\n",
    "person3 = {\"name\": \"Myra\", \"surname\": \"Duymaz\", \"age\":5}\n",
    "person4 = {\"name\": \"Roka\", \"surname\": \"Duymaz\", \"age\":3}\n",
    "person5 = {\"name\": \"Tesla\", \"surname\": \"Duymaz\", \"age\":3}\n",
    "\n",
    "family = [person1, person2, person3, person4, person5]"
   ]
  },
  {
   "cell_type": "code",
   "execution_count": 52,
   "id": "824b1454-1198-4f67-99de-0c4cc7a124f5",
   "metadata": {},
   "outputs": [],
   "source": [
    "person1[\"age\"] = 29"
   ]
  },
  {
   "cell_type": "code",
   "execution_count": 53,
   "id": "994ee91b-3f00-472f-8fb6-4167f62c6ae4",
   "metadata": {},
   "outputs": [
    {
     "data": {
      "text/plain": [
       "{'name': 'Elif', 'surname': 'DuymazYilmaz', 'age': 29}"
      ]
     },
     "execution_count": 53,
     "metadata": {},
     "output_type": "execute_result"
    }
   ],
   "source": [
    "person1"
   ]
  },
  {
   "cell_type": "code",
   "execution_count": 54,
   "id": "0e29fd03-7020-4676-a29e-db9e311c9ff0",
   "metadata": {},
   "outputs": [
    {
     "data": {
      "text/plain": [
       "{'surname': 'DuymazYilmaz', 'age': 29}"
      ]
     },
     "execution_count": 54,
     "metadata": {},
     "output_type": "execute_result"
    }
   ],
   "source": [
    "del person1[\"name\"]\n",
    "person1"
   ]
  },
  {
   "cell_type": "code",
   "execution_count": 55,
   "id": "83f0bf65-cc31-412e-a591-05fc9242489d",
   "metadata": {},
   "outputs": [
    {
     "data": {
      "text/plain": [
       "'DuymazYilmaz'"
      ]
     },
     "execution_count": 55,
     "metadata": {},
     "output_type": "execute_result"
    }
   ],
   "source": [
    "person1.get(\"surname\")"
   ]
  },
  {
   "cell_type": "code",
   "execution_count": 57,
   "id": "657285d4-f0e1-49a0-86b0-d6b8ebc3a252",
   "metadata": {},
   "outputs": [
    {
     "name": "stdout",
     "output_type": "stream",
     "text": [
      "surname : DuymazYilmaz\n",
      "age : 29\n"
     ]
    }
   ],
   "source": [
    "for key, value in person1.items():\n",
    "    print(key, \":\", value)"
   ]
  },
  {
   "cell_type": "code",
   "execution_count": 67,
   "id": "96c4a882-1d9e-4225-8875-9807744caa2e",
   "metadata": {},
   "outputs": [
    {
     "data": {
      "text/plain": [
       "{'name': 'Umut', 'surname': 'Yilmaz', 'age': 28}"
      ]
     },
     "execution_count": 67,
     "metadata": {},
     "output_type": "execute_result"
    }
   ],
   "source": [
    "person3 = person2 #ikisi de aynı ref --> yani aynı veri -->> biri değişse diğeri de değişir ZATEN tek veri var!\n",
    "person3"
   ]
  },
  {
   "cell_type": "code",
   "execution_count": 68,
   "id": "b510110c-c51c-41d6-945b-c218d20eb1f4",
   "metadata": {},
   "outputs": [
    {
     "data": {
      "text/plain": [
       "{'name': 'Umut', 'surname': 'Yilmaz', 'age': 28}"
      ]
     },
     "execution_count": 68,
     "metadata": {},
     "output_type": "execute_result"
    }
   ],
   "source": [
    "person4 = person2.copy() #iki farklı veri oldu\n",
    "person4"
   ]
  },
  {
   "cell_type": "code",
   "execution_count": 69,
   "id": "a8ac0a03-1724-4cc2-b068-824b72640963",
   "metadata": {},
   "outputs": [
    {
     "data": {
      "text/plain": [
       "{'name': 'Umut', 'surname': 'Yilmaz', 'age': 28}"
      ]
     },
     "execution_count": 69,
     "metadata": {},
     "output_type": "execute_result"
    }
   ],
   "source": [
    "person5 = dict(person2) # copy() işlemidir --> iki farklı veri oldu\n",
    "person5"
   ]
  },
  {
   "cell_type": "code",
   "execution_count": 72,
   "id": "7fda5452-cfb3-43c7-aac4-eff59d91a52e",
   "metadata": {},
   "outputs": [
    {
     "data": {
      "text/plain": [
       "{'name': 'Umut', 'surname': 'Yilmaz', 'age': 28}"
      ]
     },
     "execution_count": 72,
     "metadata": {},
     "output_type": "execute_result"
    }
   ],
   "source": [
    "person6 = {**person2} # bu da copy() işlemidir ---> iki farklı veridir.\n",
    "person6"
   ]
  },
  {
   "cell_type": "markdown",
   "id": "4fdc290d-1aac-44d6-9154-1f887cc9de07",
   "metadata": {},
   "source": [
    "## Tuples "
   ]
  },
  {
   "cell_type": "code",
   "execution_count": null,
   "id": "27ac91f3-14b7-485b-8038-b307daaf49d5",
   "metadata": {},
   "outputs": [],
   "source": []
  },
  {
   "cell_type": "code",
   "execution_count": null,
   "id": "a411be38-f396-4151-8b10-50d68cf98357",
   "metadata": {},
   "outputs": [],
   "source": []
  },
  {
   "cell_type": "code",
   "execution_count": 73,
   "id": "082a3ab7-ce87-446c-aa30-7a916b7d0fcb",
   "metadata": {},
   "outputs": [
    {
     "data": {
      "text/plain": [
       "('Engin', 'Derin', 'Salih')"
      ]
     },
     "execution_count": 73,
     "metadata": {},
     "output_type": "execute_result"
    }
   ],
   "source": [
    "students = ('Engin', 'Derin', 'Salih') #immutable  + Ref type veridir.\n",
    "students"
   ]
  },
  {
   "cell_type": "code",
   "execution_count": 74,
   "id": "d34be87b-12c3-4ed5-8992-38124aac1bad",
   "metadata": {},
   "outputs": [
    {
     "data": {
      "text/plain": [
       "('Derin',)"
      ]
     },
     "execution_count": 74,
     "metadata": {},
     "output_type": "execute_result"
    }
   ],
   "source": [
    "students[1:2]"
   ]
  },
  {
   "cell_type": "code",
   "execution_count": 76,
   "id": "94620294-af98-4517-a5f1-5902e900d40e",
   "metadata": {
    "collapsed": true,
    "editable": true,
    "jupyter": {
     "outputs_hidden": true
    },
    "scrolled": true,
    "slideshow": {
     "slide_type": ""
    },
    "tags": []
   },
   "outputs": [
    {
     "ename": "TypeError",
     "evalue": "'tuple' object does not support item assignment",
     "output_type": "error",
     "traceback": [
      "\u001b[0;31m---------------------------------------------------------------------------\u001b[0m",
      "\u001b[0;31mTypeError\u001b[0m                                 Traceback (most recent call last)",
      "Cell \u001b[0;32mIn[76], line 1\u001b[0m\n\u001b[0;32m----> 1\u001b[0m \u001b[43mstudents\u001b[49m\u001b[43m[\u001b[49m\u001b[38;5;241;43m0\u001b[39;49m\u001b[43m]\u001b[49m \u001b[38;5;241m=\u001b[39m \u001b[38;5;124m\"\u001b[39m\u001b[38;5;124mSevgi\u001b[39m\u001b[38;5;124m\"\u001b[39m\n",
      "\u001b[0;31mTypeError\u001b[0m: 'tuple' object does not support item assignment"
     ]
    }
   ],
   "source": [
    "students[0] = \"Sevgi\" #nonchange"
   ]
  },
  {
   "cell_type": "code",
   "execution_count": null,
   "id": "31dad569-efb5-427a-a802-843943835839",
   "metadata": {},
   "outputs": [],
   "source": [
    "## Question 1. W1: Bir öğrenci yönetim sistemi için aşağıdaki veri yapısı verilmiştir:\n",
    "\n",
    "students = [ {\"name\": \"Ali\", \"grades\": {\"math\": 85, \"physics\": 90, \"history\": 78}}, \n",
    "            {\"name\": \"Ayşe\", \"grades\": {\"math\": 92, \"physics\": 88, \"history\": 95}},\n",
    "            {\"name\": \"Mehmet\", \"grades\": {\"math\": 75, \"physics\": 80, \"history\": 85}},\n",
    "            {\"name\": \"Zeynep\", \"grades\": {\"math\": 90, \"physics\": 85, \"history\": 88}}, ] \n",
    "\n",
    "'''\n",
    "Yapılması gerekenler: \n",
    "1. En yüksek matematik notuna sahip öğrencinin adını bulun. \n",
    "2. Tüm derslerin ortalama notlarını içeren bir sözlük oluşturun. \n",
    "3. Ortalama notu 85'in üzerinde olan öğrencileri bir liste halinde döndürün. \n",
    "Bunu en verimli şekilde Python kodu ile nasıl yaparsınız?\n",
    "\n",
    "engindemirog@gmail.com -> mailine.\n",
    "'''"
   ]
  },
  {
   "cell_type": "code",
   "execution_count": null,
   "id": "f49381ea-68af-460d-920b-4544be8fd56c",
   "metadata": {},
   "outputs": [],
   "source": []
  },
  {
   "cell_type": "code",
   "execution_count": null,
   "id": "02d7f485-3b06-4eaf-a442-f195d98e4847",
   "metadata": {},
   "outputs": [],
   "source": []
  },
  {
   "cell_type": "markdown",
   "id": "614fa21e-6b32-4c3c-b003-e9bfe2341aef",
   "metadata": {},
   "source": [
    "Type'lara göre değişimler : "
   ]
  },
  {
   "cell_type": "code",
   "execution_count": 8,
   "id": "11921cf1-8d76-403e-b6b0-04879013219e",
   "metadata": {},
   "outputs": [
    {
     "data": {
      "text/plain": [
       "['Ankara', 'Kocaeli', 'Antalya']"
      ]
     },
     "execution_count": 8,
     "metadata": {},
     "output_type": "execute_result"
    }
   ],
   "source": [
    "cities[1] = 'Kocaeli'\n",
    "cities"
   ]
  },
  {
   "cell_type": "code",
   "execution_count": 10,
   "id": "73eab4d4-6b36-415f-9b55-37d0ee8f0270",
   "metadata": {},
   "outputs": [
    {
     "data": {
      "text/plain": [
       "['Ankara', 'Kocaeli', 'Antalya']"
      ]
     },
     "execution_count": 10,
     "metadata": {},
     "output_type": "execute_result"
    }
   ],
   "source": [
    "tempCity = cities[1]\n",
    "tempCity = 'Uşak'\n",
    "cities"
   ]
  },
  {
   "cell_type": "code",
   "execution_count": 39,
   "id": "891d9af2-42a4-4ebd-89aa-640f6da6b89d",
   "metadata": {},
   "outputs": [
    {
     "data": {
      "text/plain": [
       "'Mardin'"
      ]
     },
     "execution_count": 39,
     "metadata": {},
     "output_type": "execute_result"
    }
   ],
   "source": [
    "cities2 = cities\n",
    "cities2[1] = 'Mardin'\n",
    "cities[1]"
   ]
  },
  {
   "cell_type": "code",
   "execution_count": 18,
   "id": "1910f1b9-0505-41e4-b507-965c9132f5d1",
   "metadata": {},
   "outputs": [
    {
     "data": {
      "text/plain": [
       "20"
      ]
     },
     "execution_count": 18,
     "metadata": {},
     "output_type": "execute_result"
    }
   ],
   "source": [
    "n1 =10\n",
    "n2 =20\n",
    "n1 = n2\n",
    "n2 = 30\n",
    "n1"
   ]
  },
  {
   "cell_type": "code",
   "execution_count": 13,
   "id": "2067457a-e051-469d-b6e7-459dae8cd756",
   "metadata": {},
   "outputs": [
    {
     "data": {
      "text/plain": [
       "'Mardin'"
      ]
     },
     "execution_count": 13,
     "metadata": {},
     "output_type": "execute_result"
    }
   ],
   "source": []
  },
  {
   "cell_type": "code",
   "execution_count": 15,
   "id": "6adde279-b25a-4749-9310-32c60b7ad7be",
   "metadata": {},
   "outputs": [
    {
     "data": {
      "text/plain": [
       "['Ankara', 'Mardin', 'Antalya']"
      ]
     },
     "execution_count": 15,
     "metadata": {},
     "output_type": "execute_result"
    }
   ],
   "source": [
    "cities2"
   ]
  },
  {
   "cell_type": "code",
   "execution_count": null,
   "id": "4930b4fc-336d-443c-95c9-daf98835b213",
   "metadata": {},
   "outputs": [],
   "source": []
  }
 ],
 "metadata": {
  "kernelspec": {
   "display_name": "myPythonKernel.v1",
   "language": "python",
   "name": "mypythonkernel.v1"
  },
  "language_info": {
   "codemirror_mode": {
    "name": "ipython",
    "version": 3
   },
   "file_extension": ".py",
   "mimetype": "text/x-python",
   "name": "python",
   "nbconvert_exporter": "python",
   "pygments_lexer": "ipython3",
   "version": "3.12.8"
  }
 },
 "nbformat": 4,
 "nbformat_minor": 5
}
