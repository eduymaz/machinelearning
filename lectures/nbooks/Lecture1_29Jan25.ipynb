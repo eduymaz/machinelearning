{
 "cells": [
  {
   "cell_type": "markdown",
   "id": "e595a34f-af84-4d64-afe2-6e0727c1d1d6",
   "metadata": {},
   "source": [
    "**Q1.** Kullanıcıdan bir cümle alın ve bu cümlede geçen her bir kelimenin kaç kez tekrarlandığını bulun. Ardından, kelimeleri frekanslarına göre azalan sırada sıralayarak ekrana yazdırın."
   ]
  },
  {
   "cell_type": "code",
   "execution_count": 2,
   "id": "89016d93-9f3a-43bd-95ad-a9e1aad48d13",
   "metadata": {},
   "outputs": [
    {
     "name": "stdout",
     "output_type": "stream",
     "text": [
      "Lütfen bir cümle girin:  selam herkese\n"
     ]
    }
   ],
   "source": [
    "import string\n",
    "from collections import Counter\n",
    "\n",
    "sentence = input(\"Lütfen bir cümle girin: \")\n",
    "\n",
    "words = [\n",
    "    word.strip(string.punctuation).lower()\n",
    "    for word in sentence.split()\n",
    "]\n"
   ]
  },
  {
   "cell_type": "code",
   "execution_count": 5,
   "id": "f947a44e-f5ac-4dda-824f-1619a34e847b",
   "metadata": {},
   "outputs": [
    {
     "name": "stdout",
     "output_type": "stream",
     "text": [
      "Lütfen bir cümle girin:  bu bir test, bu test bir testtir. Sadece bir test.\n"
     ]
    },
    {
     "name": "stdout",
     "output_type": "stream",
     "text": [
      "\n",
      "Kelimeler ve Tekrar Sayıları:\n",
      "[count]bir: 3\n",
      "[count]test: 3\n",
      "[count]bu: 2\n",
      "[count]sadece: 1\n",
      "[count]testtir: 1\n"
     ]
    }
   ],
   "source": [
    "import string\n",
    "from collections import Counter\n",
    "\n",
    "sentence = input(\"Lütfen bir cümle girin: \")\n",
    "words = [\n",
    "    word.strip(string.punctuation).lower()\n",
    "    for word in sentence.split()\n",
    "]\n",
    "\n",
    "word_counts = Counter(words)\n",
    " \n",
    "sorted_words = sorted(\n",
    "    word_counts.items(),\n",
    "    key=lambda x: (-x[1], x[0])\n",
    ")\n",
    "print(\"\\nKelimeler ve Tekrar Sayıları:\")\n",
    "for word, count in sorted_words:\n",
    "    print(f\"[count]{word}: {count}\")"
   ]
  },
  {
   "cell_type": "code",
   "execution_count": null,
   "id": "e18aadd9-dbb4-4b34-bc48-d3a84c760b4c",
   "metadata": {},
   "outputs": [
    {
     "name": "stdout",
     "output_type": "stream",
     "text": [
      "Frekns bu : 2 \n",
      "Frekns bir : 2 \n",
      "Frekns test : 3 \n"
     ]
    }
   ],
   "source": [
    "def count(elements):\n",
    "\tif elements in dictionary:\n",
    "\t\tdictionary[elements] += 1\n",
    "\telse:\n",
    "\t\tdictionary.update({elements: 1})\n",
    "\n",
    "Sentence = \"bu bir test test bu bir test\"\n",
    "dictionary = {}\n",
    "lst = Sentence.split()\n",
    "for elements in lst:\n",
    "\tcount(elements)\n",
    "\n",
    "for allKeys in dictionary:\n",
    "\tprint (\"Frekns\", allKeys, end = \" \")\n",
    "\tprint (\":\", end = \" \")\n",
    "\tprint (dictionary[allKeys], end = \" \")\n",
    "\tprint()"
   ]
  },
  {
   "cell_type": "code",
   "execution_count": 6,
   "id": "abd212ad-ccd2-4931-9730-bb6a6ef1a9cc",
   "metadata": {},
   "outputs": [
    {
     "name": "stdout",
     "output_type": "stream",
     "text": [
      "Bir cümle girin:  bu bir test, bu sadece bir test\n"
     ]
    },
    {
     "name": "stdout",
     "output_type": "stream",
     "text": [
      "bu: 2\n",
      "bir: 2\n",
      "test,: 1\n",
      "sadece: 1\n",
      "test: 1\n"
     ]
    }
   ],
   "source": [
    "from collections import Counter\n",
    "\n",
    "def kelime_frekansi(cumle):\n",
    "    kelimeler = cumle.lower().split()  # Cümleyi küçük harfe çevir ve kelimelere ayır\n",
    "    frekans = Counter(kelimeler)  # Kelime frekanslarını hesapla\n",
    "    \n",
    "    # Frekansa göre azalan sırada sırala\n",
    "    sirali_frekans = sorted(frekans.items(), key=lambda x: x[1], reverse=True)\n",
    "    \n",
    "    for kelime, adet in sirali_frekans:\n",
    "        print(f\"{kelime}: {adet}\")\n",
    "\n",
    "# Kullanıcıdan cümle al\n",
    "cumle = input(\"Bir cümle girin: \")\n",
    "kelime_frekansi(cumle)"
   ]
  },
  {
   "cell_type": "code",
   "execution_count": 8,
   "id": "08c9b15d-6224-486e-903c-3d2457f2d1aa",
   "metadata": {
    "collapsed": true,
    "jupyter": {
     "outputs_hidden": true
    },
    "scrolled": true
   },
   "outputs": [
    {
     "ename": "KeyboardInterrupt",
     "evalue": "Interrupted by user",
     "output_type": "error",
     "traceback": [
      "\u001b[0;31m---------------------------------------------------------------------------\u001b[0m",
      "\u001b[0;31mKeyboardInterrupt\u001b[0m                         Traceback (most recent call last)",
      "Cell \u001b[0;32mIn[8], line 14\u001b[0m\n\u001b[1;32m     11\u001b[0m     \u001b[38;5;28;01mfor\u001b[39;00m kelime, adet \u001b[38;5;129;01min\u001b[39;00m sirali_frekans:\n\u001b[1;32m     12\u001b[0m         \u001b[38;5;28mprint\u001b[39m(\u001b[38;5;124mf\u001b[39m\u001b[38;5;124m\"\u001b[39m\u001b[38;5;132;01m{\u001b[39;00mkelime\u001b[38;5;132;01m}\u001b[39;00m\u001b[38;5;124m: \u001b[39m\u001b[38;5;132;01m{\u001b[39;00madet\u001b[38;5;132;01m}\u001b[39;00m\u001b[38;5;124m\"\u001b[39m)\n\u001b[0;32m---> 14\u001b[0m cumle \u001b[38;5;241m=\u001b[39m \u001b[38;5;28;43minput\u001b[39;49m\u001b[43m(\u001b[49m\u001b[38;5;124;43m\"\u001b[39;49m\u001b[38;5;124;43mBir cümle girin: \u001b[39;49m\u001b[38;5;124;43m\"\u001b[39;49m\u001b[43m)\u001b[49m\n\u001b[1;32m     15\u001b[0m kelime_frekansi(cumle)\n",
      "File \u001b[0;32m~/VScode/myPython.v1/lib/python3.12/site-packages/ipykernel/kernelbase.py:1282\u001b[0m, in \u001b[0;36mKernel.raw_input\u001b[0;34m(self, prompt)\u001b[0m\n\u001b[1;32m   1280\u001b[0m     msg \u001b[38;5;241m=\u001b[39m \u001b[38;5;124m\"\u001b[39m\u001b[38;5;124mraw_input was called, but this frontend does not support input requests.\u001b[39m\u001b[38;5;124m\"\u001b[39m\n\u001b[1;32m   1281\u001b[0m     \u001b[38;5;28;01mraise\u001b[39;00m StdinNotImplementedError(msg)\n\u001b[0;32m-> 1282\u001b[0m \u001b[38;5;28;01mreturn\u001b[39;00m \u001b[38;5;28;43mself\u001b[39;49m\u001b[38;5;241;43m.\u001b[39;49m\u001b[43m_input_request\u001b[49m\u001b[43m(\u001b[49m\n\u001b[1;32m   1283\u001b[0m \u001b[43m    \u001b[49m\u001b[38;5;28;43mstr\u001b[39;49m\u001b[43m(\u001b[49m\u001b[43mprompt\u001b[49m\u001b[43m)\u001b[49m\u001b[43m,\u001b[49m\n\u001b[1;32m   1284\u001b[0m \u001b[43m    \u001b[49m\u001b[38;5;28;43mself\u001b[39;49m\u001b[38;5;241;43m.\u001b[39;49m\u001b[43m_parent_ident\u001b[49m\u001b[43m[\u001b[49m\u001b[38;5;124;43m\"\u001b[39;49m\u001b[38;5;124;43mshell\u001b[39;49m\u001b[38;5;124;43m\"\u001b[39;49m\u001b[43m]\u001b[49m\u001b[43m,\u001b[49m\n\u001b[1;32m   1285\u001b[0m \u001b[43m    \u001b[49m\u001b[38;5;28;43mself\u001b[39;49m\u001b[38;5;241;43m.\u001b[39;49m\u001b[43mget_parent\u001b[49m\u001b[43m(\u001b[49m\u001b[38;5;124;43m\"\u001b[39;49m\u001b[38;5;124;43mshell\u001b[39;49m\u001b[38;5;124;43m\"\u001b[39;49m\u001b[43m)\u001b[49m\u001b[43m,\u001b[49m\n\u001b[1;32m   1286\u001b[0m \u001b[43m    \u001b[49m\u001b[43mpassword\u001b[49m\u001b[38;5;241;43m=\u001b[39;49m\u001b[38;5;28;43;01mFalse\u001b[39;49;00m\u001b[43m,\u001b[49m\n\u001b[1;32m   1287\u001b[0m \u001b[43m\u001b[49m\u001b[43m)\u001b[49m\n",
      "File \u001b[0;32m~/VScode/myPython.v1/lib/python3.12/site-packages/ipykernel/kernelbase.py:1325\u001b[0m, in \u001b[0;36mKernel._input_request\u001b[0;34m(self, prompt, ident, parent, password)\u001b[0m\n\u001b[1;32m   1322\u001b[0m \u001b[38;5;28;01mexcept\u001b[39;00m \u001b[38;5;167;01mKeyboardInterrupt\u001b[39;00m:\n\u001b[1;32m   1323\u001b[0m     \u001b[38;5;66;03m# re-raise KeyboardInterrupt, to truncate traceback\u001b[39;00m\n\u001b[1;32m   1324\u001b[0m     msg \u001b[38;5;241m=\u001b[39m \u001b[38;5;124m\"\u001b[39m\u001b[38;5;124mInterrupted by user\u001b[39m\u001b[38;5;124m\"\u001b[39m\n\u001b[0;32m-> 1325\u001b[0m     \u001b[38;5;28;01mraise\u001b[39;00m \u001b[38;5;167;01mKeyboardInterrupt\u001b[39;00m(msg) \u001b[38;5;28;01mfrom\u001b[39;00m\u001b[38;5;250m \u001b[39m\u001b[38;5;28;01mNone\u001b[39;00m\n\u001b[1;32m   1326\u001b[0m \u001b[38;5;28;01mexcept\u001b[39;00m \u001b[38;5;167;01mException\u001b[39;00m:\n\u001b[1;32m   1327\u001b[0m     \u001b[38;5;28mself\u001b[39m\u001b[38;5;241m.\u001b[39mlog\u001b[38;5;241m.\u001b[39mwarning(\u001b[38;5;124m\"\u001b[39m\u001b[38;5;124mInvalid Message:\u001b[39m\u001b[38;5;124m\"\u001b[39m, exc_info\u001b[38;5;241m=\u001b[39m\u001b[38;5;28;01mTrue\u001b[39;00m)\n",
      "\u001b[0;31mKeyboardInterrupt\u001b[0m: Interrupted by user"
     ]
    }
   ],
   "source": [
    "from collections import Counter\n",
    "import re\n",
    "\n",
    "def kelime_frekansi(cumle):\n",
    "    cumle = re.sub(r'[^\\w\\s]', '', cumle)\n",
    "    kelimeler = cumle.lower().split()  \n",
    "    frekans = Counter(kelimeler)\n",
    "    \n",
    "    sirali_frekans = sorted(frekans.items(), key=lambda x: x[1], reverse=True)\n",
    "    \n",
    "    for kelime, adet in sirali_frekans:\n",
    "        print(f\"{kelime}: {adet}\")\n",
    "\n",
    "cumle = input(\"Bir cümle girin: \")\n",
    "kelime_frekansi(cumle)"
   ]
  },
  {
   "cell_type": "markdown",
   "id": "2a3918f9-2f92-420c-94b7-76bd451380c6",
   "metadata": {},
   "source": [
    "**Q2.** Kullanıcıdan bir kelime listesi alın ve içlerinde en uzun anagram çiftini bulun. (Anagram, harfleri aynı ancak sıralaması farklı kelimelerdir.) Örnek: Girdi: [\"kedi\", \"dike\", \"elma\", \"alem\", \"test\", \"stet\", \"masa\"] Çıktı: [\"elma\", \"alem\"] (Çünkü her ikisi de aynı harflerden oluşuyor.)"
   ]
  },
  {
   "cell_type": "code",
   "execution_count": 6,
   "id": "898f8bdb-7104-4a3a-a555-d947452e262a",
   "metadata": {},
   "outputs": [
    {
     "name": "stdout",
     "output_type": "stream",
     "text": [
      "Boşluk ile ayrıdığınız kelimeleri giriniz:  elmak melak yalan nayla \n"
     ]
    },
    {
     "name": "stdout",
     "output_type": "stream",
     "text": [
      "En uzun anagram ->> \n",
      "elmak, melak\n"
     ]
    }
   ],
   "source": [
    "def find_anagrams(words):\n",
    "    anagram_dict = {} \n",
    "    for word in words:\n",
    "        sorted_word = ''.join(sorted(word))\n",
    "        if sorted_word in anagram_dict:\n",
    "            anagram_dict[sorted_word].append(word)\n",
    "        else:\n",
    "            anagram_dict[sorted_word] = [word]\n",
    "\n",
    "    longest_anagram = []\n",
    "    for group in anagram_dict.values():\n",
    "        if len(group) > 1 and len(group[0]) > len(longest_anagram[0]) if longest_anagram else True:\n",
    "            longest_anagram = group\n",
    "    \n",
    "    return longest_anagram\n",
    "\n",
    "words = input(\"Boşluk ile ayrıdığınız kelimeleri giriniz: \").split()\n",
    "anagram = find_anagrams(words)\n",
    "\n",
    "if anagram:\n",
    "    print(\"En uzun anagram ->> \")\n",
    "    print(\", \".join(anagram))\n",
    "else:\n",
    "    print(\"Anagram bulunamadı. :( \")"
   ]
  },
  {
   "cell_type": "code",
   "execution_count": 7,
   "id": "1bb397ac-4d94-47df-b637-dd3bab9b63f8",
   "metadata": {},
   "outputs": [
    {
     "name": "stdout",
     "output_type": "stream",
     "text": [
      "Boşluk ile ayrıdığınız kelimeleri giriniz:  elmak kemal yanal yalan\n"
     ]
    },
    {
     "name": "stdout",
     "output_type": "stream",
     "text": [
      "En uzun anagram ->> \n",
      "elmak, kemal\n"
     ]
    }
   ],
   "source": [
    "words = input(\"Boşluk ile ayrıdığınız kelimeleri giriniz: \").split()\n",
    "anagram = find_anagrams(words)\n",
    "\n",
    "if anagram:\n",
    "    print(\"En uzun anagram ->> \")\n",
    "    print(\", \".join(anagram))\n",
    "else:\n",
    "    print(\"Anagram bulunamadı. :( \")"
   ]
  },
  {
   "cell_type": "code",
   "execution_count": 8,
   "id": "09a41b9f-9743-4805-ad5c-7964d5c18e30",
   "metadata": {},
   "outputs": [
    {
     "name": "stdout",
     "output_type": "stream",
     "text": [
      "Boşluk ile ayrıdığınız kelimeleri giriniz:  elmak yanal kemal yanal\n"
     ]
    },
    {
     "name": "stdout",
     "output_type": "stream",
     "text": [
      "En uzun anagram ->> \n",
      "elmak, kemal\n"
     ]
    }
   ],
   "source": [
    "words = input(\"Boşluk ile ayrıdığınız kelimeleri giriniz: \").split()\n",
    "anagram = find_anagrams(words)\n",
    "\n",
    "if anagram:\n",
    "    print(\"En uzun anagram ->> \")\n",
    "    print(\", \".join(anagram))\n",
    "else:\n",
    "    print(\"Anagram bulunamadı. :( \")"
   ]
  },
  {
   "cell_type": "code",
   "execution_count": 11,
   "id": "0a96ee53-2087-4900-9ad2-eac4fb391c55",
   "metadata": {},
   "outputs": [
    {
     "name": "stdout",
     "output_type": "stream",
     "text": [
      "Boşluk ile ayrıdığınız kelimeleri giriniz:  elmak almak yanal yalan\n"
     ]
    },
    {
     "name": "stdout",
     "output_type": "stream",
     "text": [
      "En uzun anagram ->> \n",
      "yanal, yalan\n"
     ]
    }
   ],
   "source": [
    "words = input(\"Boşluk ile ayrıdığınız kelimeleri giriniz: \").split()\n",
    "anagram = find_anagrams(words)\n",
    "\n",
    "if anagram:\n",
    "    print(\"En uzun anagram ->> \")\n",
    "    print(\", \".join(anagram))\n",
    "else:\n",
    "    print(\"Anagram bulunamadı. :( \")"
   ]
  },
  {
   "cell_type": "code",
   "execution_count": null,
   "id": "4c08e796-7994-4baf-8a62-81eb94b1e342",
   "metadata": {},
   "outputs": [],
   "source": []
  }
 ],
 "metadata": {
  "kernelspec": {
   "display_name": "myPythonKernel.v1",
   "language": "python",
   "name": "mypythonkernel.v1"
  },
  "language_info": {
   "codemirror_mode": {
    "name": "ipython",
    "version": 3
   },
   "file_extension": ".py",
   "mimetype": "text/x-python",
   "name": "python",
   "nbconvert_exporter": "python",
   "pygments_lexer": "ipython3",
   "version": "3.12.8"
  }
 },
 "nbformat": 4,
 "nbformat_minor": 5
}
