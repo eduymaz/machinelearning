{
 "cells": [
  {
   "cell_type": "markdown",
   "id": "2cf11af9-0104-41d7-96ec-02d01e427ecc",
   "metadata": {},
   "source": [
    "# MAKİNE ÖĞRENMESİ'nde ilerleyen konulara giriş ..."
   ]
  },
  {
   "cell_type": "markdown",
   "id": "690b9ce3-38c0-451c-973f-fd6f23bc4226",
   "metadata": {},
   "source": [
    "* Get data \n",
    "* Do Logical Operations and decide based on the business req.\n",
    "* Save and return data"
   ]
  },
  {
   "cell_type": "markdown",
   "id": "efcf32a9-5287-4480-81ac-ddd676979d90",
   "metadata": {},
   "source": [
    "### Machine Learning Categories\n",
    "\n",
    "- Supervised Learning (Denetimli)\n",
    "\n",
    "- Unsupervised Learning (Denetimsiz)\n",
    "\n",
    "- Reinforcement Learning (Pekiştirmeli)"
   ]
  },
  {
   "cell_type": "markdown",
   "id": "a4cdbc1b-c42c-4677-9b71-ecbfd09882b9",
   "metadata": {},
   "source": [
    "1. Supervised\n",
    "\n",
    "    - Label(Etiket)\n",
    "  \n",
    "2. Unsupervised L.\n",
    "\n",
    "3. Reinforcement Learning"
   ]
  },
  {
   "cell_type": "markdown",
   "id": "2b25991b-773a-4035-b6f0-30e923747ec9",
   "metadata": {},
   "source": [
    "### Cases \n",
    "\n",
    "1. Netflix'in izlediğin filmlere göre sana yeni öneriler sunması  ->> HEPSİ\n",
    "2. Banka kredisi onay tahmini ->> HEPSİ\n",
    "3. Amazon'un alışveriş öneriler sunması ->> HEPSİ"
   ]
  },
  {
   "cell_type": "markdown",
   "id": "1b821afd-cae5-4fc1-b97f-aa15329bf5f2",
   "metadata": {},
   "source": [
    "- Netflix’in izlediğin filmlere göre sana yeni öneriler sunması\n",
    "- Banka kredisi onay tahmini\n",
    "- Amazon’un alışveriş önerileri sunması\n",
    "- Bir hava durumu tahmin sisteminin geçmiş verileri kullanarak yarınki hava durumunu tahmin etmesi\n",
    "- Bir güvenlik kamerasının anormal hareketleri tespit etmesi ve güvenlik görevlisine uyarı vermesi\n",
    "- Siri’nin söylediklerini anlayarak doğru cevabı vermesi\n",
    "- Bir robotun engellerden kaçmayı öğrenerek en hızlı şekilde hedefe ulaşması\n",
    "- Bir okulun öğrencilerin sınav sonuçlarına göre hangi bölümü seçebileceğini tahmin etmesi\n",
    "- Google’ın e-postalarda spam olup olmadığını otomatik olarak belirlemesi\n",
    "- YouTube’un izleme alışkanlıklarına göre sana yeni videolar önermesi\n",
    "- Bir tıp sisteminin hastaların röntgen filmlerinden kanserli hücreleri tespit etmesi\n",
    "- Bir şirketin müşteri verilerini analiz ederek belirli gruplara (segmentlere) ayırması\n",
    "- Bir arabanın trafik kurallarına uyarak ve çevresini tanıyarak otonom sürüş yapması\n",
    "- Şehirlerde toplu taşıma kullanımına göre yeni otobüs güzergahlarının belirlenmesi\n",
    "- Bir AI sisteminin piyasa verilerini analiz ederek en iyi yatırım stratejisini belirlemesi\n",
    "- Bir müzik uygulamasının dinleme geçmişine göre yeni şarkılar önermesi\n",
    "- Bir fast food restoranının sipariş verilerine bakarak en popüler yemekleri belirlemesi\n",
    "- Google Fotoğraflar’ın benzer yüzleri gruplayarak aynı kişiye ait albümler oluşturması\n",
    "- Bir fabrikadaki robotların üretim hatasını minimuma indirmek için kendi stratejilerini geliştirmesi\n",
    "- Bir fitness uygulamasının kullanıcıların hareketlerini takip ederek onlara en iyi egzersiz planını önermesi"
   ]
  },
  {
   "cell_type": "markdown",
   "id": "7a5e1a17-c3c3-4010-9567-0e3ad670f1fd",
   "metadata": {},
   "source": []
  },
  {
   "cell_type": "markdown",
   "id": "38087b17-262d-435e-b917-43ec969305b9",
   "metadata": {},
   "source": [
    "**Supervised Learning (Denetimli Öğrenme)**\n",
    "\n",
    "✅ Model, geçmiş verilerdeki giriş-çıkış ilişkisini öğrenerek tahmin yapar.\n",
    "\n",
    "- Banka kredisi onay tahmini → Kişinin finans geçmişi (giriş) ile kredi onayı (çıkış) ilişkilidir.\n",
    "- Bir hava durumu tahmin sisteminin geçmiş verileri kullanarak yarınki hava durumunu tahmin etmesi → Geçmiş sıcaklık, nem, rüzgar verileri kullanılarak tahmin yapılır.\n",
    "- Siri’nin söylediklerini anlayarak doğru cevabı vermesi → Sesin yazıya çevrilmesi ve doğru yanıtın seçilmesi için etiketli veri kullanılır.\n",
    "- Bir okulun öğrencilerin sınav sonuçlarına göre hangi bölümü seçebileceğini tahmin etmesi → Notlar ve geçmiş seçimler incelenerek tahmin yapılır.\n",
    "- Google’ın e-postalarda spam olup olmadığını otomatik olarak belirlemesi → Geçmişte spam olarak etiketlenmiş e-postalardan öğrenilir.\n",
    "- Bir tıp sisteminin hastaların röntgen filmlerinden kanserli hücreleri tespit etmesi → Önceden etiketlenmiş röntgen görüntüleriyle eğitilir.\n",
    "- Bir fast food restoranının sipariş verilerine bakarak en popüler yemekleri belirlemesi → Satış verileri üzerinden tahmin yapılır.\n",
    "- Bir fitness uygulamasının kullanıcıların hareketlerini takip ederek onlara en iyi egzersiz planını önermesi → Kullanıcının geçmiş egzersiz verileriyle öneriler sunulur."
   ]
  },
  {
   "cell_type": "markdown",
   "id": "1bcacc36-2c33-4f8c-815e-f6bfabb352bb",
   "metadata": {},
   "source": [
    "**Unsupervised Learning (Denetimsiz Öğrenme)**\n",
    "\n",
    "✅ Model, verideki örüntüleri veya grupları keşfeder.\n",
    "\n",
    "- Netflix’in izlediğin filmlere göre sana yeni öneriler sunması → İzleme alışkanlıklarına göre kullanıcılar kümelenerek öneriler sunulur.\n",
    "- Amazon’un alışveriş önerileri sunması → Kullanıcılar alışveriş geçmişlerine göre segmentlere ayrılır.\n",
    "- YouTube’un izleme alışkanlıklarına göre sana yeni videolar önermesi → Kullanıcılar belirli izleme alışkanlıklarına göre gruplandırılır.\n",
    "- Bir şirketin müşteri verilerini analiz ederek belirli gruplara (segmentlere) ayırması → Müşteriler, harcama alışkanlıklarına göre kümelenir.\n",
    "- Şehirlerde toplu taşıma kullanımına göre yeni otobüs güzergahlarının belirlenmesi → Yolcu hareketleri analiz edilerek optimizasyon yapılır.\n",
    "- Google Fotoğraflar’ın benzer yüzleri gruplayarak aynı kişiye ait albümler oluşturması → Fotoğraflardaki yüzleri analiz ederek otomatik gruplandırma yapar."
   ]
  },
  {
   "cell_type": "markdown",
   "id": "29ed0b99-b78a-420d-8a50-d43c2b842749",
   "metadata": {},
   "source": [
    "**Reinforcement Learning (Pekiştirmeli Öğrenme)**\n",
    "\n",
    "✅ Model, çevreyle etkileşim kurarak deneme-yanılma yoluyla en iyi stratejiyi öğrenir.\n",
    "\n",
    "- Bir robotun engellerden kaçmayı öğrenerek en hızlı şekilde hedefe ulaşması → Robot, aldığı ödüller ve cezalar doğrultusunda en iyi hareketleri öğrenir.\n",
    "- Bir arabanın trafik kurallarına uyarak ve çevresini tanıyarak otonom sürüş yapması → Araç, çevreden gelen verileri işleyerek güvenli sürüşü öğrenir.\n",
    "- Bir AI sisteminin piyasa verilerini analiz ederek en iyi yatırım stratejisini belirlemesi → Model, yatırım kararlarını ödül-ceza mekanizması ile optimize eder.\n",
    "- Bir fabrikadaki robotların üretim hatasını minimuma indirmek için kendi stratejilerini geliştirmesi → Robotlar, hataları azaltan kararları ödüllendirerek daha iyi üretim yapmayı öğrenir."
   ]
  },
  {
   "cell_type": "code",
   "execution_count": null,
   "id": "d5996a41-1b38-4537-91c5-080cabf95344",
   "metadata": {},
   "outputs": [],
   "source": []
  }
 ],
 "metadata": {
  "kernelspec": {
   "display_name": "myPythonKernel.v1",
   "language": "python",
   "name": "mypythonkernel.v1"
  },
  "language_info": {
   "codemirror_mode": {
    "name": "ipython",
    "version": 3
   },
   "file_extension": ".py",
   "mimetype": "text/x-python",
   "name": "python",
   "nbconvert_exporter": "python",
   "pygments_lexer": "ipython3",
   "version": "3.12.8"
  }
 },
 "nbformat": 4,
 "nbformat_minor": 5
}
