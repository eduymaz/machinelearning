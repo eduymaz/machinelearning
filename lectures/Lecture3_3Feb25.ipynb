{
 "cells": [
  {
   "cell_type": "markdown",
   "id": "3e340e4b-2de6-4f62-9cbb-9e0cea7ad08b",
   "metadata": {},
   "source": [
    "#### Lecture 3 - Functions & Class"
   ]
  },
  {
   "cell_type": "code",
   "execution_count": 1,
   "id": "748b3e30-78d1-45f9-a06c-6e439f9e9a23",
   "metadata": {},
   "outputs": [],
   "source": [
    "# Functions \n",
    "\n",
    "def sum(number1, number2):\n",
    "    return number1 + number2\n",
    "\n",
    "'''\n",
    "print() sadece ekran çıktısı verir.\n",
    "return ise fonksiyondan bir değer döndürür ve fonksiyonun bitmesini sağlar.\n",
    "'''"
   ]
  },
  {
   "cell_type": "code",
   "execution_count": 3,
   "id": "15dc64b9-d837-480f-8c61-460561e34927",
   "metadata": {},
   "outputs": [
    {
     "name": "stdout",
     "output_type": "stream",
     "text": [
      "30\n"
     ]
    }
   ],
   "source": [
    "total = sum(10,20)\n",
    "print(total)"
   ]
  },
  {
   "cell_type": "code",
   "execution_count": 4,
   "id": "c906f920-ac7c-4f7a-9443-2153ed960877",
   "metadata": {},
   "outputs": [],
   "source": [
    "# object oriented\n",
    "# Class "
   ]
  },
  {
   "cell_type": "code",
   "execution_count": null,
   "id": "bb101a59-b098-4f03-b347-0fa9b934b4cb",
   "metadata": {},
   "outputs": [],
   "source": [
    "'''\n",
    "class Product:\n",
    "    def __init__(self, a, b, c):  \n",
    "        self.name = a\n",
    "        self.price = b \n",
    "        self.quantity = c\n",
    "'''"
   ]
  },
  {
   "cell_type": "code",
   "execution_count": 10,
   "id": "b9d54cee-5cca-4f34-950c-23fb054e93c7",
   "metadata": {},
   "outputs": [],
   "source": [
    "class Product:\n",
    "    def __init__(self, name, price, quantity):  \n",
    "        self.name = name\n",
    "        self.price = price \n",
    "        self.quantity = quantity\n",
    "\n",
    "# __init__ :  reserved keywords ---->>> constructor\n",
    "# self : construct ettikten sonra tanımlama için kullanırız "
   ]
  },
  {
   "cell_type": "code",
   "execution_count": 11,
   "id": "43ddfa81-b979-495c-b3f8-add89975a173",
   "metadata": {},
   "outputs": [],
   "source": [
    "product1 = Product('Dyson V15 Submarine', 29000, 20)\n",
    "product2 = Product('Dyson Gen5Detect', 31000, 20)\n",
    "product3 = Product('Dyson V15 Kablosuz', 28000, 20)"
   ]
  },
  {
   "cell_type": "code",
   "execution_count": 12,
   "id": "30a01263-54f1-461e-9f55-6f079fe402ea",
   "metadata": {},
   "outputs": [
    {
     "name": "stdout",
     "output_type": "stream",
     "text": [
      "Dyson V15 Submarine\n",
      "Dyson Gen5Detect\n",
      "Dyson V15 Kablosuz\n"
     ]
    }
   ],
   "source": [
    "print(product1.name)\n",
    "print(product2.name)\n",
    "print(product3.name)"
   ]
  },
  {
   "cell_type": "code",
   "execution_count": null,
   "id": "22ca473f-7cb8-42e6-8ff2-9b4818cec12d",
   "metadata": {},
   "outputs": [],
   "source": [
    "class Post:\n",
    "    def __init__(self, )"
   ]
  },
  {
   "cell_type": "code",
   "execution_count": null,
   "id": "560c7fd5-016f-4a9e-bbc6-09c85c67669f",
   "metadata": {},
   "outputs": [],
   "source": [
    "class Comment:\n",
    "    def __init__(self, postId, Id, name, email, body):\n",
    "        "
   ]
  },
  {
   "cell_type": "code",
   "execution_count": 20,
   "id": "3891e330-fccd-4a3c-87de-29641eaaf7ce",
   "metadata": {},
   "outputs": [],
   "source": [
    "class geo:\n",
    "    def __init__(self, lat, lng):\n",
    "        self.lat = lat\n",
    "        self.lng = lng\n",
    "\n",
    "class address:\n",
    "    def __init__(self, street, suite, city, zipcode, geo):\n",
    "        self.street = street\n",
    "        self.suite = suite\n",
    "        self.city = city\n",
    "        self.zipcode = zipcode\n",
    "        self.geo = geo  \n",
    "\n",
    "class User:\n",
    "    def __init__(self, Id, name, username, email, address, phone, website, company):\n",
    "        self.Id = Id\n",
    "        self.name = name\n",
    "        self.username = username\n",
    "        self.email = email\n",
    "        self.address = address  \n",
    "        self.phone = phone\n",
    "        self.website = website\n",
    "        self.company = company\n",
    "\n",
    "geo1 = geo(11111, 22222)\n",
    "address1 = address(\"Cumhuriyet Cad\", \"Hilton\", \"İstanbul\", 34863, geo1)\n",
    "user1 = User(1, \"Zoe\", \"ZoE\", \"zoe@gmail.com\", address1, 9050000000, \"www.zoenaber.com\", \"ZoeBomb\")"
   ]
  },
  {
   "cell_type": "code",
   "execution_count": null,
   "id": "4c5eb6b8-c126-441b-bf1e-5cb2b4bd3155",
   "metadata": {},
   "outputs": [],
   "source": []
  },
  {
   "cell_type": "markdown",
   "id": "5a6f6479-bacc-47d0-b690-80da0504e404",
   "metadata": {
    "editable": true,
    "slideshow": {
     "slide_type": ""
    },
    "tags": []
   },
   "source": [
    "**Q2. Bir e-ticaret sistemi için modelleme yapınız.**\n",
    "\n",
    "- Product, Category, Order, OrderDetail, OrderItem, Card, User\n",
    "\n",
    "--> OrderItem → Product, quantity\n",
    "\n",
    "--> Category --> id, name\n",
    "\n",
    "```\n",
    "#Bir eticaret sistemi için modelleme yapınız, alanları uydur\n",
    "#Product,Category,Order,OrderDetail,OrderItem,Cart,User\n",
    "#OrderItem -> Product,quanity\n",
    "#Category->id,name\n",
    "#Product has one category\n",
    "#category has many products\n",
    "#OrderDetail has one order\n",
    "#order has many orderDetails\n",
    "#Cart has many orderItems\n",
    "#cart has one user\n",
    "```\n"
   ]
  },
  {
   "cell_type": "code",
   "execution_count": 22,
   "id": "9d7516b0-f049-43c4-a076-eda622e941ae",
   "metadata": {
    "editable": true,
    "slideshow": {
     "slide_type": ""
    },
    "tags": []
   },
   "outputs": [
    {
     "name": "stdout",
     "output_type": "stream",
     "text": [
      "Çiçekli\n"
     ]
    }
   ],
   "source": [
    "#Product, Category, Order, OrderDetail, OrderItem, Cart, User\n",
    "\n",
    "class Category:\n",
    "    def __init__(self, categoryId, name):\n",
    "        self.categoryId = categoryId\n",
    "        self.name = name\n",
    "\n",
    "class Product:\n",
    "    def __init__(self, productId, name, description, image, category, price):\n",
    "        self.productId = productId\n",
    "        self.name = name\n",
    "        self.description = description\n",
    "        self.image = image\n",
    "        self.category = category\n",
    "        self.price = price\n",
    "\n",
    "class OrderItem:\n",
    "    def __init__(self, product, quantity):\n",
    "        self.product = product\n",
    "        self.quantity = quantity\n",
    "\n",
    "class OrderDetail:\n",
    "    def __init__(self, orderDetailId, product, unitPrice):\n",
    "        self.orderDetailId = orderDetailId\n",
    "        self.product = product\n",
    "        self.unitPrice = unitPrice\n",
    "\n",
    "class Order:\n",
    "    def __init__(self, user, orderTime, orderDetail, orderId):\n",
    "        self.orderId = orderId\n",
    "        self.user = user\n",
    "        self.orderTime = orderTime\n",
    "        self.orderDetail = orderDetail\n",
    "        \n",
    "class Cart:\n",
    "    def __init__(self, cartId, orderItem):\n",
    "        self.cartId = cartId\n",
    "        self.orderItem = orderItem\n",
    "\n",
    "class User:\n",
    "    def __init__(self, userId, name, cartId, email, address):\n",
    "        self.userId = userId\n",
    "        self.name = name\n",
    "        self.cartId = cartId\n",
    "        self.email = email\n",
    "        self.address = address\n",
    "\n",
    "category1 = Category(1, \"Moda\")\n",
    "category2 = Category(2, \"Elektronik\")\n",
    "\n",
    "product1 = Product(1, \"Elbise\", \"Çiçekli\", \"img_muthis_cicekli.png\", category1, 1.500)\n",
    "product2 = Product(2, \"Telefon\", \"Ayfon\", \"img_iphone16_promax.png\", category2, 96.000)\n",
    "\n",
    "orderDetail1 = OrderDetail(1, product1, product1.price)\n",
    "orderItem1 = OrderItem(product1, 3)\n",
    "\n",
    "cart1 = Cart(58350634, orderItem1)\n",
    "user1 = User(1, \"Justin Biber\", cart1, \"biberli@gmail.com\", \"California\")\n",
    "\n",
    "order1 = Order(user1.userId, \"03-02-2025\", orderDetail1, 1)\n",
    "\n",
    "print(user1.cartId.orderItem.product.description)\n"
   ]
  },
  {
   "cell_type": "code",
   "execution_count": null,
   "id": "dde4f809-4e5e-4b5a-98d9-4c4dd356d51f",
   "metadata": {},
   "outputs": [],
   "source": []
  }
 ],
 "metadata": {
  "kernelspec": {
   "display_name": "myPythonKernel.v1",
   "language": "python",
   "name": "mypythonkernel.v1"
  },
  "language_info": {
   "codemirror_mode": {
    "name": "ipython",
    "version": 3
   },
   "file_extension": ".py",
   "mimetype": "text/x-python",
   "name": "python",
   "nbconvert_exporter": "python",
   "pygments_lexer": "ipython3",
   "version": "3.12.8"
  }
 },
 "nbformat": 4,
 "nbformat_minor": 5
}
