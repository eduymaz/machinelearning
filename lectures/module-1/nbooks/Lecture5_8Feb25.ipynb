{
 "cells": [
  {
   "cell_type": "markdown",
   "id": "0a391f4c-af4a-4ff3-9d26-fb318c56c60e",
   "metadata": {},
   "source": [
    "Homework \n",
    "\n",
    "Http Keywordlerini ve statülerini kodlarını araştırınız.\n",
    "\n",
    "Get, Post, Put...\n",
    "\n",
    "10X, 20X, 30X, 40X, ...\n",
    "\n",
    "Apimizde Post, Put, Delete, Patch, endpointleri deneyiniz."
   ]
  },
  {
   "cell_type": "code",
   "execution_count": null,
   "id": "868e3fda-70f3-46ac-864d-019b8c405224",
   "metadata": {},
   "outputs": [],
   "source": []
  }
 ],
 "metadata": {
  "kernelspec": {
   "display_name": "myPythonKernel.v1",
   "language": "python",
   "name": "mypythonkernel.v1"
  },
  "language_info": {
   "codemirror_mode": {
    "name": "ipython",
    "version": 3
   },
   "file_extension": ".py",
   "mimetype": "text/x-python",
   "name": "python",
   "nbconvert_exporter": "python",
   "pygments_lexer": "ipython3",
   "version": "3.12.8"
  }
 },
 "nbformat": 4,
 "nbformat_minor": 5
}
