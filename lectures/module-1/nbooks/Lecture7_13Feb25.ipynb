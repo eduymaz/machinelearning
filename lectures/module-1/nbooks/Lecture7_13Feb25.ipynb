{
 "cells": [
  {
   "cell_type": "markdown",
   "id": "2d5a4b08-2486-4bba-909b-c026fb8aef58",
   "metadata": {},
   "source": [
    "# Normalizasyon"
   ]
  },
  {
   "cell_type": "markdown",
   "id": "4a50ae45-1b92-4b46-9e98-23c2cc4245c8",
   "metadata": {},
   "source": [
    "Q1. Normalizasyon seviyelerini, yapay zeka araçlarını kullanarak öğreniniz."
   ]
  },
  {
   "cell_type": "code",
   "execution_count": null,
   "id": "199fcd2f-3d04-48f8-b517-9e912390d139",
   "metadata": {},
   "outputs": [],
   "source": []
  },
  {
   "cell_type": "markdown",
   "id": "fae46e62-04d2-4e4d-8f43-15543f36fc21",
   "metadata": {},
   "source": [
    "# Query Data"
   ]
  },
  {
   "cell_type": "markdown",
   "id": "bdff113d-c235-434a-b02a-d8bb8529efd2",
   "metadata": {},
   "source": [
    "# Denormalizasyon "
   ]
  },
  {
   "cell_type": "code",
   "execution_count": null,
   "id": "097f9c62-b833-44f4-b255-3c23cc0ac47c",
   "metadata": {},
   "outputs": [],
   "source": []
  }
 ],
 "metadata": {
  "kernelspec": {
   "display_name": "myPythonKernel.v1",
   "language": "python",
   "name": "mypythonkernel.v1"
  },
  "language_info": {
   "codemirror_mode": {
    "name": "ipython",
    "version": 3
   },
   "file_extension": ".py",
   "mimetype": "text/x-python",
   "name": "python",
   "nbconvert_exporter": "python",
   "pygments_lexer": "ipython3",
   "version": "3.12.8"
  }
 },
 "nbformat": 4,
 "nbformat_minor": 5
}
