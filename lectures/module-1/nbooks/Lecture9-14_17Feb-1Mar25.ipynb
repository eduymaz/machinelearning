{
 "cells": [
  {
   "cell_type": "markdown",
   "id": "b5c58373-3456-4940-ab04-d024d785078c",
   "metadata": {},
   "source": [
    "## Sadece soru çözümü yapıldı :\n",
    "#### 17. Feb başlanıldı (Section I) + \n",
    "#### 19. Feb devam edildi (Section II).\n",
    "#### 22. Feb iptal edildi.  --> 11 \n",
    "#### 24. Feb iptal edildi.  --> 12\n",
    "#### 26. Feb sunum yapıldı (Section III) --> 13\n",
    "#### 1 March sunum yapıldı (Section III) --> 14"
   ]
  },
  {
   "cell_type": "markdown",
   "id": "a396ecbe-6254-47f7-a5c9-8e98900a3eed",
   "metadata": {},
   "source": [
    "1️⃣ CTE (Common Table Expressions)\n",
    "- WITH ifadesi kullanımı\n",
    "- Recursive CTE mantığı\n",
    "- Geçici sorgular oluşturma\n",
    "\n",
    "2️⃣ PIVOT ve UNPIVOT\n",
    "- PIVOT operatörü ile veriyi satırlardan sütunlara çevirmek\n",
    "- UNPIVOT operatörü ile veriyi sütunlardan tekrar satırlara çevirmek\n",
    "\n",
    "3️⃣ Gruplama ve Agregat Fonksiyonlar\n",
    "- GROUP BY kullanımı\n",
    "- HAVING ile gruplar üzerinde filtreleme\n",
    "- SUM(), COUNT(), MAX(), MIN(), AVG() gibi fonksiyonlar\n",
    "\n",
    "4️⃣ JOIN İşlemleri\n",
    "- INNER JOIN, LEFT JOIN, RIGHT JOIN, FULL JOIN kullanımı\n",
    "- Birden fazla tabloyu ilişkilendirerek sorgu yazma\n",
    "\n",
    "5️⃣ Alt Sorgular (Subqueries)\n",
    "- SELECT içinde SELECT kullanımı\n",
    "- Korelasyonlu alt sorgular\n",
    "\n",
    "6️⃣ Sıralama ve Sınırlama\n",
    "- ORDER BY kullanımı\n",
    "- LIMIT / TOP / FETCH FIRST ile en yüksek veya en düşük değerleri bulma\n",
    "\n",
    "7️⃣ Pencereli Fonksiyonlar (Window Functions - OVER, PARTITION BY)\n",
    "- RANK(), DENSE_RANK(), ROW_NUMBER() gibi fonksiyonlar\n",
    "- PARTITION BY kullanarak gruplar içinde sıralama yapma\n",
    "\n",
    "8️⃣ Tarih Fonksiyonları ve Sıralı Verilerle Çalışma\n",
    "- DATEPART(), DATEDIFF(), LEAD(), LAG() gibi fonksiyonlarla tarih bazlı analizler yapma"
   ]
  },
  {
   "cell_type": "markdown",
   "id": "31c6d201-1979-4fc8-aaa4-e2faa52b17d5",
   "metadata": {},
   "source": [
    "Sorular: \n",
    "\n",
    "## **Level 1** \n",
    "\n",
    "1️⃣ En Çok Satış Yapan Çalışanı Bulun Her çalışanın (Employees) sattığı toplam ürün adedini hesaplayarak, en çok satış yapan ilk 3 çalışanı listeleyen bir sorgu yazınız. İpucu: Orders, OrderDetails ve Employees tablolarını kullanarak GROUP BY ve ORDER BY yapısını oluşturun. TOP 3 veya LIMIT ile ilk 3 çalışanı seçin.\n",
    "\n",
    "2️⃣ Aylık Satış Trendlerini Bulun Siparişlerin (Orders) hangi yıl ve ayda ne kadar toplam satış geliri oluşturduğunu hesaplayan ve yıllara göre sıralayan bir sorgu yazınız. İpucu: Orders ve OrderDetails tablolarını kullanın. Tarih bilgisini yıl ve aya göre gruplayın, toplam satış gelirini hesaplayarak sıralayın.\n",
    "\n",
    "3️⃣ En Karlı Ürün Kategorisini Bulun Her ürün kategorisinin (Categories), o kategoriye ait ürünlerden (Products) yapılan satışlar sonucunda elde ettiği toplam geliri hesaplayan bir sorgu yazınız. İpucu: Categories, Products, OrderDetails ve Orders tablolarını birleştirin. Kategori bazında gelir hesaplaması yaparak en yüksekten en düşüğe sıralayın.\n",
    "\n",
    "4️⃣ Belli Bir Tarih Aralığında En Çok Sipariş Veren Müşterileri Bulun 1997 yılında en fazla sipariş veren ilk 5 müşteriyi listeleyen bir sorgu yazınız. İpucu: Orders ve Customers tablolarını birleştirin. WHERE ile 1997 yılını filtreleyin, müşteri bazında sipariş sayılarını hesaplayarak sıralayın ve en fazla sipariş veren 5 müşteriyi seçin.\n",
    "\n",
    "5️⃣ Ülkelere Göre Toplam Sipariş ve Ortalama Sipariş Tutarını Bulun Müşterilerin bulunduğu ülkeye göre toplam sipariş sayısını ve ortalama sipariş tutarını hesaplayan bir sorgu yazınız. Sonucu toplam sipariş sayısına göre büyükten küçüğe sıralayın. İpucu: Customers, Orders ve OrderDetails tablolarını birleştirin. Ülke bazında GROUP BY kullanarak toplam sipariş sayısını ve ortalama sipariş tutarını hesaplayın.\n"
   ]
  },
  {
   "cell_type": "markdown",
   "id": "d2facba3-756f-464a-a343-88b9165437a9",
   "metadata": {},
   "source": [
    "## **Level 2** - Mid Çarşambaya kadar\n",
    "\n",
    "AR_GE -> CTE (Common Table Expressions) ve PIVOT\n",
    "\n",
    "1️⃣ Her Çalışanın En Çok Satış Yaptığı Ürünü Bulun Her çalışanın (Employees) sattığı ürünler içinde en çok sattığı (toplam adet olarak) ürünü bulun ve sonucu çalışana göre sıralayın.\n",
    "\n",
    "2️⃣ Bir Ülkenin Müşterilerinin Satın Aldığı En Pahalı Ürünü Bulun Belli bir ülkenin (örneğin \"Germany\") müşterilerinin verdiği siparişlerde satın aldığı en pahalı ürünü (UnitPrice olarak) bulun ve hangi müşterinin aldığını listeleyin.\n",
    "\n",
    "3️⃣ Her Kategoride (Categories) En Çok Satış Geliri Elde Eden Ürünü Bulun Her kategori için toplam satış geliri en yüksek olan ürünü bulun ve listeleyin.\n",
    "\n",
    "4️⃣ Arka Arkaya En Fazla Sipariş Veren Müşteriyi Bulun Sipariş tarihleri (OrderDate) baz alınarak arka arkaya en fazla sipariş veren müşteriyi bulun. (Örneğin, bir müşteri ardışık günlerde kaç sipariş vermiş?)\n",
    "\n",
    "5️⃣ Çalışanların Sipariş Sayısına Göre Kendi Departmanındaki Ortalamanın Üzerinde Olup Olmadığını Belirleyin Her çalışanın aldığı sipariş sayısını hesaplayın ve kendi departmanındaki çalışanların ortalama sipariş sayısıyla karşılaştırın. Ortalama sipariş sayısının üstünde veya altında olduğunu belirten bir sütun ekleyin."
   ]
  },
  {
   "cell_type": "markdown",
   "id": "fba4073b-d46e-4bde-92d8-c288bea52c86",
   "metadata": {},
   "source": [
    "## **Level 3** - Expert Pazartesiye kadar\n",
    "\n",
    "AR_GE -> CTE (Common Table Expressions), Window Functions, Recursive Queries, Pivot, Subqueries ve Advanced Aggregation\n",
    "\n",
    "1️⃣ Her Müşteri İçin En Son 3 Siparişi ve Toplam Harcamalarını Listeleyin Her müşterinin en son 3 siparişini (OrderDate’e göre en güncel 3 sipariş) ve bu siparişlerde harcadığı toplam tutarı gösteren bir sorgu yazın.\n",
    "\n",
    "Sonuç müşteri bazında sıralanmalı ve her müşterinin sadece en son 3 siparişi görünmelidir. \n",
    "\n",
    "2️⃣ Aynı Ürünü 3 veya Daha Fazla Kez Satın Alan Müşterileri Bulun Bir müşteri eğer aynı ürünü (ProductID) 3 veya daha fazla sipariş verdiyse, bu müşteriyi ve ürünleri listeleyen bir sorgu yazın.\n",
    "\n",
    "Aynı ürün bir siparişte değil, farklı siparişlerde tekrar tekrar alınmış olabilir. \n",
    "\n",
    "3️⃣ Bir Çalışanın 30 Gün İçinde Verdiği Siparişlerin Bir Önceki 30 Güne Göre Artış/ Azalışını Hesaplayın Her çalışanın (Employees), sipariş sayısının son 30 gün içinde bir önceki 30 güne kıyasla nasıl değiştiğini hesaplayan bir sorgu yazın.\n",
    "\n",
    "Çalışan bazında sipariş sayısı artış/azalış yüzdesi hesaplanmalı. \n",
    "\n",
    "4️⃣ Her Müşterinin Siparişlerinde Kullanılan İndirim Oranının Zaman İçinde Nasıl Değiştiğini Bulun Müşterilerin siparişlerinde uygulanan indirim oranlarının zaman içindeki trendini hesaplayan bir sorgu yazın.\n",
    "\n",
    "Müşteri bazında hareketli ortalama indirim oranlarını hesaplayın ve sipariş tarihine göre artış/azalış eğilimi belirleyin."
   ]
  },
  {
   "cell_type": "code",
   "execution_count": null,
   "id": "e9901708-38e0-43b8-a86b-2147b8c74986",
   "metadata": {},
   "outputs": [],
   "source": []
  }
 ],
 "metadata": {
  "kernelspec": {
   "display_name": "myPythonKernel.v1",
   "language": "python",
   "name": "mypythonkernel.v1"
  },
  "language_info": {
   "codemirror_mode": {
    "name": "ipython",
    "version": 3
   },
   "file_extension": ".py",
   "mimetype": "text/x-python",
   "name": "python",
   "nbconvert_exporter": "python",
   "pygments_lexer": "ipython3",
   "version": "3.12.8"
  }
 },
 "nbformat": 4,
 "nbformat_minor": 5
}
