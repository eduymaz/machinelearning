{
 "cells": [
  {
   "cell_type": "code",
   "execution_count": 1,
   "id": "2c5a3cf7-69a1-42d4-99a1-295c8e148ddb",
   "metadata": {},
   "outputs": [],
   "source": [
    "import requests"
   ]
  },
  {
   "cell_type": "markdown",
   "id": "6eb8ba31-616b-4da2-ba89-1a456f719d41",
   "metadata": {},
   "source": [
    "### HTTP Request Types:"
   ]
  },
  {
   "cell_type": "markdown",
   "id": "4f37f10b-327f-4e62-a242-f34b6e2a3d35",
   "metadata": {},
   "source": [
    "**GET** -> Request for data -> Get product | Get sales \n",
    "\n",
    "**POST** -> Send a new data for insert \n",
    "\n",
    "**PUT** -> Send update data for existing data [Data1 Data2] --> [UpdateData1 Data2] \n",
    "\n",
    "**PATCH** -> Send partially update data for existing data\n",
    "\n",
    "**DELETE** -> Delete data\n"
   ]
  },
  {
   "cell_type": "markdown",
   "id": "b699312d-6225-48de-99f1-7fadcc92cef4",
   "metadata": {},
   "source": [
    "### HTTP STATUS CODES:"
   ]
  },
  {
   "cell_type": "markdown",
   "id": "763c6feb-ecaf-4c42-af35-58a588a03c49",
   "metadata": {},
   "source": [
    "**20X** -> _Success_ ex: 200 request made succesfully\n",
    "\n",
    "**30X** -> _Request redirected._ \n",
    "\n",
    "**40X** -> _Problem occured:_ Problem by the user request info. ex 403 Bad Request means the user send wrong data\n",
    "\n",
    "**50X** -> _Problem occured:_ Problem caused by the server."
   ]
  },
  {
   "cell_type": "code",
   "execution_count": null,
   "id": "47b82bd6-2406-4a0c-840c-d2ce3f504859",
   "metadata": {},
   "outputs": [],
   "source": [
    "import requests"
   ]
  },
  {
   "cell_type": "code",
   "execution_count": 3,
   "id": "8c1b68a6-28dd-4e2c-a564-d9e0c31dcd26",
   "metadata": {
    "collapsed": true,
    "jupyter": {
     "outputs_hidden": true
    },
    "scrolled": true
   },
   "outputs": [
    {
     "name": "stdout",
     "output_type": "stream",
     "text": [
      "Chef Anton's Gumbo Mix\n",
      "Grandma's Boysenberry Spread\n",
      "Uncle Bob's Organic Dried Pears\n",
      "Northwoods Cranberry Sauce\n",
      "Mishi Kobe Niku\n",
      "Ikura\n",
      "Chang\n",
      "Aniseed Syrup\n",
      "Queso Cabrales 2\n",
      "Queso Manchego La Pastora\n",
      "Konbu\n",
      "Tofu\n",
      "Genen Shouyu\n",
      "Chai\n",
      "Pavlova\n",
      "Alice Mutton\n",
      "Carnarvon Tigers\n",
      "Teatime Chocolate Biscuits\n",
      "Sir Rodney's Marmalade\n",
      "Guaraná Fantástica\n",
      "NuNuCa Nuß-Nougat-Creme\n",
      "Gumbär Gummibärchen\n",
      "Schoggi Schokolade\n",
      "Rössle Sauerkraut\n",
      "Thüringer Rostbratwurst\n",
      "Nord-Ost Matjeshering\n",
      "Gorgonzola Telino\n",
      "Mascarpone Fabioli\n",
      "Geitost\n",
      "Sasquatch Ale\n",
      "Gustaf's Knäckebröd\n",
      "Sir Rodney's Scones\n",
      "Steeleye Stout\n",
      "Tunnbröd\n",
      "Gravad lax\n",
      "Boston Crab Meat\n",
      "Côte de Blaye\n",
      "Inlagd Sill\n",
      "Jack's New England Clam Chowder\n",
      "Ipoh Coffee\n",
      "Singaporean Hokkien Fried Mee\n",
      "Spegesild\n",
      "Zaanse koeken\n",
      "Chocolade\n",
      "Maxilaku\n",
      "Valkoinen suklaa\n",
      "Manjimup Dried Apples\n",
      "Filo Mix\n",
      "Perth Pasties\n",
      "Tourtière\n",
      "Pâté chinois\n",
      "Gnocchi di nonna Alice\n",
      "Ravioli Angelo\n",
      "Gula Malacca\n",
      "Chartreuse verte\n",
      "Raclette Courdavault\n",
      "Camembert Pierrot\n",
      "Rogede sild\n",
      "Escargots de Bourgogne\n",
      "Sirop d'érable\n",
      "Tarte au sucre\n",
      "Vegie-spread\n",
      "Wimmers gute Semmelknödel\n",
      "Louisiana Fiery Hot Pepper Sauce\n",
      "Louisiana Hot Spiced Okra\n",
      "Laughing Lumberjack Lager\n",
      "Scottish Longbreads\n",
      "Outback Lager\n",
      "Flotemysost\n",
      "Röd Kaviar\n",
      "Longlife Tofu\n",
      "Rhönbräu Klosterbier\n",
      "Lakkalikööri\n",
      "Gudbrandsdalsost\n",
      "Mozzarella di Giovanni\n",
      "Original Frankfurter grüne Soße\n",
      "None\n",
      "None\n"
     ]
    }
   ],
   "source": [
    "baseUrl = \"http://localhost:3000/products\"\n",
    "\n",
    "def getProducts():\n",
    "    response = requests.get(baseUrl)\n",
    "    return response.json()\n",
    "\n",
    "\n",
    "for product in getProducts():\n",
    "    print(product.get(\"name\"))"
   ]
  },
  {
   "cell_type": "code",
   "execution_count": 4,
   "id": "4ee18549-a247-444b-a95b-ea3a17797d39",
   "metadata": {
    "collapsed": true,
    "jupyter": {
     "outputs_hidden": true
    },
    "scrolled": true
   },
   "outputs": [
    {
     "name": "stdout",
     "output_type": "stream",
     "text": [
      "Chef Anton's Gumbo Mix / 21.35\n",
      "Grandma's Boysenberry Spread / 25\n",
      "Uncle Bob's Organic Dried Pears / 30\n",
      "Northwoods Cranberry Sauce / 40\n",
      "Mishi Kobe Niku / 97\n",
      "Ikura / 31\n",
      "Chang / 19\n",
      "Aniseed Syrup / 10\n",
      "Queso Cabrales 2 / 21\n",
      "Queso Manchego La Pastora / 38\n",
      "Konbu / 6\n",
      "Tofu / 23.25\n",
      "Genen Shouyu / 15.5\n",
      "Chai / 18\n",
      "Pavlova / 17.45\n",
      "Alice Mutton / 39\n",
      "Carnarvon Tigers / 62.5\n",
      "Teatime Chocolate Biscuits / 9.2\n",
      "Sir Rodney's Marmalade / 81\n",
      "Guaraná Fantástica / 4.5\n",
      "NuNuCa Nuß-Nougat-Creme / 14\n",
      "Gumbär Gummibärchen / 31.23\n",
      "Schoggi Schokolade / 43.9\n",
      "Rössle Sauerkraut / 45.6\n",
      "Thüringer Rostbratwurst / 123.79\n",
      "Nord-Ost Matjeshering / 25.89\n",
      "Gorgonzola Telino / 12.5\n",
      "Mascarpone Fabioli / 32\n",
      "Geitost / 2.5\n",
      "Sasquatch Ale / 14\n",
      "Gustaf's Knäckebröd / 21\n",
      "Sir Rodney's Scones / 10\n",
      "Steeleye Stout / 18\n",
      "Tunnbröd / 9\n",
      "Gravad lax / 26\n",
      "Boston Crab Meat / 18.4\n",
      "Côte de Blaye / 263.5\n",
      "Inlagd Sill / 19\n",
      "Jack's New England Clam Chowder / 9.65\n",
      "Ipoh Coffee / 46\n",
      "Singaporean Hokkien Fried Mee / 14\n",
      "Spegesild / 12\n",
      "Zaanse koeken / 9.5\n",
      "Chocolade / 12.75\n",
      "Maxilaku / 20\n",
      "Valkoinen suklaa / 16.25\n",
      "Manjimup Dried Apples / 53\n",
      "Filo Mix / 7\n",
      "Perth Pasties / 32.8\n",
      "Tourtière / 7.45\n",
      "Pâté chinois / 24\n",
      "Gnocchi di nonna Alice / 38\n",
      "Ravioli Angelo / 19.5\n",
      "Gula Malacca / 19.45\n",
      "Chartreuse verte / 18\n",
      "Raclette Courdavault / 55\n",
      "Camembert Pierrot / 34\n",
      "Rogede sild / 9.5\n",
      "Escargots de Bourgogne / 13.25\n",
      "Sirop d'érable / 28.5\n",
      "Tarte au sucre / 49.3\n",
      "Vegie-spread / 43.9\n",
      "Wimmers gute Semmelknödel / 33.25\n",
      "Louisiana Fiery Hot Pepper Sauce / 21.05\n",
      "Louisiana Hot Spiced Okra / 17\n",
      "Laughing Lumberjack Lager / 14\n",
      "Scottish Longbreads / 12.5\n",
      "Outback Lager / 15\n",
      "Flotemysost / 21.5\n",
      "Röd Kaviar / 15\n",
      "Longlife Tofu / 10\n",
      "Rhönbräu Klosterbier / 7.75\n",
      "Lakkalikööri / 18\n",
      "Gudbrandsdalsost / 36\n",
      "Mozzarella di Giovanni / 34.8\n",
      "Original Frankfurter grüne Soße / 13\n",
      "None / None\n",
      "None / None\n"
     ]
    }
   ],
   "source": [
    "for product in getProducts():\n",
    "    print(product.get(\"name\"), \"/\", product.get(\"unitPrice\"))"
   ]
  },
  {
   "cell_type": "code",
   "execution_count": 18,
   "id": "9e12c990-3999-41fb-bc1c-d35ec97c8652",
   "metadata": {},
   "outputs": [],
   "source": [
    "def getProductsByCategory(categoryId):\n",
    "    response = requests.get(baseUrl+\"/?categoryId=\"+str(categoryId))\n",
    "    return response"
   ]
  },
  {
   "cell_type": "code",
   "execution_count": 19,
   "id": "f43f0058-6814-4f00-831b-38043c670e45",
   "metadata": {
    "collapsed": true,
    "jupyter": {
     "outputs_hidden": true
    },
    "scrolled": true
   },
   "outputs": [
    {
     "ename": "AttributeError",
     "evalue": "'bytes' object has no attribute 'get'",
     "output_type": "error",
     "traceback": [
      "\u001b[0;31m---------------------------------------------------------------------------\u001b[0m",
      "\u001b[0;31mAttributeError\u001b[0m                            Traceback (most recent call last)",
      "Cell \u001b[0;32mIn[19], line 2\u001b[0m\n\u001b[1;32m      1\u001b[0m \u001b[38;5;28;01mfor\u001b[39;00m product \u001b[38;5;129;01min\u001b[39;00m getProductsByCategory(\u001b[38;5;241m5\u001b[39m):\n\u001b[0;32m----> 2\u001b[0m     \u001b[38;5;28mprint\u001b[39m(\u001b[43mproduct\u001b[49m\u001b[38;5;241;43m.\u001b[39;49m\u001b[43mget\u001b[49m(\u001b[38;5;124m\"\u001b[39m\u001b[38;5;124mname\u001b[39m\u001b[38;5;124m\"\u001b[39m), \u001b[38;5;124m\"\u001b[39m\u001b[38;5;124m/\u001b[39m\u001b[38;5;124m\"\u001b[39m, product\u001b[38;5;241m.\u001b[39mget(\u001b[38;5;124m\"\u001b[39m\u001b[38;5;124munitPrice\u001b[39m\u001b[38;5;124m\"\u001b[39m))\n",
      "\u001b[0;31mAttributeError\u001b[0m: 'bytes' object has no attribute 'get'"
     ]
    }
   ],
   "source": [
    "for product in getProductsByCategory(5):\n",
    "    print(product.get(\"name\"), \"/\", product.get(\"unitPrice\"))"
   ]
  },
  {
   "cell_type": "code",
   "execution_count": 15,
   "id": "805b0c3d-d61a-44bf-96ca-46416445fb52",
   "metadata": {},
   "outputs": [],
   "source": [
    "def createProduct(product):\n",
    "    response = requests.post(baseUrl, json=product)\n",
    "    return response.json()"
   ]
  },
  {
   "cell_type": "code",
   "execution_count": 16,
   "id": "8cd5e673-462d-4760-ab5c-2ce0fbc12f97",
   "metadata": {},
   "outputs": [],
   "source": [
    "productToCreate = {\"suppliedId\":2, \"categoryId\":6, \"unitPrice\":969, \"name\":\"Kalem\"}"
   ]
  },
  {
   "cell_type": "code",
   "execution_count": 17,
   "id": "606bdcc8-0065-4f09-a490-a2639f59319f",
   "metadata": {},
   "outputs": [
    {
     "data": {
      "text/plain": [
       "{'id': '3f6d',\n",
       " 'suppliedId': 2,\n",
       " 'categoryId': 6,\n",
       " 'unitPrice': 969,\n",
       " 'name': 'Kalem'}"
      ]
     },
     "execution_count": 17,
     "metadata": {},
     "output_type": "execute_result"
    }
   ],
   "source": [
    "createProduct(productToCreate)"
   ]
  },
  {
   "cell_type": "code",
   "execution_count": 20,
   "id": "7700b2c6-9332-446d-81d5-b4ce9bd183f6",
   "metadata": {},
   "outputs": [],
   "source": [
    "def updateProduct(id, product):\n",
    "    response = requests.put(baseUrl+ \"/\"+str(id), json=product)\n",
    "    return response.json()"
   ]
  },
  {
   "cell_type": "code",
   "execution_count": 21,
   "id": "04cb89d6-ff67-4e01-bf43-fd450412769f",
   "metadata": {},
   "outputs": [
    {
     "data": {
      "text/plain": [
       "{'suppliedId': 2,\n",
       " 'categoryId': 6,\n",
       " 'unitPrice': 969,\n",
       " 'name': 'Kalem',\n",
       " 'id': '5'}"
      ]
     },
     "execution_count": 21,
     "metadata": {},
     "output_type": "execute_result"
    }
   ],
   "source": [
    "productToUpdate = {\"suppliedId\":2, \"categoryId\":6, \"unitPrice\":969, \"name\":\"Kalem\"}\n",
    "updateProduct(\"5\",productToUpdate)"
   ]
  },
  {
   "cell_type": "code",
   "execution_count": 22,
   "id": "7a89300f-3793-48a1-857e-be2cab984a1c",
   "metadata": {},
   "outputs": [],
   "source": [
    "def updateProductbyPatch(id, product):\n",
    "    response = requests.patch(baseUrl+ \"/\"+str(id), json=product)\n",
    "    return response.json()"
   ]
  },
  {
   "cell_type": "code",
   "execution_count": 24,
   "id": "fdfeecfb-8eff-4c37-86c2-71ecd39afa93",
   "metadata": {},
   "outputs": [
    {
     "data": {
      "text/plain": [
       "{'id': '6',\n",
       " 'supplierId': 3,\n",
       " 'categoryId': 6,\n",
       " 'quantityPerUnit': '12 - 8 oz jars',\n",
       " 'unitPrice': 5555,\n",
       " 'unitsInStock': 120,\n",
       " 'unitsOnOrder': 0,\n",
       " 'reorderLevel': 25,\n",
       " 'discontinued': False,\n",
       " 'name': 'Kalem 100',\n",
       " 'suppliedId': 2}"
      ]
     },
     "execution_count": 24,
     "metadata": {},
     "output_type": "execute_result"
    }
   ],
   "source": [
    "productToUpdate = {\"suppliedId\":2, \"categoryId\":6, \"unitPrice\":5555, \"name\":\"Kalem 100\"}\n",
    "updateProductbyPatch(\"6\",productToUpdate)"
   ]
  },
  {
   "cell_type": "code",
   "execution_count": null,
   "id": "02286272-f1d7-4caa-82bc-9d04816d0067",
   "metadata": {},
   "outputs": [],
   "source": []
  }
 ],
 "metadata": {
  "kernelspec": {
   "display_name": "myPythonKernel.v1",
   "language": "python",
   "name": "mypythonkernel.v1"
  },
  "language_info": {
   "codemirror_mode": {
    "name": "ipython",
    "version": 3
   },
   "file_extension": ".py",
   "mimetype": "text/x-python",
   "name": "python",
   "nbconvert_exporter": "python",
   "pygments_lexer": "ipython3",
   "version": "3.12.8"
  }
 },
 "nbformat": 4,
 "nbformat_minor": 5
}
