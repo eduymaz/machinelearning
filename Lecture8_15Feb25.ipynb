{
 "cells": [
  {
   "cell_type": "code",
   "execution_count": 1,
   "id": "03735352-d43e-4cbb-9a37-e5dae24b24fe",
   "metadata": {
    "collapsed": true,
    "jupyter": {
     "outputs_hidden": true
    }
   },
   "outputs": [
    {
     "ename": "SyntaxError",
     "evalue": "invalid syntax (3097251797.py, line 1)",
     "output_type": "error",
     "traceback": [
      "\u001b[0;36m  Cell \u001b[0;32mIn[1], line 1\u001b[0;36m\u001b[0m\n\u001b[0;31m    select * from categories\u001b[0m\n\u001b[0m             ^\u001b[0m\n\u001b[0;31mSyntaxError\u001b[0m\u001b[0;31m:\u001b[0m invalid syntax\n"
     ]
    }
   ],
   "source": [
    "select * from categories\n",
    "select * from customers\n",
    "select * from employees\n",
    "select * from orders\n",
    "select * from order_details\n",
    "select * from products\n",
    "select * from shippers\n",
    "select * from suppliers\n",
    "\n",
    "select * from products where category_id=3 or category_id=4\n",
    "select * from products where category_id=3 and category_id=4 -- and bu tarz çalışmaz ama kullanımı budur\n",
    "\n",
    "select * from products where unit_price > 56\n",
    "select * from products where product_name = 'Carnarvon Tigers'\n",
    "select * from products where product_name like '%ef%'  \n",
    "-- (yüzde işareti ->) % linux sistemindeki * gibi\n",
    "-- ef% ef ile başlayanlar \n",
    "-- %ef ef ile bitenler\n",
    "-- %ef% başı sonu önemli değil ortada ef olsun\n",
    "\n",
    "select * from products where product_name like '%il%x%'\n",
    "select * from order_details\n",
    "\n",
    "select sum(quantity) from order_details  -- kaç ürün satmışız ?\n",
    "select sum(quantity*unit_price) from order_details  -- kaç para kazanmışız ?\n",
    "select avg(quantity*unit_price) from order_details\n",
    "select max(quantity*unit_price) from order_details\n",
    "select min(quantity*unit_price) from order_details -- en az para kazandığımız satış ?\n",
    "\n",
    "\n",
    "select distinct(city) from customers -- müşterilerin şehirleri tekrar etmesin istiyoruz \n",
    "select city from customers group by city -- yukarıdaki sorgu ile aynı şey demektir. \n",
    "\n",
    "select city as şehir,count(*) from customers group by city\n",
    "\n",
    "\n",
    "\n",
    "-- 1. Hangi üründen toplam kaçar dolar satış yapmışız? (ürün_id)\n",
    "-- 2. Hangi personel kaçar sipariş almış? (employee_id)\n",
    "-- 3. Hangi tedarikçinin kaçar ürünü var? (supplier_id)\n",
    "\n",
    "-- Q1. \n",
    "select product_id, sum(quantity*unit_price) from order_details group by product_id\n",
    "\n",
    "-- Q2. \n",
    "select employee_id, count(*) as total_orders from orders group by employee_id\n",
    "\n",
    "-- Q3. \n",
    "select supplier_id, count(*) as total_products from products group by supplier_id  "
   ]
  },
  {
   "cell_type": "code",
   "execution_count": null,
   "id": "616a33b5-93f8-4d92-9b40-dc8253cf8c10",
   "metadata": {},
   "outputs": [],
   "source": []
  }
 ],
 "metadata": {
  "kernelspec": {
   "display_name": "myPythonKernel.v1",
   "language": "python",
   "name": "mypythonkernel.v1"
  },
  "language_info": {
   "codemirror_mode": {
    "name": "ipython",
    "version": 3
   },
   "file_extension": ".py",
   "mimetype": "text/x-python",
   "name": "python",
   "nbconvert_exporter": "python",
   "pygments_lexer": "ipython3",
   "version": "3.12.8"
  }
 },
 "nbformat": 4,
 "nbformat_minor": 5
}
